{
 "cells": [
  {
   "cell_type": "markdown",
   "id": "4af47151",
   "metadata": {
    "papermill": {
     "duration": 0.007349,
     "end_time": "2023-11-30T06:23:22.921624",
     "exception": false,
     "start_time": "2023-11-30T06:23:22.914275",
     "status": "completed"
    },
    "pycharm": {
     "name": "#%% md\n"
    },
    "tags": []
   },
   "source": [
    "# Accessing Neuropixels Visual Coding Data\n",
    "\n",
    "## Tutorial overview\n",
    "\n",
    "This Jupyter notebook covers the various methods for accessing the Allen Institute Neuropixels Visual Coding dataset. We will go over how to request data, where it's stored, and what the various files contain.  If you're having trouble downloading the data, or you just want to know more about what's going on under the hood, this is a good place to start.\n",
    "\n",
    "Currently, we do not have a web interface for browsing through the available cells and experiments, as with the [two-photon imaging Visual Coding dataset](http://observatory.brain-map.org/visualcoding). Instead, the data must be retrieved through the AllenSDK (Python 3.6+), or via requests sent to [api.brain-map.org](http://mouse.brain-map.org/static/api).\n",
    "\n",
    "Functions related to data analysis will be covered in other tutorials. For a full list of available tutorials, see the [SDK documentation](https://allensdk.readthedocs.io/en/latest/visual_coding_neuropixels.html).\n",
    "\n",
    "## Options for data access\n",
    "\n",
    "The **`EcephysProjectCache` object of the AllenSDK** is the easiest way to interact with the data. This object abstracts away the details of on-disk file storage, and delivers the data to you as ready-to-analyze Python objects. The cache will automatically keep track of which files are stored locally, and will download additional files on an as-needed basis. Usually you won't need to worry about how these files are structured, but this tutorial will cover those details in case you want to analyze them without using the AllenSDK (e.g., in Matlab). This tutorial begins with <a href='#Using-the-AllenSDK-to-retrieve-data'>an introduction to this approach</a>.\n",
    "\n",
    "If you have an **Amazon Web Services (AWS)** account, you can use an `EcephysProjectCache` object to access the data via the Allen Brain Observatory Simple Storage Service (S3) bucket. This is an AWS Public Dataset located at `arn:aws:s3:::allen-brain-observatory` in region `us-west-2`. Launching a Jupyter notebook instance on AWS will allow you to access the complete dataset without having to download anything locally. This includes around 80 TB of raw data files, which are not accessible via the AllenSDK. The only drawback is that you'll need to pay for the time that your instance is running—but this can still be economical in many cases. A brief overview of this approach can be found <a href='#Accessing-data-on-AWS'>below</a>.\n",
    "\n",
    "A third option is to directly download the data via **api.brain-map.org**. This should be used only as a last resort if the other options are broken or are not available to you. Instructions for this can be found <a href='#Direct-download-via-api.brain-map.org'>at the end of this tutorial</a>."
   ]
  },
  {
   "cell_type": "markdown",
   "id": "87a7f7a8",
   "metadata": {
    "papermill": {
     "duration": 0.006367,
     "end_time": "2023-11-30T06:23:22.934556",
     "exception": false,
     "start_time": "2023-11-30T06:23:22.928189",
     "status": "completed"
    },
    "pycharm": {
     "name": "#%% md\n"
    },
    "tags": []
   },
   "source": [
    "## Using the AllenSDK to retrieve data"
   ]
  },
  {
   "cell_type": "markdown",
   "id": "fa74e2be",
   "metadata": {
    "papermill": {
     "duration": 0.006475,
     "end_time": "2023-11-30T06:23:22.947343",
     "exception": false,
     "start_time": "2023-11-30T06:23:22.940868",
     "status": "completed"
    },
    "pycharm": {
     "name": "#%% md\n"
    },
    "tags": []
   },
   "source": [
    "Most users will want to access data via the AllenSDK. This requires nothing more than a Python interpreter and some free disk space to store the data locally.\n",
    "\n",
    "How much data is there? If you want to download the complete dataset (58 experiments), you'll need 855 GB of space, split across the following files:\n",
    "\n",
    "1. CSV files containing information about sessions, probes, channels and units (58.1 MB)\n",
    "2. NWB files containing spike times, behavior data, and stimulus information for each session (146.5 GB total, min file size = 1.7 GB, max file size = 3.3 GB)\n",
    "3. NWB files containing LFP data for each probe (707 GB total, min file size = 0.9 GB, max file size = 2.7 GB)\n",
    "\n",
    "Before downloading the data, you must decide where the `manifest.json` file lives. This file serves as the map that guides the `EcephysProjectCache` object to the file locations.\n",
    "\n",
    "When you initialize a local cache for the first time, it will create the manifest file at the path that you specify. This file lives in the same directory as the rest of the data, so make sure you put it somewhere that has enough space available. \n",
    "\n",
    "When you need to access the data in subsequent analysis sessions, you should point the `EcephysProjectCache` object to an _existing_ `manifest.json` file; otherwise, it will try to re-download the data in a new location.\n",
    "\n",
    "To get started with this approach, first take care of the necessary imports:"
   ]
  },
  {
   "cell_type": "code",
   "execution_count": 1,
   "id": "8c3fba2b",
   "metadata": {
    "execution": {
     "iopub.execute_input": "2023-11-30T06:23:22.961105Z",
     "iopub.status.busy": "2023-11-30T06:23:22.960880Z",
     "iopub.status.idle": "2023-11-30T06:23:27.168628Z",
     "shell.execute_reply": "2023-11-30T06:23:27.167977Z"
    },
    "papermill": {
     "duration": 4.216733,
     "end_time": "2023-11-30T06:23:27.170380",
     "exception": false,
     "start_time": "2023-11-30T06:23:22.953647",
     "status": "completed"
    },
    "pycharm": {
     "name": "#%%\n"
    },
    "tags": []
   },
   "outputs": [],
   "source": [
    "import os\n",
    "import shutil\n",
    "import numpy as np\n",
    "import pandas as pd\n",
    "from pathlib import Path\n",
    "\n",
    "from allensdk.brain_observatory.ecephys.ecephys_project_cache import EcephysProjectCache"
   ]
  },
  {
   "cell_type": "markdown",
   "id": "9fe3b5b5",
   "metadata": {
    "papermill": {
     "duration": 0.006475,
     "end_time": "2023-11-30T06:23:27.183824",
     "exception": false,
     "start_time": "2023-11-30T06:23:27.177349",
     "status": "completed"
    },
    "pycharm": {
     "name": "#%% md\n"
    },
    "tags": []
   },
   "source": [
    "Next, we'll specify the location of the manifest file. If you're creating a cache for the first time, this file won't exist yet, but it _must_ be placed in an existing data directory. Remember to choose a location that has plenty of free space available."
   ]
  },
  {
   "cell_type": "code",
   "execution_count": 2,
   "id": "ed4b9fe8",
   "metadata": {
    "execution": {
     "iopub.execute_input": "2023-11-30T06:23:27.198375Z",
     "iopub.status.busy": "2023-11-30T06:23:27.197665Z",
     "iopub.status.idle": "2023-11-30T06:23:27.201149Z",
     "shell.execute_reply": "2023-11-30T06:23:27.200579Z"
    },
    "papermill": {
     "duration": 0.012164,
     "end_time": "2023-11-30T06:23:27.202538",
     "exception": false,
     "start_time": "2023-11-30T06:23:27.190374",
     "status": "completed"
    },
    "pycharm": {
     "name": "#%%\n"
    },
    "tags": [
     "parameters"
    ]
   },
   "outputs": [],
   "source": [
    "output_dir = '/srv/wu-lab/flash12/hjiang357/ecephys_cache_dir' # 设置为用户有写入权限的目录\n",
    "DOWNLOAD_COMPLETE_DATASET = True"
   ]
  },
  {
   "cell_type": "code",
   "execution_count": 3,
   "id": "00bd7b08",
   "metadata": {
    "execution": {
     "iopub.execute_input": "2023-11-30T06:23:27.235066Z",
     "iopub.status.busy": "2023-11-30T06:23:27.234690Z",
     "iopub.status.idle": "2023-11-30T06:23:27.237624Z",
     "shell.execute_reply": "2023-11-30T06:23:27.237062Z"
    },
    "papermill": {
     "duration": 0.011422,
     "end_time": "2023-11-30T06:23:27.238949",
     "exception": false,
     "start_time": "2023-11-30T06:23:27.227527",
     "status": "completed"
    },
    "pycharm": {
     "name": "#%%\n"
    },
    "tags": []
   },
   "outputs": [],
   "source": [
    "manifest_path = os.path.join(output_dir, \"manifest.json\")"
   ]
  },
  {
   "cell_type": "markdown",
   "id": "805ed1fa",
   "metadata": {
    "papermill": {
     "duration": 0.006453,
     "end_time": "2023-11-30T06:23:27.251971",
     "exception": false,
     "start_time": "2023-11-30T06:23:27.245518",
     "status": "completed"
    },
    "pycharm": {
     "name": "#%% md\n"
    },
    "tags": []
   },
   "source": [
    "Now we can create the cache object, specifying both the local storage directory (the `manifest_path`) and the remote storage location (the Allen Institute data warehouse)."
   ]
  },
  {
   "cell_type": "code",
   "execution_count": 4,
   "id": "5260b891",
   "metadata": {},
   "outputs": [
    {
     "name": "stdout",
     "output_type": "stream",
     "text": [
      "\n"
     ]
    }
   ],
   "source": [
    "!echo $TMPDIR"
   ]
  },
  {
   "cell_type": "code",
   "execution_count": 5,
   "id": "205cd199",
   "metadata": {
    "execution": {
     "iopub.execute_input": "2023-11-30T06:23:27.266056Z",
     "iopub.status.busy": "2023-11-30T06:23:27.265647Z",
     "iopub.status.idle": "2023-11-30T06:23:27.269325Z",
     "shell.execute_reply": "2023-11-30T06:23:27.268708Z"
    },
    "papermill": {
     "duration": 0.012288,
     "end_time": "2023-11-30T06:23:27.270770",
     "exception": false,
     "start_time": "2023-11-30T06:23:27.258482",
     "status": "completed"
    },
    "pycharm": {
     "name": "#%%\n"
    },
    "tags": []
   },
   "outputs": [],
   "source": [
    "cache = EcephysProjectCache.from_warehouse(manifest=manifest_path)"
   ]
  },
  {
   "cell_type": "markdown",
   "id": "08bca1f1",
   "metadata": {
    "papermill": {
     "duration": 0.006512,
     "end_time": "2023-11-30T06:23:27.283867",
     "exception": false,
     "start_time": "2023-11-30T06:23:27.277355",
     "status": "completed"
    },
    "pycharm": {
     "name": "#%% md\n"
    },
    "tags": []
   },
   "source": [
    "This will prepare the cache to download four files:\n",
    "\n",
    "1. `sessions.csv` (7.8 kB)\n",
    "2. `probes.csv` (27.0 kB)\n",
    "3. `channels.csv` (6.6 MB)\n",
    "4. `units.csv` (51.4 MB)\n",
    "\n",
    "Each one contains a table of information related to its file name. If you're using the AllenSDK, you won't have to worry about how these files are formatted. Instead, you'll load the relevant data using specific accessor functions: `get_session_table()`, `get_probes()`, `get_channels()`, and `get_units()`. These functions return a [pandas DataFrame](https://pandas.pydata.org/pandas-docs/stable/reference/frame.html?highlight=dataframe) containing a row for each item and a column for each metric.\n",
    "\n",
    "If you are analyzing data without using the AllenSDK, you can load the data using your CSV file reader of choice. However, please be aware the columns in the original file do not necessarily match what's returned by the AllenSDK, which may combine information from multiple files to produce the final DataFrame.\n",
    "\n",
    "Let's take a closer look at what's in the `sessions.csv` file:"
   ]
  },
  {
   "cell_type": "code",
   "execution_count": 6,
   "id": "51c27283",
   "metadata": {
    "execution": {
     "iopub.execute_input": "2023-11-30T06:23:27.297906Z",
     "iopub.status.busy": "2023-11-30T06:23:27.297515Z",
     "iopub.status.idle": "2023-11-30T06:27:16.881043Z",
     "shell.execute_reply": "2023-11-30T06:27:16.880287Z"
    },
    "papermill": {
     "duration": 229.59866,
     "end_time": "2023-11-30T06:27:16.889009",
     "exception": false,
     "start_time": "2023-11-30T06:23:27.290349",
     "status": "completed"
    },
    "pycharm": {
     "name": "#%%\n"
    },
    "tags": []
   },
   "outputs": [
    {
     "name": "stdout",
     "output_type": "stream",
     "text": [
      "Total number of sessions: 58\n"
     ]
    },
    {
     "data": {
      "text/html": [
       "<div>\n",
       "<style scoped>\n",
       "    .dataframe tbody tr th:only-of-type {\n",
       "        vertical-align: middle;\n",
       "    }\n",
       "\n",
       "    .dataframe tbody tr th {\n",
       "        vertical-align: top;\n",
       "    }\n",
       "\n",
       "    .dataframe thead th {\n",
       "        text-align: right;\n",
       "    }\n",
       "</style>\n",
       "<table border=\"1\" class=\"dataframe\">\n",
       "  <thead>\n",
       "    <tr style=\"text-align: right;\">\n",
       "      <th></th>\n",
       "      <th>published_at</th>\n",
       "      <th>specimen_id</th>\n",
       "      <th>session_type</th>\n",
       "      <th>age_in_days</th>\n",
       "      <th>sex</th>\n",
       "      <th>full_genotype</th>\n",
       "      <th>unit_count</th>\n",
       "      <th>channel_count</th>\n",
       "      <th>probe_count</th>\n",
       "      <th>ecephys_structure_acronyms</th>\n",
       "    </tr>\n",
       "    <tr>\n",
       "      <th>id</th>\n",
       "      <th></th>\n",
       "      <th></th>\n",
       "      <th></th>\n",
       "      <th></th>\n",
       "      <th></th>\n",
       "      <th></th>\n",
       "      <th></th>\n",
       "      <th></th>\n",
       "      <th></th>\n",
       "      <th></th>\n",
       "    </tr>\n",
       "  </thead>\n",
       "  <tbody>\n",
       "    <tr>\n",
       "      <th>715093703</th>\n",
       "      <td>2019-10-03T00:00:00Z</td>\n",
       "      <td>699733581</td>\n",
       "      <td>brain_observatory_1.1</td>\n",
       "      <td>118.0</td>\n",
       "      <td>M</td>\n",
       "      <td>Sst-IRES-Cre/wt;Ai32(RCL-ChR2(H134R)_EYFP)/wt</td>\n",
       "      <td>884</td>\n",
       "      <td>2219</td>\n",
       "      <td>6</td>\n",
       "      <td>[CA1, VISrl, nan, PO, LP, LGd, CA3, DG, VISl, ...</td>\n",
       "    </tr>\n",
       "    <tr>\n",
       "      <th>719161530</th>\n",
       "      <td>2019-10-03T00:00:00Z</td>\n",
       "      <td>703279284</td>\n",
       "      <td>brain_observatory_1.1</td>\n",
       "      <td>122.0</td>\n",
       "      <td>M</td>\n",
       "      <td>Sst-IRES-Cre/wt;Ai32(RCL-ChR2(H134R)_EYFP)/wt</td>\n",
       "      <td>755</td>\n",
       "      <td>2214</td>\n",
       "      <td>6</td>\n",
       "      <td>[TH, Eth, APN, POL, LP, DG, CA1, VISpm, nan, N...</td>\n",
       "    </tr>\n",
       "    <tr>\n",
       "      <th>721123822</th>\n",
       "      <td>2019-10-03T00:00:00Z</td>\n",
       "      <td>707296982</td>\n",
       "      <td>brain_observatory_1.1</td>\n",
       "      <td>125.0</td>\n",
       "      <td>M</td>\n",
       "      <td>Pvalb-IRES-Cre/wt;Ai32(RCL-ChR2(H134R)_EYFP)/wt</td>\n",
       "      <td>444</td>\n",
       "      <td>2229</td>\n",
       "      <td>6</td>\n",
       "      <td>[MB, SCig, PPT, NOT, DG, CA1, VISam, nan, LP, ...</td>\n",
       "    </tr>\n",
       "    <tr>\n",
       "      <th>732592105</th>\n",
       "      <td>2019-10-03T00:00:00Z</td>\n",
       "      <td>717038288</td>\n",
       "      <td>brain_observatory_1.1</td>\n",
       "      <td>100.0</td>\n",
       "      <td>M</td>\n",
       "      <td>wt/wt</td>\n",
       "      <td>824</td>\n",
       "      <td>1847</td>\n",
       "      <td>5</td>\n",
       "      <td>[grey, VISpm, nan, VISp, VISl, VISal, VISrl]</td>\n",
       "    </tr>\n",
       "    <tr>\n",
       "      <th>737581020</th>\n",
       "      <td>2019-10-03T00:00:00Z</td>\n",
       "      <td>718643567</td>\n",
       "      <td>brain_observatory_1.1</td>\n",
       "      <td>108.0</td>\n",
       "      <td>M</td>\n",
       "      <td>wt/wt</td>\n",
       "      <td>568</td>\n",
       "      <td>2218</td>\n",
       "      <td>6</td>\n",
       "      <td>[grey, VISmma, nan, VISpm, VISp, VISl, VISrl]</td>\n",
       "    </tr>\n",
       "  </tbody>\n",
       "</table>\n",
       "</div>"
      ],
      "text/plain": [
       "                   published_at  specimen_id           session_type  \\\n",
       "id                                                                    \n",
       "715093703  2019-10-03T00:00:00Z    699733581  brain_observatory_1.1   \n",
       "719161530  2019-10-03T00:00:00Z    703279284  brain_observatory_1.1   \n",
       "721123822  2019-10-03T00:00:00Z    707296982  brain_observatory_1.1   \n",
       "732592105  2019-10-03T00:00:00Z    717038288  brain_observatory_1.1   \n",
       "737581020  2019-10-03T00:00:00Z    718643567  brain_observatory_1.1   \n",
       "\n",
       "           age_in_days sex                                    full_genotype  \\\n",
       "id                                                                            \n",
       "715093703        118.0   M    Sst-IRES-Cre/wt;Ai32(RCL-ChR2(H134R)_EYFP)/wt   \n",
       "719161530        122.0   M    Sst-IRES-Cre/wt;Ai32(RCL-ChR2(H134R)_EYFP)/wt   \n",
       "721123822        125.0   M  Pvalb-IRES-Cre/wt;Ai32(RCL-ChR2(H134R)_EYFP)/wt   \n",
       "732592105        100.0   M                                            wt/wt   \n",
       "737581020        108.0   M                                            wt/wt   \n",
       "\n",
       "           unit_count  channel_count  probe_count  \\\n",
       "id                                                  \n",
       "715093703         884           2219            6   \n",
       "719161530         755           2214            6   \n",
       "721123822         444           2229            6   \n",
       "732592105         824           1847            5   \n",
       "737581020         568           2218            6   \n",
       "\n",
       "                                  ecephys_structure_acronyms  \n",
       "id                                                            \n",
       "715093703  [CA1, VISrl, nan, PO, LP, LGd, CA3, DG, VISl, ...  \n",
       "719161530  [TH, Eth, APN, POL, LP, DG, CA1, VISpm, nan, N...  \n",
       "721123822  [MB, SCig, PPT, NOT, DG, CA1, VISam, nan, LP, ...  \n",
       "732592105       [grey, VISpm, nan, VISp, VISl, VISal, VISrl]  \n",
       "737581020      [grey, VISmma, nan, VISpm, VISp, VISl, VISrl]  "
      ]
     },
     "execution_count": 6,
     "metadata": {},
     "output_type": "execute_result"
    }
   ],
   "source": [
    "sessions = cache.get_session_table()\n",
    "\n",
    "print('Total number of sessions: ' + str(len(sessions)))\n",
    "\n",
    "sessions.head()\n",
    "\n"
   ]
  },
  {
   "cell_type": "code",
   "execution_count": 8,
   "id": "2a710a38",
   "metadata": {},
   "outputs": [],
   "source": [
    "region_list = list()"
   ]
  },
  {
   "cell_type": "code",
   "execution_count": 9,
   "id": "ab356740",
   "metadata": {},
   "outputs": [],
   "source": [
    "for session_id in sessions.index:\n",
    "    # 对于所有会话，获取所有唯一区域\n",
    "    unique_regions = set(sessions.loc[session_id, 'ecephys_structure_acronyms'])\n",
    "    # 添加到region_list\n",
    "    region_list.extend(unique_regions)\n",
    "# region_list\n"
   ]
  },
  {
   "cell_type": "markdown",
   "id": "59727a12",
   "metadata": {
    "papermill": {
     "duration": 0.006816,
     "end_time": "2023-11-30T06:27:16.902711",
     "exception": false,
     "start_time": "2023-11-30T06:27:16.895895",
     "status": "completed"
    },
    "pycharm": {
     "name": "#%% md\n"
    },
    "tags": []
   },
   "source": [
    "The `sessions` DataFrame provides a high-level overview of the Neuropixels Visual Coding dataset. The index column is a unique ID, which serves as a key for accessing the physiology data for each session. The other columns contain information about:\n",
    "\n",
    "- the session type (i.e., which stimulus set was shown?)\n",
    "- the age, sex, and genotype of the mouse (in this dataset, there's only one session per mouse)\n",
    "- the number of probes, channels, and units for each session\n",
    "- the brain structures recorded (CCFv3 acronyms)\n",
    "\n",
    "If we want to find all of recordings from male Sst-Cre mice that viewed the Brain Observatory 1.1 stimulus and contain units from area LM, we can use the following query:"
   ]
  },
  {
   "cell_type": "code",
   "execution_count": 52,
   "id": "5cd29a20",
   "metadata": {
    "execution": {
     "iopub.execute_input": "2023-11-30T06:27:16.917345Z",
     "iopub.status.busy": "2023-11-30T06:27:16.916907Z",
     "iopub.status.idle": "2023-11-30T06:27:16.929159Z",
     "shell.execute_reply": "2023-11-30T06:27:16.928601Z"
    },
    "papermill": {
     "duration": 0.021114,
     "end_time": "2023-11-30T06:27:16.930525",
     "exception": false,
     "start_time": "2023-11-30T06:27:16.909411",
     "status": "completed"
    },
    "pycharm": {
     "name": "#%%\n"
    },
    "tags": []
   },
   "outputs": [
    {
     "data": {
      "text/html": [
       "<div>\n",
       "<style scoped>\n",
       "    .dataframe tbody tr th:only-of-type {\n",
       "        vertical-align: middle;\n",
       "    }\n",
       "\n",
       "    .dataframe tbody tr th {\n",
       "        vertical-align: top;\n",
       "    }\n",
       "\n",
       "    .dataframe thead th {\n",
       "        text-align: right;\n",
       "    }\n",
       "</style>\n",
       "<table border=\"1\" class=\"dataframe\">\n",
       "  <thead>\n",
       "    <tr style=\"text-align: right;\">\n",
       "      <th></th>\n",
       "      <th>published_at</th>\n",
       "      <th>specimen_id</th>\n",
       "      <th>session_type</th>\n",
       "      <th>age_in_days</th>\n",
       "      <th>sex</th>\n",
       "      <th>full_genotype</th>\n",
       "      <th>unit_count</th>\n",
       "      <th>channel_count</th>\n",
       "      <th>probe_count</th>\n",
       "      <th>ecephys_structure_acronyms</th>\n",
       "    </tr>\n",
       "    <tr>\n",
       "      <th>id</th>\n",
       "      <th></th>\n",
       "      <th></th>\n",
       "      <th></th>\n",
       "      <th></th>\n",
       "      <th></th>\n",
       "      <th></th>\n",
       "      <th></th>\n",
       "      <th></th>\n",
       "      <th></th>\n",
       "      <th></th>\n",
       "    </tr>\n",
       "  </thead>\n",
       "  <tbody>\n",
       "    <tr>\n",
       "      <th>719161530</th>\n",
       "      <td>2019-10-03T00:00:00Z</td>\n",
       "      <td>703279284</td>\n",
       "      <td>brain_observatory_1.1</td>\n",
       "      <td>122.0</td>\n",
       "      <td>M</td>\n",
       "      <td>Sst-IRES-Cre/wt;Ai32(RCL-ChR2(H134R)_EYFP)/wt</td>\n",
       "      <td>755</td>\n",
       "      <td>2214</td>\n",
       "      <td>6</td>\n",
       "      <td>[TH, Eth, APN, POL, LP, DG, CA1, VISpm, nan, N...</td>\n",
       "    </tr>\n",
       "    <tr>\n",
       "      <th>756029989</th>\n",
       "      <td>2019-10-03T00:00:00Z</td>\n",
       "      <td>734865738</td>\n",
       "      <td>brain_observatory_1.1</td>\n",
       "      <td>96.0</td>\n",
       "      <td>M</td>\n",
       "      <td>Sst-IRES-Cre/wt;Ai32(RCL-ChR2(H134R)_EYFP)/wt</td>\n",
       "      <td>684</td>\n",
       "      <td>2214</td>\n",
       "      <td>6</td>\n",
       "      <td>[TH, DG, CA3, CA1, VISl, nan, PO, Eth, LP, VIS...</td>\n",
       "    </tr>\n",
       "    <tr>\n",
       "      <th>758798717</th>\n",
       "      <td>2019-10-03T00:00:00Z</td>\n",
       "      <td>735109609</td>\n",
       "      <td>brain_observatory_1.1</td>\n",
       "      <td>102.0</td>\n",
       "      <td>M</td>\n",
       "      <td>Sst-IRES-Cre/wt;Ai32(RCL-ChR2(H134R)_EYFP)/wt</td>\n",
       "      <td>593</td>\n",
       "      <td>1486</td>\n",
       "      <td>4</td>\n",
       "      <td>[MGv, MGd, TH, DG, CA1, VISal, nan, SGN, LP, S...</td>\n",
       "    </tr>\n",
       "  </tbody>\n",
       "</table>\n",
       "</div>"
      ],
      "text/plain": [
       "                   published_at  specimen_id           session_type  \\\n",
       "id                                                                    \n",
       "719161530  2019-10-03T00:00:00Z    703279284  brain_observatory_1.1   \n",
       "756029989  2019-10-03T00:00:00Z    734865738  brain_observatory_1.1   \n",
       "758798717  2019-10-03T00:00:00Z    735109609  brain_observatory_1.1   \n",
       "\n",
       "           age_in_days sex                                  full_genotype  \\\n",
       "id                                                                          \n",
       "719161530        122.0   M  Sst-IRES-Cre/wt;Ai32(RCL-ChR2(H134R)_EYFP)/wt   \n",
       "756029989         96.0   M  Sst-IRES-Cre/wt;Ai32(RCL-ChR2(H134R)_EYFP)/wt   \n",
       "758798717        102.0   M  Sst-IRES-Cre/wt;Ai32(RCL-ChR2(H134R)_EYFP)/wt   \n",
       "\n",
       "           unit_count  channel_count  probe_count  \\\n",
       "id                                                  \n",
       "719161530         755           2214            6   \n",
       "756029989         684           2214            6   \n",
       "758798717         593           1486            4   \n",
       "\n",
       "                                  ecephys_structure_acronyms  \n",
       "id                                                            \n",
       "719161530  [TH, Eth, APN, POL, LP, DG, CA1, VISpm, nan, N...  \n",
       "756029989  [TH, DG, CA3, CA1, VISl, nan, PO, Eth, LP, VIS...  \n",
       "758798717  [MGv, MGd, TH, DG, CA1, VISal, nan, SGN, LP, S...  "
      ]
     },
     "execution_count": 52,
     "metadata": {},
     "output_type": "execute_result"
    }
   ],
   "source": [
    "filtered_sessions_al = sessions[(sessions.sex == 'M') & \\\n",
    "                             (sessions.full_genotype.str.find('Sst') > -1) & \\\n",
    "                             (sessions.session_type == 'brain_observatory_1.1') & \\\n",
    "                             (['VISal' in acronyms for acronyms in \n",
    "                               sessions.ecephys_structure_acronyms])]\n",
    "\n",
    "filtered_sessions_al\n",
    "\n"
   ]
  },
  {
   "cell_type": "code",
   "execution_count": 54,
   "id": "a635ecb3",
   "metadata": {},
   "outputs": [
    {
     "data": {
      "text/html": [
       "<div>\n",
       "<style scoped>\n",
       "    .dataframe tbody tr th:only-of-type {\n",
       "        vertical-align: middle;\n",
       "    }\n",
       "\n",
       "    .dataframe tbody tr th {\n",
       "        vertical-align: top;\n",
       "    }\n",
       "\n",
       "    .dataframe thead th {\n",
       "        text-align: right;\n",
       "    }\n",
       "</style>\n",
       "<table border=\"1\" class=\"dataframe\">\n",
       "  <thead>\n",
       "    <tr style=\"text-align: right;\">\n",
       "      <th></th>\n",
       "      <th>published_at</th>\n",
       "      <th>specimen_id</th>\n",
       "      <th>session_type</th>\n",
       "      <th>age_in_days</th>\n",
       "      <th>sex</th>\n",
       "      <th>full_genotype</th>\n",
       "      <th>unit_count</th>\n",
       "      <th>channel_count</th>\n",
       "      <th>probe_count</th>\n",
       "      <th>ecephys_structure_acronyms</th>\n",
       "    </tr>\n",
       "    <tr>\n",
       "      <th>id</th>\n",
       "      <th></th>\n",
       "      <th></th>\n",
       "      <th></th>\n",
       "      <th></th>\n",
       "      <th></th>\n",
       "      <th></th>\n",
       "      <th></th>\n",
       "      <th></th>\n",
       "      <th></th>\n",
       "      <th></th>\n",
       "    </tr>\n",
       "  </thead>\n",
       "  <tbody>\n",
       "    <tr>\n",
       "      <th>715093703</th>\n",
       "      <td>2019-10-03T00:00:00Z</td>\n",
       "      <td>699733581</td>\n",
       "      <td>brain_observatory_1.1</td>\n",
       "      <td>118.0</td>\n",
       "      <td>M</td>\n",
       "      <td>Sst-IRES-Cre/wt;Ai32(RCL-ChR2(H134R)_EYFP)/wt</td>\n",
       "      <td>884</td>\n",
       "      <td>2219</td>\n",
       "      <td>6</td>\n",
       "      <td>[CA1, VISrl, nan, PO, LP, LGd, CA3, DG, VISl, ...</td>\n",
       "    </tr>\n",
       "    <tr>\n",
       "      <th>719161530</th>\n",
       "      <td>2019-10-03T00:00:00Z</td>\n",
       "      <td>703279284</td>\n",
       "      <td>brain_observatory_1.1</td>\n",
       "      <td>122.0</td>\n",
       "      <td>M</td>\n",
       "      <td>Sst-IRES-Cre/wt;Ai32(RCL-ChR2(H134R)_EYFP)/wt</td>\n",
       "      <td>755</td>\n",
       "      <td>2214</td>\n",
       "      <td>6</td>\n",
       "      <td>[TH, Eth, APN, POL, LP, DG, CA1, VISpm, nan, N...</td>\n",
       "    </tr>\n",
       "    <tr>\n",
       "      <th>756029989</th>\n",
       "      <td>2019-10-03T00:00:00Z</td>\n",
       "      <td>734865738</td>\n",
       "      <td>brain_observatory_1.1</td>\n",
       "      <td>96.0</td>\n",
       "      <td>M</td>\n",
       "      <td>Sst-IRES-Cre/wt;Ai32(RCL-ChR2(H134R)_EYFP)/wt</td>\n",
       "      <td>684</td>\n",
       "      <td>2214</td>\n",
       "      <td>6</td>\n",
       "      <td>[TH, DG, CA3, CA1, VISl, nan, PO, Eth, LP, VIS...</td>\n",
       "    </tr>\n",
       "    <tr>\n",
       "      <th>758798717</th>\n",
       "      <td>2019-10-03T00:00:00Z</td>\n",
       "      <td>735109609</td>\n",
       "      <td>brain_observatory_1.1</td>\n",
       "      <td>102.0</td>\n",
       "      <td>M</td>\n",
       "      <td>Sst-IRES-Cre/wt;Ai32(RCL-ChR2(H134R)_EYFP)/wt</td>\n",
       "      <td>593</td>\n",
       "      <td>1486</td>\n",
       "      <td>4</td>\n",
       "      <td>[MGv, MGd, TH, DG, CA1, VISal, nan, SGN, LP, S...</td>\n",
       "    </tr>\n",
       "  </tbody>\n",
       "</table>\n",
       "</div>"
      ],
      "text/plain": [
       "                   published_at  specimen_id           session_type  \\\n",
       "id                                                                    \n",
       "715093703  2019-10-03T00:00:00Z    699733581  brain_observatory_1.1   \n",
       "719161530  2019-10-03T00:00:00Z    703279284  brain_observatory_1.1   \n",
       "756029989  2019-10-03T00:00:00Z    734865738  brain_observatory_1.1   \n",
       "758798717  2019-10-03T00:00:00Z    735109609  brain_observatory_1.1   \n",
       "\n",
       "           age_in_days sex                                  full_genotype  \\\n",
       "id                                                                          \n",
       "715093703        118.0   M  Sst-IRES-Cre/wt;Ai32(RCL-ChR2(H134R)_EYFP)/wt   \n",
       "719161530        122.0   M  Sst-IRES-Cre/wt;Ai32(RCL-ChR2(H134R)_EYFP)/wt   \n",
       "756029989         96.0   M  Sst-IRES-Cre/wt;Ai32(RCL-ChR2(H134R)_EYFP)/wt   \n",
       "758798717        102.0   M  Sst-IRES-Cre/wt;Ai32(RCL-ChR2(H134R)_EYFP)/wt   \n",
       "\n",
       "           unit_count  channel_count  probe_count  \\\n",
       "id                                                  \n",
       "715093703         884           2219            6   \n",
       "719161530         755           2214            6   \n",
       "756029989         684           2214            6   \n",
       "758798717         593           1486            4   \n",
       "\n",
       "                                  ecephys_structure_acronyms  \n",
       "id                                                            \n",
       "715093703  [CA1, VISrl, nan, PO, LP, LGd, CA3, DG, VISl, ...  \n",
       "719161530  [TH, Eth, APN, POL, LP, DG, CA1, VISpm, nan, N...  \n",
       "756029989  [TH, DG, CA3, CA1, VISl, nan, PO, Eth, LP, VIS...  \n",
       "758798717  [MGv, MGd, TH, DG, CA1, VISal, nan, SGN, LP, S...  "
      ]
     },
     "execution_count": 54,
     "metadata": {},
     "output_type": "execute_result"
    }
   ],
   "source": [
    "filtered_sessions_pm = sessions[(sessions.sex == 'M') & \\\n",
    "                             (sessions.full_genotype.str.find('Sst') > -1) & \\\n",
    "                             (sessions.session_type == 'brain_observatory_1.1') & \\\n",
    "                             (['VISpm' in acronyms for acronyms in \n",
    "                               sessions.ecephys_structure_acronyms])]\n",
    "filtered_sessions_pm"
   ]
  },
  {
   "cell_type": "markdown",
   "id": "b3fccb38",
   "metadata": {
    "papermill": {
     "duration": 0.006943,
     "end_time": "2023-11-30T06:27:16.944460",
     "exception": false,
     "start_time": "2023-11-30T06:27:16.937517",
     "status": "completed"
    },
    "pycharm": {
     "name": "#%% md\n"
    },
    "tags": []
   },
   "source": [
    "The `filtered_sessions` table contains the three sessions that meet these criteria.\n",
    "\n",
    "The code above uses standard syntax for filtering pandas DataFrames. If this is unfamiliar to you, we strongly recommend reading through the [pandas documentation](https://pandas.pydata.org/pandas-docs/stable/). The AllenSDK makes heavy use of pandas objects, so we don't have to come up with our own functions for working with tabular data.\n",
    "\n",
    "Let's take a look at another DataFrame, extracted from the `probes.csv` file."
   ]
  },
  {
   "cell_type": "code",
   "execution_count": 11,
   "id": "ea9c63b2",
   "metadata": {
    "execution": {
     "iopub.execute_input": "2023-11-30T06:27:16.959340Z",
     "iopub.status.busy": "2023-11-30T06:27:16.958965Z",
     "iopub.status.idle": "2023-11-30T06:27:17.602584Z",
     "shell.execute_reply": "2023-11-30T06:27:17.601826Z"
    },
    "papermill": {
     "duration": 0.652684,
     "end_time": "2023-11-30T06:27:17.604010",
     "exception": false,
     "start_time": "2023-11-30T06:27:16.951326",
     "status": "completed"
    },
    "pycharm": {
     "name": "#%%\n"
    },
    "tags": []
   },
   "outputs": [
    {
     "name": "stdout",
     "output_type": "stream",
     "text": [
      "Total number of probes: 332\n"
     ]
    },
    {
     "data": {
      "text/html": [
       "<div>\n",
       "<style scoped>\n",
       "    .dataframe tbody tr th:only-of-type {\n",
       "        vertical-align: middle;\n",
       "    }\n",
       "\n",
       "    .dataframe tbody tr th {\n",
       "        vertical-align: top;\n",
       "    }\n",
       "\n",
       "    .dataframe thead th {\n",
       "        text-align: right;\n",
       "    }\n",
       "</style>\n",
       "<table border=\"1\" class=\"dataframe\">\n",
       "  <thead>\n",
       "    <tr style=\"text-align: right;\">\n",
       "      <th></th>\n",
       "      <th>ecephys_session_id</th>\n",
       "      <th>lfp_sampling_rate</th>\n",
       "      <th>name</th>\n",
       "      <th>phase</th>\n",
       "      <th>sampling_rate</th>\n",
       "      <th>has_lfp_data</th>\n",
       "      <th>unit_count</th>\n",
       "      <th>channel_count</th>\n",
       "      <th>ecephys_structure_acronyms</th>\n",
       "    </tr>\n",
       "    <tr>\n",
       "      <th>id</th>\n",
       "      <th></th>\n",
       "      <th></th>\n",
       "      <th></th>\n",
       "      <th></th>\n",
       "      <th></th>\n",
       "      <th></th>\n",
       "      <th></th>\n",
       "      <th></th>\n",
       "      <th></th>\n",
       "    </tr>\n",
       "  </thead>\n",
       "  <tbody>\n",
       "    <tr>\n",
       "      <th>729445648</th>\n",
       "      <td>719161530</td>\n",
       "      <td>1249.998642</td>\n",
       "      <td>probeA</td>\n",
       "      <td>3a</td>\n",
       "      <td>29999.967418</td>\n",
       "      <td>True</td>\n",
       "      <td>87</td>\n",
       "      <td>374</td>\n",
       "      <td>[APN, LP, MB, DG, CA1, VISam, nan]</td>\n",
       "    </tr>\n",
       "    <tr>\n",
       "      <th>729445650</th>\n",
       "      <td>719161530</td>\n",
       "      <td>1249.996620</td>\n",
       "      <td>probeB</td>\n",
       "      <td>3a</td>\n",
       "      <td>29999.918880</td>\n",
       "      <td>True</td>\n",
       "      <td>202</td>\n",
       "      <td>368</td>\n",
       "      <td>[TH, Eth, APN, POL, LP, DG, CA1, VISpm, nan]</td>\n",
       "    </tr>\n",
       "    <tr>\n",
       "      <th>729445652</th>\n",
       "      <td>719161530</td>\n",
       "      <td>1249.999897</td>\n",
       "      <td>probeC</td>\n",
       "      <td>3a</td>\n",
       "      <td>29999.997521</td>\n",
       "      <td>True</td>\n",
       "      <td>207</td>\n",
       "      <td>373</td>\n",
       "      <td>[APN, NOT, MB, DG, SUB, VISp, nan]</td>\n",
       "    </tr>\n",
       "    <tr>\n",
       "      <th>729445654</th>\n",
       "      <td>719161530</td>\n",
       "      <td>1249.996707</td>\n",
       "      <td>probeD</td>\n",
       "      <td>3a</td>\n",
       "      <td>29999.920963</td>\n",
       "      <td>True</td>\n",
       "      <td>93</td>\n",
       "      <td>358</td>\n",
       "      <td>[grey, VL, CA3, CA2, CA1, VISl, nan]</td>\n",
       "    </tr>\n",
       "    <tr>\n",
       "      <th>729445656</th>\n",
       "      <td>719161530</td>\n",
       "      <td>1249.999979</td>\n",
       "      <td>probeE</td>\n",
       "      <td>3a</td>\n",
       "      <td>29999.999500</td>\n",
       "      <td>True</td>\n",
       "      <td>138</td>\n",
       "      <td>370</td>\n",
       "      <td>[PO, VPM, TH, LP, LGd, CA3, DG, CA1, VISal, nan]</td>\n",
       "    </tr>\n",
       "  </tbody>\n",
       "</table>\n",
       "</div>"
      ],
      "text/plain": [
       "           ecephys_session_id  lfp_sampling_rate    name phase  sampling_rate  \\\n",
       "id                                                                              \n",
       "729445648           719161530        1249.998642  probeA    3a   29999.967418   \n",
       "729445650           719161530        1249.996620  probeB    3a   29999.918880   \n",
       "729445652           719161530        1249.999897  probeC    3a   29999.997521   \n",
       "729445654           719161530        1249.996707  probeD    3a   29999.920963   \n",
       "729445656           719161530        1249.999979  probeE    3a   29999.999500   \n",
       "\n",
       "           has_lfp_data  unit_count  channel_count  \\\n",
       "id                                                   \n",
       "729445648          True          87            374   \n",
       "729445650          True         202            368   \n",
       "729445652          True         207            373   \n",
       "729445654          True          93            358   \n",
       "729445656          True         138            370   \n",
       "\n",
       "                                 ecephys_structure_acronyms  \n",
       "id                                                           \n",
       "729445648                [APN, LP, MB, DG, CA1, VISam, nan]  \n",
       "729445650      [TH, Eth, APN, POL, LP, DG, CA1, VISpm, nan]  \n",
       "729445652                [APN, NOT, MB, DG, SUB, VISp, nan]  \n",
       "729445654              [grey, VL, CA3, CA2, CA1, VISl, nan]  \n",
       "729445656  [PO, VPM, TH, LP, LGd, CA3, DG, CA1, VISal, nan]  "
      ]
     },
     "execution_count": 11,
     "metadata": {},
     "output_type": "execute_result"
    }
   ],
   "source": [
    "probes = cache.get_probes()\n",
    "\n",
    "print('Total number of probes: ' + str(len(probes)))\n",
    "\n",
    "probes.head()"
   ]
  },
  {
   "cell_type": "markdown",
   "id": "aa5218fc",
   "metadata": {
    "papermill": {
     "duration": 0.007107,
     "end_time": "2023-11-30T06:27:17.618986",
     "exception": false,
     "start_time": "2023-11-30T06:27:17.611879",
     "status": "completed"
    },
    "pycharm": {
     "name": "#%% md\n"
    },
    "tags": []
   },
   "source": [
    "The `probes` DataFrame contains information about the Neuropixels probes used across all recordings. Each row represents one probe from one recording session, even though the physical probes may have been used in multiple sessions. Some of the important columns are:\n",
    "\n",
    "- `ecephys_session_id`: the index column of the `sessions` table\n",
    "- `sampling_rate`: the sampling rate (in Hz) for this probe's spike band; note that each probe has a unique sampling rate around 30 kHz. The small variations in sampling rate across probes can add up to large offsets over time, so it's critical to take these differences into account. However, all of the data you will interact with has been pre-aligned to a common clock, so this value is included only for reference purposes.\n",
    "- `lfp_sampling_rate`: the sampling rate (in Hz) for this probe's LFP band NWB files, after 2x downsampling from the original rate of 2.5 kHz\n",
    "- `name`: the probe name is assigned based on the location of the probe on the recording rig. This is useful to keep in mind because probes with the same name are always targeted to the same cortical region and enter the brain from the same angle (`probeA` = AM, `probeB` = PM, `probeC` = V1, `probeD` = LM, `probeE` = AL, `probeF` = RL). However, the targeting is not always accurate, so the actual recorded region may be different.\n",
    "- `phase`: the data may have been generated by one of two \"phases\" of Neuropixels probes. **3a** = prototype version; **PXI** = publicly available version (\"Neuropixels 1.0\"). The two phases should be equivalent from the perspective of data analysis, but there may be differences in the noise characteristics between the two acquisition systems.\n",
    "- `channel_count`: the number of channels with spikes or LFP data (maximum = 384)\n",
    "\n",
    "The `channels.csv` file contains information about each of these channels."
   ]
  },
  {
   "cell_type": "code",
   "execution_count": 9,
   "id": "778ca4e5",
   "metadata": {
    "execution": {
     "iopub.execute_input": "2023-11-30T06:27:17.634342Z",
     "iopub.status.busy": "2023-11-30T06:27:17.633861Z",
     "iopub.status.idle": "2023-11-30T06:27:18.197743Z",
     "shell.execute_reply": "2023-11-30T06:27:18.197037Z"
    },
    "papermill": {
     "duration": 0.573066,
     "end_time": "2023-11-30T06:27:18.199099",
     "exception": false,
     "start_time": "2023-11-30T06:27:17.626033",
     "status": "completed"
    },
    "pycharm": {
     "name": "#%%\n"
    },
    "tags": []
   },
   "outputs": [
    {
     "name": "stdout",
     "output_type": "stream",
     "text": [
      "Total number of channels: 123224\n"
     ]
    },
    {
     "data": {
      "text/html": [
       "<div>\n",
       "<style scoped>\n",
       "    .dataframe tbody tr th:only-of-type {\n",
       "        vertical-align: middle;\n",
       "    }\n",
       "\n",
       "    .dataframe tbody tr th {\n",
       "        vertical-align: top;\n",
       "    }\n",
       "\n",
       "    .dataframe thead th {\n",
       "        text-align: right;\n",
       "    }\n",
       "</style>\n",
       "<table border=\"1\" class=\"dataframe\">\n",
       "  <thead>\n",
       "    <tr style=\"text-align: right;\">\n",
       "      <th></th>\n",
       "      <th>ecephys_probe_id</th>\n",
       "      <th>local_index</th>\n",
       "      <th>probe_horizontal_position</th>\n",
       "      <th>probe_vertical_position</th>\n",
       "      <th>anterior_posterior_ccf_coordinate</th>\n",
       "      <th>dorsal_ventral_ccf_coordinate</th>\n",
       "      <th>left_right_ccf_coordinate</th>\n",
       "      <th>ecephys_structure_id</th>\n",
       "      <th>ecephys_structure_acronym</th>\n",
       "      <th>ecephys_session_id</th>\n",
       "      <th>lfp_sampling_rate</th>\n",
       "      <th>phase</th>\n",
       "      <th>sampling_rate</th>\n",
       "      <th>has_lfp_data</th>\n",
       "      <th>unit_count</th>\n",
       "    </tr>\n",
       "    <tr>\n",
       "      <th>id</th>\n",
       "      <th></th>\n",
       "      <th></th>\n",
       "      <th></th>\n",
       "      <th></th>\n",
       "      <th></th>\n",
       "      <th></th>\n",
       "      <th></th>\n",
       "      <th></th>\n",
       "      <th></th>\n",
       "      <th></th>\n",
       "      <th></th>\n",
       "      <th></th>\n",
       "      <th></th>\n",
       "      <th></th>\n",
       "      <th></th>\n",
       "    </tr>\n",
       "  </thead>\n",
       "  <tbody>\n",
       "    <tr>\n",
       "      <th>849705558</th>\n",
       "      <td>792645504</td>\n",
       "      <td>1</td>\n",
       "      <td>11</td>\n",
       "      <td>20</td>\n",
       "      <td>8165.0</td>\n",
       "      <td>3314.0</td>\n",
       "      <td>6862.0</td>\n",
       "      <td>215.0</td>\n",
       "      <td>APN</td>\n",
       "      <td>779839471</td>\n",
       "      <td>1250.001479</td>\n",
       "      <td>3a</td>\n",
       "      <td>30000.035489</td>\n",
       "      <td>True</td>\n",
       "      <td>0</td>\n",
       "    </tr>\n",
       "    <tr>\n",
       "      <th>849705560</th>\n",
       "      <td>792645504</td>\n",
       "      <td>2</td>\n",
       "      <td>59</td>\n",
       "      <td>40</td>\n",
       "      <td>8162.0</td>\n",
       "      <td>3307.0</td>\n",
       "      <td>6866.0</td>\n",
       "      <td>215.0</td>\n",
       "      <td>APN</td>\n",
       "      <td>779839471</td>\n",
       "      <td>1250.001479</td>\n",
       "      <td>3a</td>\n",
       "      <td>30000.035489</td>\n",
       "      <td>True</td>\n",
       "      <td>0</td>\n",
       "    </tr>\n",
       "    <tr>\n",
       "      <th>849705562</th>\n",
       "      <td>792645504</td>\n",
       "      <td>3</td>\n",
       "      <td>27</td>\n",
       "      <td>40</td>\n",
       "      <td>8160.0</td>\n",
       "      <td>3301.0</td>\n",
       "      <td>6871.0</td>\n",
       "      <td>215.0</td>\n",
       "      <td>APN</td>\n",
       "      <td>779839471</td>\n",
       "      <td>1250.001479</td>\n",
       "      <td>3a</td>\n",
       "      <td>30000.035489</td>\n",
       "      <td>True</td>\n",
       "      <td>0</td>\n",
       "    </tr>\n",
       "    <tr>\n",
       "      <th>849705564</th>\n",
       "      <td>792645504</td>\n",
       "      <td>4</td>\n",
       "      <td>43</td>\n",
       "      <td>60</td>\n",
       "      <td>8157.0</td>\n",
       "      <td>3295.0</td>\n",
       "      <td>6875.0</td>\n",
       "      <td>215.0</td>\n",
       "      <td>APN</td>\n",
       "      <td>779839471</td>\n",
       "      <td>1250.001479</td>\n",
       "      <td>3a</td>\n",
       "      <td>30000.035489</td>\n",
       "      <td>True</td>\n",
       "      <td>0</td>\n",
       "    </tr>\n",
       "    <tr>\n",
       "      <th>849705566</th>\n",
       "      <td>792645504</td>\n",
       "      <td>5</td>\n",
       "      <td>11</td>\n",
       "      <td>60</td>\n",
       "      <td>8155.0</td>\n",
       "      <td>3288.0</td>\n",
       "      <td>6879.0</td>\n",
       "      <td>215.0</td>\n",
       "      <td>APN</td>\n",
       "      <td>779839471</td>\n",
       "      <td>1250.001479</td>\n",
       "      <td>3a</td>\n",
       "      <td>30000.035489</td>\n",
       "      <td>True</td>\n",
       "      <td>0</td>\n",
       "    </tr>\n",
       "  </tbody>\n",
       "</table>\n",
       "</div>"
      ],
      "text/plain": [
       "           ecephys_probe_id  local_index  probe_horizontal_position  \\\n",
       "id                                                                    \n",
       "849705558         792645504            1                         11   \n",
       "849705560         792645504            2                         59   \n",
       "849705562         792645504            3                         27   \n",
       "849705564         792645504            4                         43   \n",
       "849705566         792645504            5                         11   \n",
       "\n",
       "           probe_vertical_position  anterior_posterior_ccf_coordinate  \\\n",
       "id                                                                      \n",
       "849705558                       20                             8165.0   \n",
       "849705560                       40                             8162.0   \n",
       "849705562                       40                             8160.0   \n",
       "849705564                       60                             8157.0   \n",
       "849705566                       60                             8155.0   \n",
       "\n",
       "           dorsal_ventral_ccf_coordinate  left_right_ccf_coordinate  \\\n",
       "id                                                                    \n",
       "849705558                         3314.0                     6862.0   \n",
       "849705560                         3307.0                     6866.0   \n",
       "849705562                         3301.0                     6871.0   \n",
       "849705564                         3295.0                     6875.0   \n",
       "849705566                         3288.0                     6879.0   \n",
       "\n",
       "           ecephys_structure_id ecephys_structure_acronym  ecephys_session_id  \\\n",
       "id                                                                              \n",
       "849705558                 215.0                       APN           779839471   \n",
       "849705560                 215.0                       APN           779839471   \n",
       "849705562                 215.0                       APN           779839471   \n",
       "849705564                 215.0                       APN           779839471   \n",
       "849705566                 215.0                       APN           779839471   \n",
       "\n",
       "           lfp_sampling_rate phase  sampling_rate  has_lfp_data  unit_count  \n",
       "id                                                                           \n",
       "849705558        1250.001479    3a   30000.035489          True           0  \n",
       "849705560        1250.001479    3a   30000.035489          True           0  \n",
       "849705562        1250.001479    3a   30000.035489          True           0  \n",
       "849705564        1250.001479    3a   30000.035489          True           0  \n",
       "849705566        1250.001479    3a   30000.035489          True           0  "
      ]
     },
     "execution_count": 9,
     "metadata": {},
     "output_type": "execute_result"
    }
   ],
   "source": [
    "channels = cache.get_channels()\n",
    "\n",
    "print('Total number of channels: ' + str(len(channels)))\n",
    "\n",
    "channels.head()"
   ]
  },
  {
   "cell_type": "markdown",
   "id": "1d1695dd",
   "metadata": {
    "papermill": {
     "duration": 0.00743,
     "end_time": "2023-11-30T06:27:18.214540",
     "exception": false,
     "start_time": "2023-11-30T06:27:18.207110",
     "status": "completed"
    },
    "pycharm": {
     "name": "#%% md\n"
    },
    "tags": []
   },
   "source": [
    "The most important columns in the `channels` DataFrame concern each channel's location in physical space. Each channel is associated with a location along the probe shank (`probe_horizontal_position` and `probe_vertical_position`), and may be linked to a coordinate in the Allen Common Coordinate framework (if CCF registration is available for that probe).\n",
    "\n",
    "The information about channel location will be merged into the `units` DataFrame, which is loaded from `units.csv`:"
   ]
  },
  {
   "cell_type": "code",
   "execution_count": 10,
   "id": "da0f9e7b",
   "metadata": {
    "execution": {
     "iopub.execute_input": "2023-11-30T06:27:18.230514Z",
     "iopub.status.busy": "2023-11-30T06:27:18.230042Z",
     "iopub.status.idle": "2023-11-30T06:27:18.707155Z",
     "shell.execute_reply": "2023-11-30T06:27:18.706396Z"
    },
    "papermill": {
     "duration": 0.486721,
     "end_time": "2023-11-30T06:27:18.708587",
     "exception": false,
     "start_time": "2023-11-30T06:27:18.221866",
     "status": "completed"
    },
    "pycharm": {
     "name": "#%%\n"
    },
    "tags": []
   },
   "outputs": [
    {
     "name": "stdout",
     "output_type": "stream",
     "text": [
      "Total number of units: 40010\n"
     ]
    }
   ],
   "source": [
    "units = cache.get_units()\n",
    "\n",
    "print('Total number of units: ' + str(len(units)))"
   ]
  },
  {
   "cell_type": "markdown",
   "id": "6b30f0d3",
   "metadata": {
    "papermill": {
     "duration": 0.007425,
     "end_time": "2023-11-30T06:27:18.724012",
     "exception": false,
     "start_time": "2023-11-30T06:27:18.716587",
     "status": "completed"
    },
    "pycharm": {
     "name": "#%% md\n"
    },
    "tags": []
   },
   "source": [
    "This DataFrame contains metadata about the available units across all sessions. By default, the AllenSDK applies some filters to this table and only returns units above a particular quality threshold.\n",
    "\n",
    "The default filter values are as follows:\n",
    "\n",
    "- `isi_violations` < 0.5\n",
    "- `amplitude_cutoff` < 0.1\n",
    "- `presence_ratio` > 0.9\n",
    "\n",
    "For more information about these quality metrics and how to interpret them, please refer to [this tutorial](./ecephys_quality_metrics.ipynb).\n",
    "\n",
    "If you want to see _all_ of the available units, it's straightfoward to disable the quality metrics filters when retrieving this table: "
   ]
  },
  {
   "cell_type": "code",
   "execution_count": 11,
   "id": "298e9bca",
   "metadata": {
    "execution": {
     "iopub.execute_input": "2023-11-30T06:27:18.739993Z",
     "iopub.status.busy": "2023-11-30T06:27:18.739521Z",
     "iopub.status.idle": "2023-11-30T06:27:19.271962Z",
     "shell.execute_reply": "2023-11-30T06:27:19.271255Z"
    },
    "papermill": {
     "duration": 0.542013,
     "end_time": "2023-11-30T06:27:19.273351",
     "exception": false,
     "start_time": "2023-11-30T06:27:18.731338",
     "status": "completed"
    },
    "pycharm": {
     "name": "#%%\n"
    },
    "tags": []
   },
   "outputs": [
    {
     "name": "stdout",
     "output_type": "stream",
     "text": [
      "Total number of units: 99180\n"
     ]
    }
   ],
   "source": [
    "units = cache.get_units(amplitude_cutoff_maximum = np.inf,\n",
    "                        presence_ratio_minimum = -np.inf,\n",
    "                        isi_violations_maximum = np.inf)\n",
    "\n",
    "print('Total number of units: ' + str(len(units)))"
   ]
  },
  {
   "cell_type": "markdown",
   "id": "500cf35c",
   "metadata": {
    "papermill": {
     "duration": 0.007662,
     "end_time": "2023-11-30T06:27:19.289297",
     "exception": false,
     "start_time": "2023-11-30T06:27:19.281635",
     "status": "completed"
    },
    "pycharm": {
     "name": "#%% md\n"
    },
    "tags": []
   },
   "source": [
    "As you can see, the number of units has increased substantially, but some fraction of these units will be incomplete or highly contaminated. Understanding the meaning of these metrics is a critical part of analyzing the Neuropixels dataset, so we strongly recommend learning how to interpret them correctly.\n",
    "\n",
    "In addition to the quality metrics, there are a number of stimulus-specific metrics that are computed for each unit. These are not downloaded by default, but are accessed via a separate SDK function:"
   ]
  },
  {
   "cell_type": "code",
   "execution_count": 12,
   "id": "f2f1e0dc",
   "metadata": {
    "execution": {
     "iopub.execute_input": "2023-11-30T06:27:19.305755Z",
     "iopub.status.busy": "2023-11-30T06:27:19.305355Z",
     "iopub.status.idle": "2023-11-30T06:30:21.472722Z",
     "shell.execute_reply": "2023-11-30T06:30:21.471956Z"
    },
    "papermill": {
     "duration": 182.184477,
     "end_time": "2023-11-30T06:30:21.481560",
     "exception": false,
     "start_time": "2023-11-30T06:27:19.297083",
     "status": "completed"
    },
    "pycharm": {
     "name": "#%%\n"
    },
    "tags": []
   },
   "outputs": [
    {
     "name": "stdout",
     "output_type": "stream",
     "text": [
      "21842 units in table 1\n",
      "18168 units in table 2\n"
     ]
    }
   ],
   "source": [
    "analysis_metrics1 = cache.get_unit_analysis_metrics_by_session_type('brain_observatory_1.1')\n",
    "\n",
    "analysis_metrics2 = cache.get_unit_analysis_metrics_by_session_type('functional_connectivity')\n",
    "\n",
    "print(str(len(analysis_metrics1)) + ' units in table 1')\n",
    "print(str(len(analysis_metrics2)) + ' units in table 2')"
   ]
  },
  {
   "cell_type": "markdown",
   "id": "a1a54275",
   "metadata": {
    "papermill": {
     "duration": 0.007509,
     "end_time": "2023-11-30T06:30:21.496762",
     "exception": false,
     "start_time": "2023-11-30T06:30:21.489253",
     "status": "completed"
    },
    "pycharm": {
     "name": "#%% md\n"
    },
    "tags": []
   },
   "source": [
    "This will download two additional files, `brain_observatory_1.1_analysis_metrics.csv` and `functional_connectivity_analysis_metrics.csv`, and load them as pandas DataFrames. Note that the total length of these DataFrames is around 40k units, because the default quality metric thresholds have been applied.\n",
    "\n",
    "To load _all_ of the available units, and create one giant table of metrics, you can use the following code:"
   ]
  },
  {
   "cell_type": "code",
   "execution_count": 13,
   "id": "0d1953e2",
   "metadata": {
    "execution": {
     "iopub.execute_input": "2023-11-30T06:30:21.512996Z",
     "iopub.status.busy": "2023-11-30T06:30:21.512535Z",
     "iopub.status.idle": "2023-11-30T06:30:24.527922Z",
     "shell.execute_reply": "2023-11-30T06:30:24.527232Z"
    },
    "papermill": {
     "duration": 3.025239,
     "end_time": "2023-11-30T06:30:24.529448",
     "exception": false,
     "start_time": "2023-11-30T06:30:21.504209",
     "status": "completed"
    },
    "pycharm": {
     "name": "#%%\n"
    },
    "tags": []
   },
   "outputs": [
    {
     "name": "stdout",
     "output_type": "stream",
     "text": [
      "99180 units overall\n"
     ]
    }
   ],
   "source": [
    "analysis_metrics1 = cache.get_unit_analysis_metrics_by_session_type('brain_observatory_1.1', amplitude_cutoff_maximum = np.inf,\n",
    "                                                          presence_ratio_minimum = -np.inf,\n",
    "                                                          isi_violations_maximum = np.inf)\n",
    "\n",
    "analysis_metrics2 = cache.get_unit_analysis_metrics_by_session_type('functional_connectivity', amplitude_cutoff_maximum = np.inf,\n",
    "                                                          presence_ratio_minimum = -np.inf,\n",
    "                                                          isi_violations_maximum = np.inf)\n",
    "\n",
    "all_metrics = pd.concat([analysis_metrics1, analysis_metrics2], sort=False)\n",
    "\n",
    "print(str(len(all_metrics)) + ' units overall')"
   ]
  },
  {
   "cell_type": "markdown",
   "id": "115b9769",
   "metadata": {
    "papermill": {
     "duration": 0.007501,
     "end_time": "2023-11-30T06:30:24.545054",
     "exception": false,
     "start_time": "2023-11-30T06:30:24.537553",
     "status": "completed"
    },
    "pycharm": {
     "name": "#%% md\n"
    },
    "tags": []
   },
   "source": [
    "The length of this DataFrame should match that of the `units` DataFrame we retrieved earlier. A few things to note about this DataFrame:\n",
    "\n",
    "- The unit analysis metrics DataFrame _also_ includes all quality metrics, so it's a superset of the `units` DataFrame\n",
    "- Since some of the stimuli in the `brain_observatory_1.1` session are not present in the `functional_connectivity` session, many of the data points in the unit analysis metrics DataFrame will be filled with `nan` values"
   ]
  },
  {
   "cell_type": "markdown",
   "id": "d8375233",
   "metadata": {
    "papermill": {
     "duration": 0.037424,
     "end_time": "2023-11-30T06:30:24.590113",
     "exception": false,
     "start_time": "2023-11-30T06:30:24.552689",
     "status": "completed"
    },
    "pycharm": {
     "name": "#%% md\n"
    },
    "tags": []
   },
   "source": [
    "### Accessing data for individual sessions\n",
    "\n",
    "Assuming you've found a session you're interested in analyzing in more detail, it's now time to download the data. This is as simple as calling `cache.get_session_data()`, with the `session_id` as input. This method will check the cache for an existing NWB file and, if it's not present, will automatically download it for you.\n",
    "\n",
    "Each NWB file can be upwards of 2 GB, so please be patient while it's downloading!\n",
    "\n",
    "As an example, let's look at one of the sessions we selected earlier, disabling the default unit quality metrics filters:"
   ]
  },
  {
   "cell_type": "code",
   "execution_count": 55,
   "id": "681dff74",
   "metadata": {
    "execution": {
     "iopub.execute_input": "2023-11-30T06:30:24.606893Z",
     "iopub.status.busy": "2023-11-30T06:30:24.606379Z",
     "iopub.status.idle": "2023-11-30T06:33:59.680510Z",
     "shell.execute_reply": "2023-11-30T06:33:59.679943Z"
    },
    "papermill": {
     "duration": 215.084249,
     "end_time": "2023-11-30T06:33:59.681957",
     "exception": false,
     "start_time": "2023-11-30T06:30:24.597708",
     "status": "completed"
    },
    "pycharm": {
     "name": "#%%\n"
    },
    "tags": []
   },
   "outputs": [
    {
     "name": "stderr",
     "output_type": "stream",
     "text": [
      "WARNING:root:downloading a 2929.156MiB file from http://api.brain-map.org//api/v2/well_known_file_download/1026124034\n"
     ]
    },
    {
     "data": {
      "application/vnd.jupyter.widget-view+json": {
       "model_id": "13808fe3d065415980fb4697258a7b8b",
       "version_major": 2,
       "version_minor": 0
      },
      "text/plain": [
       "Downloading:   0%|          | 0.00/3.07G [00:00<?, ?B/s]"
      ]
     },
     "metadata": {},
     "output_type": "display_data"
    },
    {
     "name": "stdout",
     "output_type": "stream",
     "text": [
      "['DETAILED_STIMULUS_PARAMETERS', 'LazyProperty', 'age_in_days', 'api', 'channel_structure_intervals', 'channels', 'conditionwise_spike_statistics', 'ecephys_session_id', 'from_nwb_path', 'full_genotype', 'get_current_source_density', 'get_inter_presentation_intervals_for_stimulus', 'get_invalid_times', 'get_lfp', 'get_parameter_values_for_stimulus', 'get_pupil_data', 'get_screen_gaze_data', 'get_stimulus_epochs', 'get_stimulus_parameter_values', 'get_stimulus_table', 'inter_presentation_intervals', 'invalid_times', 'mean_waveforms', 'metadata', 'num_channels', 'num_probes', 'num_stimulus_presentations', 'num_units', 'optogenetic_stimulation_epochs', 'presentationwise_spike_counts', 'presentationwise_spike_times', 'probes', 'rig_equipment_name', 'rig_geometry_data', 'running_speed', 'session_start_time', 'session_type', 'sex', 'specimen_name', 'spike_amplitudes', 'spike_times', 'stimulus_conditions', 'stimulus_names', 'stimulus_presentations', 'structure_acronyms', 'structurewise_unit_counts', 'units']\n",
      "                         stimulus_block  start_time  stop_time          size  \\\n",
      "stimulus_presentation_id                                                       \n",
      "0                                  null   13.470683  73.537433          null   \n",
      "1                                   0.0   73.537433  73.770952  [20.0, 20.0]   \n",
      "2                                   0.0   73.770952  74.021150  [20.0, 20.0]   \n",
      "3                                   0.0   74.021150  74.271349  [20.0, 20.0]   \n",
      "4                                   0.0   74.271349  74.521547  [20.0, 20.0]   \n",
      "\n",
      "                         frame orientation x_position  \\\n",
      "stimulus_presentation_id                                \n",
      "0                         null        null       null   \n",
      "1                         null        45.0        0.0   \n",
      "2                         null         0.0      -30.0   \n",
      "3                         null        45.0       10.0   \n",
      "4                         null         0.0      -40.0   \n",
      "\n",
      "                                                   phase color y_position  \\\n",
      "stimulus_presentation_id                                                    \n",
      "0                                                   null  null       null   \n",
      "1                         [3644.93333333, 3644.93333333]  null       30.0   \n",
      "2                         [3644.93333333, 3644.93333333]  null      -10.0   \n",
      "3                         [3644.93333333, 3644.93333333]  null       20.0   \n",
      "4                         [3644.93333333, 3644.93333333]  null      -40.0   \n",
      "\n",
      "                         spatial_frequency stimulus_name temporal_frequency  \\\n",
      "stimulus_presentation_id                                                      \n",
      "0                                     null   spontaneous               null   \n",
      "1                                     0.08        gabors                4.0   \n",
      "2                                     0.08        gabors                4.0   \n",
      "3                                     0.08        gabors                4.0   \n",
      "4                                     0.08        gabors                4.0   \n",
      "\n",
      "                         contrast   duration  stimulus_condition_id  \n",
      "stimulus_presentation_id                                             \n",
      "0                            null  60.066750                      0  \n",
      "1                             0.8   0.233519                      1  \n",
      "2                             0.8   0.250199                      2  \n",
      "3                             0.8   0.250199                      3  \n",
      "4                             0.8   0.250199                      4  \n"
     ]
    }
   ],
   "source": [
    "session_al_pm = cache.get_session_data(719161530,\n",
    "                                 isi_violations_maximum = np.inf,\n",
    "                                 amplitude_cutoff_maximum = np.inf,\n",
    "                                 presence_ratio_minimum = -np.inf\n",
    "                                )\n",
    "\n",
    "print([attr_or_method for attr_or_method in dir(session_al_pm) if attr_or_method[0] != '_'])"
   ]
  },
  {
   "cell_type": "markdown",
   "id": "a9693073",
   "metadata": {},
   "source": [
    "## 提取与drifting_gratings相关的刺激参数"
   ]
  },
  {
   "cell_type": "code",
   "execution_count": 18,
   "id": "86a6158d",
   "metadata": {},
   "outputs": [
    {
     "name": "stderr",
     "output_type": "stream",
     "text": [
      "/srv/wu-lab/flash12/hjiang357/miniconda3/envs/allensdk/lib/python3.8/site-packages/hdmf/spec/namespace.py:535: UserWarning: Ignoring cached namespace 'hdmf-common' version 1.1.3 because version 1.8.0 is already loaded.\n",
      "  warn(\"Ignoring cached namespace '%s' version %s because version %s is already loaded.\"\n",
      "/srv/wu-lab/flash12/hjiang357/miniconda3/envs/allensdk/lib/python3.8/site-packages/hdmf/spec/namespace.py:535: UserWarning: Ignoring cached namespace 'core' version 2.2.2 because version 2.7.0 is already loaded.\n",
      "  warn(\"Ignoring cached namespace '%s' version %s because version %s is already loaded.\"\n"
     ]
    },
    {
     "data": {
      "text/plain": [
       "['spontaneous',\n",
       " 'gabors',\n",
       " 'flashes',\n",
       " 'drifting_gratings',\n",
       " 'natural_movie_three',\n",
       " 'natural_movie_one',\n",
       " 'static_gratings',\n",
       " 'natural_scenes']"
      ]
     },
     "execution_count": 18,
     "metadata": {},
     "output_type": "execute_result"
    }
   ],
   "source": [
    "session.stimulus_names"
   ]
  },
  {
   "cell_type": "code",
   "execution_count": 37,
   "id": "32a7dfaf",
   "metadata": {},
   "outputs": [
    {
     "name": "stdout",
     "output_type": "stream",
     "text": [
      "[3798, 3799, 3800, 3801, 3802, 3803, 3804, 3805, 3806, 3807, 3808, 3809, 3810, 3811, 3812, 3813, 3814, 3815, 3816, 3817, 3818, 3819, 3820, 3821, 3822, 3823, 3824, 3825, 3826, 3827, 3828, 3829, 3830, 3831, 3832, 3833, 3834, 3835, 3836, 3837, 3838, 3839, 3840, 3841, 3842, 3843, 3844, 3845, 3846, 3847, 3848, 3849, 3850, 3851, 3852, 3853, 3854, 3855, 3856, 3857, 3858, 3859, 3860, 3861, 3862, 3863, 3864, 3865, 3866, 3867, 3868, 3869, 3870, 3871, 3872, 3873, 3874, 3875, 3876, 3877, 3878, 3879, 3880, 3881, 3882, 3883, 3884, 3885, 3886, 3887, 3888, 3889, 3890, 3891, 3892, 3893, 3894, 3895, 3896, 3897, 3898, 3899, 3900, 3901, 3902, 3903, 3904, 3905, 3906, 3907, 3908, 3909, 3910, 3911, 3912, 3913, 3914, 3915, 3916, 3917, 3918, 3919, 3920, 3921, 3922, 3923, 3924, 3925, 3926, 3927, 3928, 3929, 3930, 3931, 3932, 3933, 3934, 3935, 3936, 3937, 3938, 3939, 3940, 3941, 3942, 3943, 3944, 3945, 3946, 3947, 3948, 3949, 3950, 3951, 3952, 3953, 3954, 3955, 3956, 3957, 3958, 3959, 3960, 3961, 3962, 3963, 3964, 3965, 3966, 3967, 3968, 3969, 3970, 3971, 3972, 3973, 3974, 3975, 3976, 3977, 3978, 3979, 3980, 3981, 3982, 3983, 3984, 3985, 3986, 3987, 3988, 3989, 3990, 3991, 3992, 3993, 3994, 3995, 3996, 3997, 31001, 31002, 31003, 31004, 31005, 31006, 31007, 31008, 31009, 31010, 31011, 31012, 31013, 31014, 31015, 31016, 31017, 31018, 31019, 31020, 31021, 31022, 31023, 31024, 31025, 31026, 31027, 31028, 31029, 31030, 31031, 31032, 31033, 31034, 31035, 31036, 31037, 31038, 31039, 31040, 31041, 31042, 31043, 31044, 31045, 31046, 31047, 31048, 31049, 31050, 31051, 31052, 31053, 31054, 31055, 31056, 31057, 31058, 31059, 31060, 31061, 31062, 31063, 31064, 31065, 31066, 31067, 31068, 31069, 31070, 31071, 31072, 31073, 31074, 31075, 31076, 31077, 31078, 31079, 31080, 31081, 31082, 31083, 31084, 31085, 31086, 31087, 31088, 31089, 31090, 31091, 31092, 31093, 31094, 31095, 31096, 31097, 31098, 31099, 31100, 31101, 31102, 31103, 31104, 31105, 31106, 31107, 31108, 31109, 31110, 31111, 31112, 31113, 31114, 31115, 31116, 31117, 31118, 31119, 31120, 31121, 31122, 31123, 31124, 31125, 31126, 31127, 31128, 31129, 31130, 31131, 31132, 31133, 31134, 31135, 31136, 31137, 31138, 31139, 31140, 31141, 31142, 31143, 31144, 31145, 31146, 31147, 31148, 31149, 31150, 31151, 31152, 31153, 31154, 31155, 31156, 31157, 31158, 31159, 31160, 31161, 31162, 31163, 31164, 31165, 31166, 31167, 31168, 31169, 31170, 31171, 31172, 31173, 31174, 31175, 31176, 31177, 31178, 31179, 31180, 31181, 31182, 31183, 31184, 31185, 31186, 31187, 31188, 31189, 31190, 31191, 31192, 31193, 31194, 31195, 31196, 31197, 31198, 31199, 31200, 49203, 49204, 49205, 49206, 49207, 49208, 49209, 49210, 49211, 49212, 49213, 49214, 49215, 49216, 49217, 49218, 49219, 49220, 49221, 49222, 49223, 49224, 49225, 49226, 49227, 49228, 49229, 49230, 49231, 49232, 49233, 49234, 49235, 49236, 49237, 49238, 49239, 49240, 49241, 49242, 49243, 49244, 49245, 49246, 49247, 49248, 49249, 49250, 49251, 49252, 49253, 49254, 49255, 49256, 49257, 49258, 49259, 49260, 49261, 49262, 49263, 49264, 49265, 49266, 49267, 49268, 49269, 49270, 49271, 49272, 49273, 49274, 49275, 49276, 49277, 49278, 49279, 49280, 49281, 49282, 49283, 49284, 49285, 49286, 49287, 49288, 49289, 49290, 49291, 49292, 49293, 49294, 49295, 49296, 49297, 49298, 49299, 49300, 49301, 49302, 49303, 49304, 49305, 49306, 49307, 49308, 49309, 49310, 49311, 49312, 49313, 49314, 49315, 49316, 49317, 49318, 49319, 49320, 49321, 49322, 49323, 49324, 49325, 49326, 49327, 49328, 49329, 49330, 49331, 49332, 49333, 49334, 49335, 49336, 49337, 49338, 49339, 49340, 49341, 49342, 49343, 49344, 49345, 49346, 49347, 49348, 49349, 49350, 49351, 49352, 49353, 49354, 49355, 49356, 49357, 49358, 49359, 49360, 49361, 49362, 49363, 49364, 49365, 49366, 49367, 49368, 49369, 49370, 49371, 49372, 49373, 49374, 49375, 49376, 49377, 49378, 49379, 49380, 49381, 49382, 49383, 49384, 49385, 49386, 49387, 49388, 49389, 49390, 49391, 49392, 49393, 49394, 49395, 49396, 49397, 49398, 49399, 49400, 49401, 49402, 49403, 49404, 49405, 49406, 49407, 49408, 49409, 49410, 49411, 49412, 49413, 49414, 49415, 49416, 49417, 49418, 49419, 49420, 49421, 49422, 49423, 49424, 49425, 49426, 49427, 49428, 49429, 49430]\n"
     ]
    }
   ],
   "source": [
    "# 获取与drifting_gratings相关的刺激呈现ID\n",
    "dg_stimulus_presentations = session.stimulus_presentations.query(\"stimulus_name == 'drifting_gratings'\")\n",
    "dg_stimulus_presentation_ids = dg_stimulus_presentations.index.tolist()\n",
    "print(dg_stimulus_presentation_ids)  # 查看ID列表"
   ]
  },
  {
   "cell_type": "code",
   "execution_count": 42,
   "id": "a4028c07",
   "metadata": {},
   "outputs": [
    {
     "name": "stdout",
     "output_type": "stream",
     "text": [
      "[950910332, 950910326, 950910319, 950910311, 950912689, 950910352, 950910345, 950910364, 950910371, 950910378, 950910392, 950912700, 950910399, 950910385, 950912711, 950910406, 950910413, 950910420, 950910435, 950910441, 950910427, 950910448, 950910455, 950910463, 950912722, 950910479, 950910472, 950912743, 950912733, 950910496, 950910516, 950910531, 950910523, 950910509, 950910540, 950910576, 950910565, 950910558, 950910549, 950913120, 950910572, 950912765, 950910598, 950910623, 950910616, 950910603, 950910639, 950910633, 950910645, 950910651, 950912790, 950912779, 950910677, 950910671, 950910664, 950910658, 950910705, 950910719, 950910712, 950910727, 950910742, 950910735, 950910757, 950910771, 950910764, 950910823, 950910785, 950910778, 950912803, 950910797, 950910834, 950910852, 950910842, 950910897, 950910889, 950910861, 950912814, 950910872, 950910882, 950910904, 950910916, 950910910, 950910928, 950910923, 950910941, 950912861, 950910997, 950912852, 950910988, 950913130, 950911014, 950911006, 950911027, 950911040, 950911063, 950911088, 950911080, 950911195, 950911217, 950911223, 950911249, 950911238, 950911266, 950911258, 950911286, 950911294, 950911313, 950911383, 950913073, 950912895, 950911363, 950911391, 950913197, 950913085, 950912907, 950911402, 950912917, 950911449, 950911440, 950911431, 950913210, 950911513, 950911505, 950913224, 950912928, 950911485, 950911467, 950911458, 950911413, 950913143, 950912940, 950911549, 950911540, 950911519, 950911569, 950911563, 950911556, 950911629, 950911622, 950911615, 950911607, 950911601, 950911593, 950911529, 950911586, 950911580, 950911709, 950911656, 950911643, 950911636, 950912964, 950911698, 950911691, 950911684, 950912952, 950911704, 950911677, 950911671, 950911732, 950911764, 950911756, 950911748, 950911741, 950911840, 950911828, 950911817, 950911808, 950911912, 950911901, 950911880, 950911873, 950911952, 950911941, 950911965, 950911932, 950911922, 950912007, 950911996, 950911976, 950911986, 950912018, 950912076, 950912065, 950912118, 950912109, 950912139, 950912128, 950912152, 950912238, 950912226, 950912214, 950912203, 950912190, 950912164, 950912272, 950912260, 950912249, 950912283, 950912314, 950912303, 950912293, 950912361, 950912350, 950912338, 950912326, 950912396, 950912384, 950912448, 950912438, 950912427, 950912417, 950912406, 950912473, 950912460, 950913096, 950912978, 950912511, 950912989, 950912520, 950913000, 950912547, 950912529, 950912625, 950912583, 950913031, 950912564, 950913169, 950913020, 950913010, 950912646, 950912601, 950912591, 950912636, 950912656, 950913039, 950912664, 950912676, 950913433, 950913422, 950913409, 950913398, 950913456, 950913470, 950913506, 950913496, 950913483, 950913567, 950913547, 950913537, 950913527, 950913517, 950913632, 950913620, 950913609, 950921546, 950921524, 950920675, 950913598, 950913588, 950913576, 950920695, 950913676, 950913664, 950913652, 950913641, 950921564, 950913710, 950913696, 950913684, 950913766, 950913755, 950913722, 950920714, 950913784, 950913743, 950913774, 950913796, 950913850, 950913806, 950920777, 950920756, 950913893, 950913867, 950913859, 950913884, 950913877, 950921709, 950913929, 950913921, 950913914, 950913908, 950913901, 950920827, 950913946, 950913938, 950913962, 950913954, 950920843, 950914026, 950913983, 950913976, 950913968, 950914015, 950914005, 950913998, 950913990, 950914067, 950914056, 950914037, 950914130, 950921729, 950920860, 950914123, 950914116, 950914110, 950914103, 950914094, 950914087, 950914077, 950914165, 950914157, 950914149, 950914141, 950914135, 950914197, 950914189, 950914182, 950914173, 950914253, 950914227, 950914219, 950914242, 950914233, 950914268, 950914260, 950914310, 950914294, 950914286, 950914277, 950914381, 950914370, 950914359, 950914348, 950914336, 950914326, 950914318, 950914502, 950914491, 950914444, 950914435, 950914424, 950914413, 950914403, 950914391, 950914529, 950914520, 950914511, 950914553, 950914538, 950914562, 950914587, 950914575, 950914625, 950920894, 950914611, 950914635, 950914707, 950914694, 950914683, 950914672, 950914660, 950914648, 950914754, 950914730, 950914720, 950920912, 950914766, 950914743, 950920944, 950920929, 950914824, 950914812, 950914791, 950914780, 950914845, 950914832, 950914904, 950914895, 950914882, 950914868, 950914856, 950914965, 950914954, 950914940, 950920961, 950914923, 950914913, 950920998, 950915023, 950915006, 950920979, 950914980, 950915101, 950915068, 950921034, 950921013, 950915054, 950915039, 950915130, 950915176, 950915163, 950914994, 950915287, 950915258, 950915304, 950915318, 950915425, 950915378, 950915365, 950921069, 950915413, 950915401, 950915441, 950915498, 950915483, 950921088, 950915568, 950915542, 950915526, 950921583, 950915641, 950915611, 950915598, 950915583, 950921112, 950921102, 950915653, 950915628, 950915838, 950915873, 950915921, 950915984, 950915960, 950915947, 950915934, 950916009, 950915997, 950916120, 950916165, 950921128, 950916217, 950916253, 950916237, 950916273, 950921148, 950916464, 950916447, 950916395, 950916377, 950921601, 950921163, 950916534, 950916519, 950916429, 950916667, 950916652, 950916637, 950916603, 950916586, 950916569, 950916413, 950921176, 950917295, 950916921, 950916774, 950916754, 950916733, 950916552, 950916500, 950921263, 950917245, 950916694, 950921763, 950921636, 950921620, 950921240, 950921214, 950917151, 950917134, 950917121, 950917098, 950917083, 950917226, 950917168, 950917063, 950917042, 950917021, 950917004, 950916980, 950916720, 950916620, 950921283, 950917553, 950917376, 950917356, 950917332, 950917313, 950916961, 950916832, 950917411, 950917261, 950917208, 950917191, 950917588, 950917570, 950917536, 950917682, 950917504, 950917487, 950917468, 950917425, 950917669, 950917651, 950917604, 950921299, 950917769, 950917737, 950917785, 950917899, 950917867, 950917849, 950917989, 950917958, 950918068, 950918052, 950918084, 950918280, 950918261, 950918246, 950918230, 950918209, 950918191, 950918175, 950918344, 950918326, 950918310, 950918381, 950918362, 950918294, 950918422, 950918398, 950918597, 950918549, 950918491, 950918474, 950918715, 950918695, 950918676, 950918802, 950918659, 950918641, 950918622, 950918570, 950918745, 950918730, 950918885, 950918846, 950918764, 950918781, 950918902, 950918821, 950918936, 950918919, 950918955, 950919315, 950919006, 950918989, 950918969, 950921331, 950919054, 950919040, 950919022, 950919104, 950919086, 950919071, 950919249, 950919228, 950919212, 950919189, 950919266, 950919170, 950919154, 950919139, 950919120, 950921655, 950921375, 950921353, 950919387, 950919371, 950919353, 950919335, 950919300, 950919283, 950919424, 950919406, 950921395, 950919513, 950919496, 950919442, 950919456, 950919602, 950919621, 950919638, 950919788, 950919768, 950919748, 950919727, 950919676, 950919659, 950919993, 950919806, 950919963, 950919945, 950919921, 950919900, 950919881, 950919863, 950920194, 950920151, 950920092, 950920040, 950920017, 950920233, 950920213, 950921692, 950921674, 950921442, 950920362, 950920341, 950920309, 950921420, 950920448, 950920419, 950920290, 950920273, 950921456, 950920383, 950920511, 950920493, 950920434, 950921476, 950920578, 950920536, 950920646, 950920612, 950922084, 950922063, 950922041, 950922146, 950922020, 950921996, 950922234, 950922208, 950922174, 950922122, 950922103, 950922312, 950922286, 950922258, 950922383, 950922329, 950922412, 950932846, 950932820, 950922368, 950922351, 950933998, 950932888, 950932865, 950922600, 950922576, 950922551, 950922535, 950922494, 950922466, 950922641, 950932907, 950922620, 950934044, 950934028, 950932925, 950922725, 950922706, 950922684, 950922659, 950932943, 950922821, 950922801, 950922781, 950922762, 950922745, 950932963, 950922994, 950922929, 950922912, 950922896, 950922883, 950922860, 950922841, 950932980, 950923028, 950923011, 950922977, 950922961, 950922944, 950923181, 950923066, 950923049, 950923200, 950923165, 950923121, 950923089, 950923236, 950923217, 950923254, 950923385, 950923365, 950923348, 950923329, 950923310, 950923292, 950923275, 950923485, 950923464, 950923444, 950923405, 950923504, 950923648, 950923606, 950923587, 950923525, 950923712, 950923690, 950923669, 950923819, 950932998, 950923914, 950923798, 950923776, 950923754, 950923730, 950933012, 950924017, 950923976, 950923897, 950923880, 950923840, 950923997, 950923958, 950923859, 950933026, 950923939, 950924033, 950924147, 950924122, 950924107, 950924089, 950924072, 950924054, 950924340, 950924231, 950924212, 950924194, 950924173, 950924394, 950924372, 950924297, 950924272, 950924249, 950933040, 950924519, 950924500, 950924452, 950924434, 950924413, 950924615, 950924598, 950924580, 950924566, 950924826, 950924800, 950924776, 950924753, 950924735, 950924711, 950924693, 950924674, 950924654, 950924635, 950924883, 950933075, 950933057, 950924899, 950924862, 950924845, 950925057, 950925037, 950924987, 950924953, 950924925, 950925112, 950925092, 950925076, 950925242, 950925212, 950925149, 950925166, 950925132, 950925187, 950925311, 950925267, 950925368, 950925351, 950925455, 950925332, 950925285, 950925474, 950925438, 950925417, 950925400, 950925383, 950933136, 950925610, 950925590, 950925555, 950925508, 950933114, 950933095, 950925490, 950925685, 950925664, 950925644, 950925626, 950925767, 950925749, 950925730, 950925707, 950934229, 950933173, 950925886, 950925868, 950925850, 950925826, 950933154, 950925806, 950925786, 950926151, 950926055, 950925950, 950925925, 950926036, 950925902, 950933191, 950926075, 950926020, 950926001, 950925983, 950925967, 950926170, 950926134, 950926114, 950926095, 950926240, 950933226, 950933208, 950926259, 950926225, 950926208, 950926190, 950933300, 950926446, 950926516, 950934061, 950933337, 950933320, 950926562, 950926546, 950926578, 950926728, 950926709, 950926671, 950934247, 950926650, 950926635, 950926867, 950926850, 950926770, 950927150, 950926928, 950926909, 950926886, 950926827, 950927046, 950927024, 950927002, 950926805, 950926787, 950927089, 950927066, 950927341, 950927229, 950927190, 950927359, 950927252, 950927323, 950927306, 950927642, 950927670, 950934268, 950927722, 950927697, 950927775, 950927745, 950927851, 950928030, 950927972, 950934286, 950928113, 950928088, 950928069, 950928218, 950928198, 950928179, 950928011, 950928294, 950928275, 950928255, 950934322, 950928440, 950928423, 950934357, 950933470, 950928479, 950928406, 950928387, 950928349, 950928536, 950928518, 950928497, 950928331, 950928313, 950934304, 950933571, 950928743, 950928461, 950928686, 950928237, 950933555, 950933536, 950933512, 950933426, 950928659, 950928637, 950928616, 950928588, 950928160, 950928814, 950928780, 950928759, 950933589, 950928722, 950928976, 950928955, 950928938, 950928911, 950928891, 950928873, 950928855, 950933640, 950933606, 950929101, 950929083, 950929067, 950928795, 950934129, 950933624, 950929171, 950929028, 950929009, 950928991, 950934408, 950934374, 950934163, 950934145, 950934109, 950933681, 950933660, 950929824, 950929188, 950929153, 950929134, 950929115, 950929514, 950929323, 950929304, 950929286, 950929245, 950929227, 950929206, 950929592, 950929570, 950929551, 950929531, 950929495, 950929438, 950929420, 950929400, 950929377, 950929357, 950929339, 950929715, 950929697, 950929681, 950929663, 950929649, 950929629, 950929610, 950929804, 950929787, 950929770, 950929750, 950929731, 950929457, 950929904, 950929882, 950929926, 950929990, 950930051, 950930033, 950930088, 950930173, 950930145, 950930105, 950930276, 950933698, 950930237, 950930215, 950930358, 950930340, 950930321, 950930295, 950930488, 950930437, 950930469, 950930423, 950930407, 950930392, 950930375, 950930541, 950930522, 950930505, 950930454, 950930716, 950930689, 950933768, 950933750, 950933732, 950930659, 950930633, 950930609, 950930590, 950930866, 950930841, 950930814, 950930795, 950930767, 950930923, 950930905, 950930888, 950931118, 950931004, 950930985, 950934181, 950933785, 950930964, 950930944, 950933821, 950933803, 950931065, 950931043, 950931022, 950931236, 950931200, 950931181, 950931164, 950931272, 950934197, 950931294, 950931254, 950931423, 950931363, 950931343, 950933873, 950933857, 950933840, 950931490, 950931474, 950931458, 950931315, 950931691, 950931565, 950931550, 950931533, 950931517, 950931385, 950931710, 950931674, 950931656, 950931805, 950931639, 950931617, 950931598, 950931581, 950931770, 950931751, 950931727, 950931853, 950931837, 950931821, 950931790, 950931959, 950931937, 950931916, 950931899, 950931878, 950933890, 950932013, 950931995, 950931977, 950932118, 950932102, 950932087, 950933907, 950932053, 950932032, 950932149, 950932133, 950933924, 950932180, 950932205, 950932428, 950932315, 950932410, 950932496, 950932445, 950932529, 950932614, 950932578, 950932563, 950932597, 950933944, 950932656, 950932643, 950932630, 950932669, 950932731, 950932721, 950932708, 950932696, 950933978, 950932756, 950932745, 950933960, 950932797, 950934605, 950934593, 950941376, 950934619, 950941441, 950941396, 950934684, 950934651, 950934637, 950934699, 950934747, 950934765, 950934712, 950934843, 950934819, 950934728, 950942703, 950942492, 950941475, 950941458, 950934934, 950934915, 950934897, 950934971, 950943179, 950942737, 950934954, 950935031, 950935011, 950934992, 950935051, 950935070, 950935128, 950941494, 950935165, 950935108, 950935087, 950935201, 950935145, 950935285, 950935269, 950935249, 950935235, 950935299, 950935335, 950935317, 950935352, 950935367, 950935402, 950935383, 950941529, 950935478, 950935460, 950935441, 950935516, 950935499, 950941548, 950935625, 950935610, 950935590, 950935537, 950935575, 950935736, 950935720, 950935698, 950935679, 950935658, 950935843, 950935825, 950935907, 950935861, 950935811, 950935755, 950935958, 950935942, 950935925, 950935878, 950936025, 950936008, 950935991, 950935975, 950941566, 950936130, 950936113, 950936093, 950936146, 950936272, 950936255, 950936240, 950936224, 950936177, 950936210, 950936194, 950936162, 950936311, 950936292, 950936389, 950936366, 950936345, 950936326, 950936428, 950936412, 950941583, 950936465, 950936447, 950936482, 950936572, 950936639, 950936602, 950936710, 950943123, 950941619, 950941601, 950936693, 950936675, 950936656, 950942754, 950941653, 950936925, 950936789, 950941638, 950936835, 950936759, 950936744, 950936895, 950936870, 950936855, 950936727, 950936954, 950936941, 950937022, 950936979, 950936908, 950936992, 950937036, 950937050, 950937068, 950937114, 950937219, 950941716, 950941695, 950937235, 950941735, 950937422, 950937395, 950937366, 950937351, 950937333, 950937250, 950937408, 950937381, 950937527, 950937734, 950937890, 950937786, 950941795, 950941776, 950937822, 950937769, 950941813, 950937990, 950937943, 950937929, 950938171, 950938091, 950938074, 950942808, 950938459, 950938279, 950938263, 950938247, 950938022, 950938232, 950938206, 950938442, 950938427, 950938392, 950938375, 950938344, 950942843, 950942826, 950942528, 950938545, 950938529, 950938511, 950938494, 950938476, 950942903, 950941887, 950938725, 950938700, 950938675, 950938657, 950942873, 950942509, 950941867, 950938641, 950938629, 950938614, 950938598, 950938580, 950938813, 950938797, 950943161, 950942721, 950942566, 950941906, 950938850, 950938745, 950938924, 950943198, 950942950, 950939050, 950938978, 950938960, 950938995, 950939028, 950939066, 950939131, 950939114, 950939079, 950939202, 950939168, 950939257, 950939221, 950939310, 950939275, 950939396, 950939347, 950943043, 950943019, 950942997, 950942974, 950939380, 950939366, 950939464, 950939452, 950939426, 950939479, 950939540, 950939523, 950939509, 950939661, 950939678, 950939596, 950939786, 950939770, 950939752, 950939641, 950942129, 950942103, 950939821, 950942620, 950942603, 950940157, 950939883, 950939866, 950939803, 950942017, 950939912, 950939899, 950942073, 950942046, 950939930, 950940001, 950939976, 950939945, 950940104, 950940121, 950940088, 950940040, 950939961, 950940138, 950940023, 950942180, 950940237, 950940219, 950942155, 950940200, 950940185, 950940171, 950940260, 950940348, 950942199, 950940311, 950940453, 950940437, 950940425, 950940389, 950940368, 950940562, 950940467, 950940649, 950940545, 950940526, 950940507, 950942218, 950940615, 950940597, 950940578, 950942252, 950942235, 950940631, 950940703, 950940688, 950940671, 950940808, 950940790, 950940718, 950942269, 950940824, 950940772, 950940753, 950942669, 950942651, 950942635, 950942319, 950942304, 950940948, 950940928, 950943142, 950943082, 950942286, 950940909, 950940892, 950940876, 950940859, 950943103, 950941076, 950941043, 950942354, 950941005, 950940984, 950942369, 950941149, 950941133, 950941114, 950941096, 950941235, 950941218, 950941060, 950941256, 950941200, 950941183, 950941166, 950942475, 950942456, 950942438, 950941322, 950943695, 950943580, 950943517, 950943497, 950943473, 950943453, 950943431, 950943413, 950952629, 950943671, 950943625, 950943602, 950943735, 950943713, 950943813, 950943795, 950943756, 950943911, 950943895, 950943877, 950943858, 950943830, 950944344, 950944247, 950944228, 950944212, 950944160, 950943928, 950944146, 950952646, 950944276, 950944259, 950944359, 950944444, 950952690, 950944690, 950944637, 950944617, 950944600, 950944675, 950944566, 950944738, 950944722, 950944706, 950944752, 950944799, 950944784, 950944843, 950944827, 950944815, 950944932, 950944858, 950944769, 950944952, 950944918, 950944896, 950944872, 950945060, 950945042, 950945024, 950945008, 950944989, 950944968, 950945127, 950945093, 950945077, 950945214, 950945180, 950945162, 950945146, 950945295, 950945269, 950945252, 950945232, 950945353, 950945314, 950952719, 950945554, 950945539, 950945518, 950945491, 950945467, 950945643, 950945408, 950945625, 950945588, 950945572, 950952704, 950952734, 950945660, 950952748, 950945874, 950945854, 950945839, 950945817, 950945783, 950945768, 950945680, 950946068, 950946048, 950946022, 950946003, 950952762, 950946138, 950945986, 950946192, 950946155, 950946121, 950953778, 950953674, 950952779, 950946245, 950946228, 950946310, 950946210, 950946176, 950946376, 950946343, 950946359, 950946327, 950946458, 950946437, 950946497, 950952792, 950946589, 950946692, 950946673, 950946658, 950946641, 950946708, 950946741, 950946722, 950946846, 950947241, 950947224, 950947211, 950947140, 950947125, 950946882, 950953623, 950953606, 950953544, 950952860, 950952845, 950947350, 950947327, 950947271, 950947156, 950947533, 950947412, 950947368, 950947506, 950947488, 950947450, 950947589, 950947571, 950947555, 950947686, 950947665, 950947647, 950947626, 950947608, 950952900, 950947886, 950947763, 950947746, 950947798, 950947778, 950952881, 950947868, 950947849, 950947832, 950947705, 950947963, 950947941, 950948009, 950947990, 950948121, 950948106, 950948092, 950948063, 950948046, 950948026, 950952915, 950948174, 950948158, 950948139, 950948281, 950948246, 950948077, 950948229, 950948210, 950948371, 950948349, 950948328, 950948306, 950948474, 950948438, 950948414, 950948396, 950948583, 950948564, 950948547, 950948527, 950948510, 950948488, 950948744, 950948648, 950948631, 950948598, 950948729, 950948716, 950948698, 950948683, 950952953, 950948970, 950948953, 950948915, 950948853, 950948839, 950948826, 950948809, 950948760, 950948793, 950948778, 950952969, 950948933, 950948895, 950948881, 950948867, 950952985, 950949023, 950953000, 950949089, 950953641, 950953559, 950953036, 950949230, 950949214, 950949200, 950949054, 950953658, 950949103, 950949072, 950953719, 950949131, 950949118, 950953703, 950949274, 950949248, 950949302, 950949319, 950949337, 950949449, 950949428, 950949556, 950949628, 950949745, 950953068, 950949777, 950949758, 950953085, 950949861, 950949846, 950949828, 950953574, 950949980, 950953106, 950949961, 950949947, 950949933, 950949914, 950949896, 950950068, 950950031, 950950009, 950949994, 950953119, 950950160, 950950143, 950950129, 950950116, 950950101, 950950382, 950950288, 950950270, 950950252, 950950239, 950950576, 950950499, 950950224, 950950209, 950950192, 950950176, 950950084, 950950481, 950950464, 950950448, 950950433, 950950415, 950950398, 950953790, 950950721, 950950364, 950950348, 950950308, 950953159, 950953132, 950950531, 950950515, 950950756, 950950740, 950950810, 950950828, 950950775, 950950845, 950950880, 950950994, 950950919, 950951117, 950951090, 950951071, 950951266, 950951153, 950951137, 950951247, 950951207, 950951342, 950953187, 950951364, 950951321, 950953200, 950951511, 950951525, 950951499, 950951484, 950951549, 950951536, 950951613, 950951653, 950951636, 950951596, 950951577, 950951560, 950953225, 950951716, 950951702, 950951678, 950953240, 950951791, 950951779, 950951829, 950951815, 950951804, 950951755, 950951742, 950951730, 950951851, 950951840, 950951902, 950951891, 950951879, 950951979, 950951966, 950951950, 950951940, 950951929, 950951991, 950953293, 950953277, 950953258, 950952057, 950952002, 950953310, 950952108, 950952091, 950952213, 950953330, 950952169, 950952154, 950953400, 950953382, 950952312, 950952300, 950952287, 950952272, 950952256, 950952227, 950952184, 950953433, 950952386, 950952372, 950953417, 950952349, 950952336, 950952323, 950953457, 950952463, 950952432, 950952413, 950952400, 950952241, 950952448, 950952499, 950953497, 950953477, 950954018, 950954004, 950954050, 950954034, 950954134, 950954115, 950954373, 950954195, 950954180, 950954163, 950954520, 950954647, 950954630, 950954793, 950954663, 950954737, 950954823, 950955181, 950954905, 950954886, 950954870, 950954854, 950954838, 950957421, 950957394, 950955195, 950955041, 950955022, 950955004, 950954983, 950954970, 950954954, 950954774, 950957247, 950955245, 950954941, 950954922, 950954721, 950954706, 950954690, 950957382, 950955068, 950955053, 950955308, 950955212, 950955361, 950955374, 950955291, 950955276, 950955399, 950955414, 950955489, 950955543, 950955531, 950955501, 950955556, 950955626, 950955613, 950955716, 950955570, 950955784, 950955770, 950955757, 950955795, 950957270, 950955844, 950955833, 950955808, 950955869, 950955897, 950955924, 950955912, 950956009, 950955974, 950955965, 950955951, 950955940, 950956019, 950956169, 950956100, 950956063, 950956052, 950956043, 950956030, 950956399, 950956216, 950956205, 950956193, 950956148, 950956137, 950956121, 950956111, 950956297, 950956279, 950956259, 950957282, 950956373, 950956248, 950956336, 950957295, 950956423, 950956413, 950956386, 950956462, 950956449, 950956435, 950957333, 950957320, 950957308, 950956577, 950956563, 950956552, 950956541, 950956527, 950956504, 950956493, 950956630, 950956616, 950956604, 950956592, 950956766, 950956738, 950956680, 950956667, 950956656, 950956514, 950956778, 950957408, 950956802, 950956813, 950956835, 950957343, 950956986, 950956911, 950956889, 950956870, 950956824, 950956858, 950956845, 950957020, 950957004, 950956952, 950957053, 950957039]\n"
     ]
    }
   ],
   "source": [
    "# 获取所有神经元单元的ID\n",
    "unit_ids = session.units.index.tolist()\n",
    "print(unit_ids)  # 查看神经元单元ID列表"
   ]
  },
  {
   "cell_type": "code",
   "execution_count": 47,
   "id": "b50ce5fe",
   "metadata": {},
   "outputs": [
    {
     "name": "stdout",
     "output_type": "stream",
     "text": [
      "[0.000e+00 1.000e+00 2.000e+00 ... 9.133e+03 9.134e+03 9.135e+03]\n"
     ]
    }
   ],
   "source": [
    "import numpy as np\n",
    "\n",
    "# 假设你有一个开始时间和结束时间，可以设置时间窗口为1秒\n",
    "bin_edges = np.arange(0, session.stimulus_presentations['stop_time'].max(), 1)\n",
    "print(bin_edges)"
   ]
  },
  {
   "cell_type": "code",
   "execution_count": 48,
   "id": "11fe4366",
   "metadata": {},
   "outputs": [
    {
     "ename": "KeyboardInterrupt",
     "evalue": "",
     "output_type": "error",
     "traceback": [
      "\u001b[0;31m---------------------------------------------------------------------------\u001b[0m",
      "\u001b[0;31mKeyboardInterrupt\u001b[0m                         Traceback (most recent call last)",
      "Cell \u001b[0;32mIn[48], line 2\u001b[0m\n\u001b[1;32m      1\u001b[0m \u001b[38;5;66;03m# 调用方法获取drifting gratings刺激下的尖峰计数\u001b[39;00m\n\u001b[0;32m----> 2\u001b[0m dg_spike_counts \u001b[38;5;241m=\u001b[39m \u001b[43msession\u001b[49m\u001b[38;5;241;43m.\u001b[39;49m\u001b[43mpresentationwise_spike_counts\u001b[49m\u001b[43m(\u001b[49m\u001b[43mbin_edges\u001b[49m\u001b[43m,\u001b[49m\u001b[43m \u001b[49m\u001b[43mdg_stimulus_presentation_ids\u001b[49m\u001b[43m,\u001b[49m\u001b[43m \u001b[49m\u001b[43munit_ids\u001b[49m\u001b[43m)\u001b[49m\n\u001b[1;32m      4\u001b[0m \u001b[38;5;66;03m# 查看结果\u001b[39;00m\n\u001b[1;32m      5\u001b[0m \u001b[38;5;28mprint\u001b[39m(dg_spike_counts)\n",
      "File \u001b[0;32m/srv/wu-lab/flash12/hjiang357/miniconda3/envs/allensdk/lib/python3.8/site-packages/allensdk/brain_observatory/ecephys/ecephys_session.py:769\u001b[0m, in \u001b[0;36mEcephysSession.presentationwise_spike_counts\u001b[0;34m(self, bin_edges, stimulus_presentation_ids, unit_ids, binarize, dtype, large_bin_size_threshold, time_domain_callback)\u001b[0m\n\u001b[1;32m    763\u001b[0m     overlapping \u001b[38;5;241m=\u001b[39m [(s, s \u001b[38;5;241m+\u001b[39m \u001b[38;5;241m1\u001b[39m) \u001b[38;5;28;01mfor\u001b[39;00m s \u001b[38;5;129;01min\u001b[39;00m overlapping]\n\u001b[1;32m    764\u001b[0m     warnings\u001b[38;5;241m.\u001b[39mwarn(\u001b[38;5;124m\"\u001b[39m\u001b[38;5;124mYou\u001b[39m\u001b[38;5;124m'\u001b[39m\u001b[38;5;124mve specified some overlapping time intervals \u001b[39m\u001b[38;5;124m\"\u001b[39m\n\u001b[1;32m    765\u001b[0m                   \u001b[38;5;124mf\u001b[39m\u001b[38;5;124m\"\u001b[39m\u001b[38;5;124mbetween neighboring rows: \u001b[39m\u001b[38;5;132;01m{\u001b[39;00moverlapping\u001b[38;5;132;01m}\u001b[39;00m\u001b[38;5;124m, \u001b[39m\u001b[38;5;124m\"\u001b[39m\n\u001b[1;32m    766\u001b[0m                   \u001b[38;5;124m\"\u001b[39m\u001b[38;5;124mwith a maximum overlap of\u001b[39m\u001b[38;5;124m\"\u001b[39m\n\u001b[1;32m    767\u001b[0m                   \u001b[38;5;124mf\u001b[39m\u001b[38;5;124m\"\u001b[39m\u001b[38;5;124m \u001b[39m\u001b[38;5;132;01m{\u001b[39;00mnp\u001b[38;5;241m.\u001b[39mabs(np\u001b[38;5;241m.\u001b[39mmin(time_diffs))\u001b[38;5;132;01m}\u001b[39;00m\u001b[38;5;124m seconds.\u001b[39m\u001b[38;5;124m\"\u001b[39m)\n\u001b[0;32m--> 769\u001b[0m tiled_data \u001b[38;5;241m=\u001b[39m \u001b[43mbuild_spike_histogram\u001b[49m\u001b[43m(\u001b[49m\n\u001b[1;32m    770\u001b[0m \u001b[43m    \u001b[49m\u001b[43mdomain\u001b[49m\u001b[43m,\u001b[49m\n\u001b[1;32m    771\u001b[0m \u001b[43m    \u001b[49m\u001b[38;5;28;43mself\u001b[39;49m\u001b[38;5;241;43m.\u001b[39;49m\u001b[43mspike_times\u001b[49m\u001b[43m,\u001b[49m\n\u001b[1;32m    772\u001b[0m \u001b[43m    \u001b[49m\u001b[43munits\u001b[49m\u001b[38;5;241;43m.\u001b[39;49m\u001b[43mindex\u001b[49m\u001b[38;5;241;43m.\u001b[39;49m\u001b[43mvalues\u001b[49m\u001b[43m,\u001b[49m\n\u001b[1;32m    773\u001b[0m \u001b[43m    \u001b[49m\u001b[43mdtype\u001b[49m\u001b[38;5;241;43m=\u001b[39;49m\u001b[43mdtype\u001b[49m\u001b[43m,\u001b[49m\n\u001b[1;32m    774\u001b[0m \u001b[43m    \u001b[49m\u001b[43mbinarize\u001b[49m\u001b[38;5;241;43m=\u001b[39;49m\u001b[43mbinarize\u001b[49m\n\u001b[1;32m    775\u001b[0m \u001b[43m\u001b[49m\u001b[43m)\u001b[49m\n\u001b[1;32m    777\u001b[0m stim_presentation_id \u001b[38;5;241m=\u001b[39m stimulus_presentations\u001b[38;5;241m.\u001b[39mindex\u001b[38;5;241m.\u001b[39mvalues\n\u001b[1;32m    779\u001b[0m tiled_data \u001b[38;5;241m=\u001b[39m xr\u001b[38;5;241m.\u001b[39mDataArray(\n\u001b[1;32m    780\u001b[0m     name\u001b[38;5;241m=\u001b[39m\u001b[38;5;124m'\u001b[39m\u001b[38;5;124mspike_counts\u001b[39m\u001b[38;5;124m'\u001b[39m,\n\u001b[1;32m    781\u001b[0m     data\u001b[38;5;241m=\u001b[39mtiled_data,\n\u001b[0;32m   (...)\u001b[0m\n\u001b[1;32m    790\u001b[0m           \u001b[38;5;124m'\u001b[39m\u001b[38;5;124munit_id\u001b[39m\u001b[38;5;124m'\u001b[39m]\n\u001b[1;32m    791\u001b[0m )\n",
      "File \u001b[0;32m/srv/wu-lab/flash12/hjiang357/miniconda3/envs/allensdk/lib/python3.8/site-packages/allensdk/brain_observatory/ecephys/ecephys_session.py:1398\u001b[0m, in \u001b[0;36mbuild_spike_histogram\u001b[0;34m(time_domain, spike_times, unit_ids, dtype, binarize)\u001b[0m\n\u001b[1;32m   1395\u001b[0m data \u001b[38;5;241m=\u001b[39m np\u001b[38;5;241m.\u001b[39marray(spike_times[unit_id])\n\u001b[1;32m   1397\u001b[0m start_positions \u001b[38;5;241m=\u001b[39m np\u001b[38;5;241m.\u001b[39msearchsorted(data, starts\u001b[38;5;241m.\u001b[39mflat)\n\u001b[0;32m-> 1398\u001b[0m end_positions \u001b[38;5;241m=\u001b[39m \u001b[43mnp\u001b[49m\u001b[38;5;241;43m.\u001b[39;49m\u001b[43msearchsorted\u001b[49m\u001b[43m(\u001b[49m\u001b[43mdata\u001b[49m\u001b[43m,\u001b[49m\u001b[43m \u001b[49m\u001b[43mends\u001b[49m\u001b[38;5;241;43m.\u001b[39;49m\u001b[43mflat\u001b[49m\u001b[43m,\u001b[49m\u001b[43m \u001b[49m\u001b[43mside\u001b[49m\u001b[38;5;241;43m=\u001b[39;49m\u001b[38;5;124;43m\"\u001b[39;49m\u001b[38;5;124;43mright\u001b[39;49m\u001b[38;5;124;43m\"\u001b[39;49m\u001b[43m)\u001b[49m\n\u001b[1;32m   1399\u001b[0m counts \u001b[38;5;241m=\u001b[39m (end_positions \u001b[38;5;241m-\u001b[39m start_positions)\n\u001b[1;32m   1401\u001b[0m tiled_data[:, :, ii]\u001b[38;5;241m.\u001b[39mflat \u001b[38;5;241m=\u001b[39m counts \u001b[38;5;241m>\u001b[39m \u001b[38;5;241m0\u001b[39m \u001b[38;5;28;01mif\u001b[39;00m binarize \u001b[38;5;28;01melse\u001b[39;00m counts\n",
      "File \u001b[0;32m<__array_function__ internals>:200\u001b[0m, in \u001b[0;36msearchsorted\u001b[0;34m(*args, **kwargs)\u001b[0m\n",
      "File \u001b[0;32m/srv/wu-lab/flash12/hjiang357/miniconda3/envs/allensdk/lib/python3.8/site-packages/numpy/core/fromnumeric.py:1413\u001b[0m, in \u001b[0;36msearchsorted\u001b[0;34m(a, v, side, sorter)\u001b[0m\n\u001b[1;32m   1345\u001b[0m \u001b[38;5;129m@array_function_dispatch\u001b[39m(_searchsorted_dispatcher)\n\u001b[1;32m   1346\u001b[0m \u001b[38;5;28;01mdef\u001b[39;00m \u001b[38;5;21msearchsorted\u001b[39m(a, v, side\u001b[38;5;241m=\u001b[39m\u001b[38;5;124m'\u001b[39m\u001b[38;5;124mleft\u001b[39m\u001b[38;5;124m'\u001b[39m, sorter\u001b[38;5;241m=\u001b[39m\u001b[38;5;28;01mNone\u001b[39;00m):\n\u001b[1;32m   1347\u001b[0m \u001b[38;5;250m    \u001b[39m\u001b[38;5;124;03m\"\"\"\u001b[39;00m\n\u001b[1;32m   1348\u001b[0m \u001b[38;5;124;03m    Find indices where elements should be inserted to maintain order.\u001b[39;00m\n\u001b[1;32m   1349\u001b[0m \n\u001b[0;32m   (...)\u001b[0m\n\u001b[1;32m   1411\u001b[0m \n\u001b[1;32m   1412\u001b[0m \u001b[38;5;124;03m    \"\"\"\u001b[39;00m\n\u001b[0;32m-> 1413\u001b[0m     \u001b[38;5;28;01mreturn\u001b[39;00m \u001b[43m_wrapfunc\u001b[49m\u001b[43m(\u001b[49m\u001b[43ma\u001b[49m\u001b[43m,\u001b[49m\u001b[43m \u001b[49m\u001b[38;5;124;43m'\u001b[39;49m\u001b[38;5;124;43msearchsorted\u001b[39;49m\u001b[38;5;124;43m'\u001b[39;49m\u001b[43m,\u001b[49m\u001b[43m \u001b[49m\u001b[43mv\u001b[49m\u001b[43m,\u001b[49m\u001b[43m \u001b[49m\u001b[43mside\u001b[49m\u001b[38;5;241;43m=\u001b[39;49m\u001b[43mside\u001b[49m\u001b[43m,\u001b[49m\u001b[43m \u001b[49m\u001b[43msorter\u001b[49m\u001b[38;5;241;43m=\u001b[39;49m\u001b[43msorter\u001b[49m\u001b[43m)\u001b[49m\n",
      "File \u001b[0;32m/srv/wu-lab/flash12/hjiang357/miniconda3/envs/allensdk/lib/python3.8/site-packages/numpy/core/fromnumeric.py:57\u001b[0m, in \u001b[0;36m_wrapfunc\u001b[0;34m(obj, method, *args, **kwds)\u001b[0m\n\u001b[1;32m     54\u001b[0m     \u001b[38;5;28;01mreturn\u001b[39;00m _wrapit(obj, method, \u001b[38;5;241m*\u001b[39margs, \u001b[38;5;241m*\u001b[39m\u001b[38;5;241m*\u001b[39mkwds)\n\u001b[1;32m     56\u001b[0m \u001b[38;5;28;01mtry\u001b[39;00m:\n\u001b[0;32m---> 57\u001b[0m     \u001b[38;5;28;01mreturn\u001b[39;00m \u001b[43mbound\u001b[49m\u001b[43m(\u001b[49m\u001b[38;5;241;43m*\u001b[39;49m\u001b[43margs\u001b[49m\u001b[43m,\u001b[49m\u001b[43m \u001b[49m\u001b[38;5;241;43m*\u001b[39;49m\u001b[38;5;241;43m*\u001b[39;49m\u001b[43mkwds\u001b[49m\u001b[43m)\u001b[49m\n\u001b[1;32m     58\u001b[0m \u001b[38;5;28;01mexcept\u001b[39;00m \u001b[38;5;167;01mTypeError\u001b[39;00m:\n\u001b[1;32m     59\u001b[0m     \u001b[38;5;66;03m# A TypeError occurs if the object does have such a method in its\u001b[39;00m\n\u001b[1;32m     60\u001b[0m     \u001b[38;5;66;03m# class, but its signature is not identical to that of NumPy's. This\u001b[39;00m\n\u001b[0;32m   (...)\u001b[0m\n\u001b[1;32m     64\u001b[0m     \u001b[38;5;66;03m# Call _wrapit from within the except clause to ensure a potential\u001b[39;00m\n\u001b[1;32m     65\u001b[0m     \u001b[38;5;66;03m# exception has a traceback chain.\u001b[39;00m\n\u001b[1;32m     66\u001b[0m     \u001b[38;5;28;01mreturn\u001b[39;00m _wrapit(obj, method, \u001b[38;5;241m*\u001b[39margs, \u001b[38;5;241m*\u001b[39m\u001b[38;5;241m*\u001b[39mkwds)\n",
      "\u001b[0;31mKeyboardInterrupt\u001b[0m: "
     ]
    }
   ],
   "source": [
    "# 调用方法获取drifting gratings刺激下的尖峰计数\n",
    "dg_spike_counts = session.presentationwise_spike_counts(bin_edges, dg_stimulus_presentation_ids, unit_ids)\n",
    "\n",
    "# 查看结果\n",
    "print(dg_spike_counts)"
   ]
  },
  {
   "cell_type": "code",
   "execution_count": 36,
   "id": "94ea1d53",
   "metadata": {},
   "outputs": [
    {
     "ename": "TypeError",
     "evalue": "presentationwise_spike_counts() missing 3 required positional arguments: 'bin_edges', 'stimulus_presentation_ids', and 'unit_ids'",
     "output_type": "error",
     "traceback": [
      "\u001b[0;31m---------------------------------------------------------------------------\u001b[0m",
      "\u001b[0;31mTypeError\u001b[0m                                 Traceback (most recent call last)",
      "Cell \u001b[0;32mIn[36], line 2\u001b[0m\n\u001b[1;32m      1\u001b[0m \u001b[38;5;66;03m# 获取与drifting gratings相关的尖峰计数数据\u001b[39;00m\n\u001b[0;32m----> 2\u001b[0m dg_spike_counts \u001b[38;5;241m=\u001b[39m \u001b[43msession\u001b[49m\u001b[38;5;241;43m.\u001b[39;49m\u001b[43mpresentationwise_spike_counts\u001b[49m\u001b[43m(\u001b[49m\u001b[43m)\u001b[49m\n\u001b[1;32m      3\u001b[0m \u001b[38;5;28mprint\u001b[39m(dg_spike_counts\u001b[38;5;241m.\u001b[39mhead())\n",
      "\u001b[0;31mTypeError\u001b[0m: presentationwise_spike_counts() missing 3 required positional arguments: 'bin_edges', 'stimulus_presentation_ids', and 'unit_ids'"
     ]
    }
   ],
   "source": [
    "# 获取与drifting gratings相关的尖峰计数数据\n",
    "dg_spike_counts = session.presentationwise_spike_counts()\n",
    "print(dg_spike_counts.head())"
   ]
  },
  {
   "cell_type": "markdown",
   "id": "7f7a129c",
   "metadata": {
    "papermill": {
     "duration": 0.077525,
     "end_time": "2023-11-30T06:33:59.839817",
     "exception": false,
     "start_time": "2023-11-30T06:33:59.762292",
     "status": "completed"
    },
    "pycharm": {
     "name": "#%% md\n"
    },
    "tags": []
   },
   "source": [
    "As you can see, the `session` object has a lot of attributes and methods that can be used to access the underlying data in the NWB file. Most of these will be touched on in other tutorials, but for now we will look at the only one that is capable of triggering additional data downloads, `get_lfp()`.\n",
    "\n",
    "In general, each NWB file is meant to be a self-contained repository of data for one recording session. However, for the Neuropixels data, we've broken with convention a bit in order to store LFP data in separate files. If we hadn't done this, analyzing one session would require an initial 15 GB file download. Now, the session is broken up in to ~2 GB chunks..\n",
    "\n",
    "Once you have created a `session` object, downloading the LFP data is simple (but may be slow):"
   ]
  },
  {
   "cell_type": "code",
   "execution_count": 20,
   "id": "774a07a5",
   "metadata": {},
   "outputs": [
    {
     "name": "stdout",
     "output_type": "stream",
     "text": [
      "{'size': array(['[250.0, 250.0]'], dtype=object), 'orientation': array([315.0, 90.0, 225.0, 135.0, 0.0, 270.0, 180.0, 45.0], dtype=object), 'phase': array(['[21211.93333333, 21211.93333333]'], dtype=object), 'spatial_frequency': array(['0.04'], dtype=object), 'temporal_frequency': array([4.0, 8.0, 2.0, 1.0, 15.0], dtype=object), 'contrast': array([0.8], dtype=object)}\n"
     ]
    }
   ],
   "source": [
    "# 提取与drifting_gratings相关的刺激参数\n",
    "dg_parameters = session.get_parameter_values_for_stimulus('drifting_gratings')\n",
    "print(dg_parameters)"
   ]
  },
  {
   "cell_type": "code",
   "execution_count": 21,
   "id": "c3ca4bab",
   "metadata": {},
   "outputs": [
    {
     "name": "stdout",
     "output_type": "stream",
     "text": [
      "<bound method EcephysSession.presentationwise_spike_times of <allensdk.brain_observatory.ecephys.ecephys_session.EcephysSession object at 0x7fd070effbb0>>\n"
     ]
    }
   ],
   "source": [
    "# 获取与drifting gratings相关的尖峰时间数据\n",
    "dg_spike_times = session.presentationwise_spike_times\n",
    "print(dg_spike_times)"
   ]
  },
  {
   "cell_type": "code",
   "execution_count": 22,
   "id": "983c7208",
   "metadata": {},
   "outputs": [
    {
     "name": "stdout",
     "output_type": "stream",
     "text": [
      "<bound method EcephysSession.presentationwise_spike_counts of <allensdk.brain_observatory.ecephys.ecephys_session.EcephysSession object at 0x7fd070effbb0>>\n"
     ]
    }
   ],
   "source": [
    "# 获取与drifting gratings相关的尖峰计数数据\n",
    "dg_spike_counts = session.presentationwise_spike_counts\n",
    "print(dg_spike_counts)"
   ]
  },
  {
   "cell_type": "code",
   "execution_count": 15,
   "id": "6fd47ae4",
   "metadata": {
    "execution": {
     "iopub.execute_input": "2023-11-30T06:33:59.996051Z",
     "iopub.status.busy": "2023-11-30T06:33:59.995527Z",
     "iopub.status.idle": "2023-11-30T06:36:59.460373Z",
     "shell.execute_reply": "2023-11-30T06:36:59.459660Z"
    },
    "papermill": {
     "duration": 179.544711,
     "end_time": "2023-11-30T06:36:59.462220",
     "exception": false,
     "start_time": "2023-11-30T06:33:59.917509",
     "status": "completed"
    },
    "pycharm": {
     "name": "#%%\n"
    },
    "tags": []
   },
   "outputs": [
    {
     "name": "stderr",
     "output_type": "stream",
     "text": [
      "/opt/hostedtoolcache/Python/3.8.18/x64/lib/python3.8/site-packages/hdmf/spec/namespace.py:531: UserWarning: Ignoring cached namespace 'hdmf-common' version 1.1.3 because version 1.8.0 is already loaded.\n",
      "  warn(\"Ignoring cached namespace '%s' version %s because version %s is already loaded.\"\n",
      "/opt/hostedtoolcache/Python/3.8.18/x64/lib/python3.8/site-packages/hdmf/spec/namespace.py:531: UserWarning: Ignoring cached namespace 'core' version 2.2.2 because version 2.6.0-alpha is already loaded.\n",
      "  warn(\"Ignoring cached namespace '%s' version %s because version %s is already loaded.\"\n",
      "WARNING:root:downloading a 1967.383MiB file from http://api.brain-map.org//api/v2/well_known_file_download/1026124481\n",
      "Downloading: 100%|██████████| 2.06G/2.06G [02:36<00:00, 13.2MB/s]\n"
     ]
    }
   ],
   "source": [
    "probe_id = session.probes.index.values[0]\n",
    "\n",
    "lfp = session.get_lfp(probe_id)"
   ]
  },
  {
   "cell_type": "markdown",
   "id": "adfd255a",
   "metadata": {
    "papermill": {
     "duration": 0.130023,
     "end_time": "2023-11-30T06:36:59.724222",
     "exception": false,
     "start_time": "2023-11-30T06:36:59.594199",
     "status": "completed"
    },
    "pycharm": {
     "name": "#%% md\n"
    },
    "tags": []
   },
   "source": [
    "Tips for analyzing LFP data can be found in [this tutorial](./ecephys_lfp_analysis.ipynb)."
   ]
  },
  {
   "cell_type": "markdown",
   "id": "9b0aeb80",
   "metadata": {
    "papermill": {
     "duration": 0.130385,
     "end_time": "2023-11-30T06:36:59.986077",
     "exception": false,
     "start_time": "2023-11-30T06:36:59.855692",
     "status": "completed"
    },
    "pycharm": {
     "name": "#%% md\n"
    },
    "tags": []
   },
   "source": [
    "### Downloading the complete dataset\n",
    "\n",
    "Analyzing one session at a time is nice, but in many case you'll want to be able to query across the whole dataset. To fill your cache with all available data, you can use a `for` loop like the one below. Note that we've added some checks to ensure that the complete file is present, in case the download has been interrupted due to an unreliable connection.\n",
    "\n",
    "Before running this code, please make sure that you have enough space available in your cache directory. You'll need around 855 GB for the whole dataset, and 147 GB if you're not downloading the LFP data files."
   ]
  },
  {
   "cell_type": "code",
   "execution_count": 16,
   "id": "edc422b4",
   "metadata": {
    "execution": {
     "iopub.execute_input": "2023-11-30T06:37:00.253446Z",
     "iopub.status.busy": "2023-11-30T06:37:00.252956Z",
     "iopub.status.idle": "2023-11-30T06:37:00.258616Z",
     "shell.execute_reply": "2023-11-30T06:37:00.258058Z"
    },
    "papermill": {
     "duration": 0.140528,
     "end_time": "2023-11-30T06:37:00.259967",
     "exception": false,
     "start_time": "2023-11-30T06:37:00.119439",
     "status": "completed"
    },
    "pycharm": {
     "name": "#%%\n"
    },
    "tags": []
   },
   "outputs": [],
   "source": [
    "if DOWNLOAD_COMPLETE_DATASET:\n",
    "    for session_id, row in sessions.iterrows():\n",
    "\n",
    "        truncated_file = True\n",
    "        directory = os.path.join(output_dir + '/session_' + str(session_id))\n",
    "\n",
    "        while truncated_file:\n",
    "            session = cache.get_session_data(session_id)\n",
    "            try:\n",
    "                print(session.specimen_name)\n",
    "                truncated_file = False\n",
    "            except OSError:\n",
    "                shutil.rmtree(directory)\n",
    "                print(\" Truncated spikes file, re-downloading\")\n",
    "\n",
    "        for probe_id, probe in session.probes.iterrows():\n",
    "\n",
    "            print(' ' + probe.description)\n",
    "            truncated_lfp = True\n",
    "\n",
    "            while truncated_lfp:\n",
    "                try:\n",
    "                    lfp = session.get_lfp(probe_id)\n",
    "                    truncated_lfp = False\n",
    "                except OSError:\n",
    "                    fname = directory + '/probe_' + str(probe_id) + '_lfp.nwb'\n",
    "                    os.remove(fname)\n",
    "                    print(\"  Truncated LFP file, re-downloading\")\n",
    "                except ValueError:\n",
    "                    print(\"  LFP file not found.\")\n",
    "                    truncated_lfp = False"
   ]
  },
  {
   "cell_type": "markdown",
   "id": "58e81eff",
   "metadata": {
    "papermill": {
     "duration": 0.130696,
     "end_time": "2023-11-30T06:37:00.524750",
     "exception": false,
     "start_time": "2023-11-30T06:37:00.394054",
     "status": "completed"
    },
    "pycharm": {
     "name": "#%% md\n"
    },
    "tags": []
   },
   "source": [
    "## Accessing data on AWS"
   ]
  },
  {
   "cell_type": "markdown",
   "id": "53339a6d",
   "metadata": {
    "papermill": {
     "duration": 0.130405,
     "end_time": "2023-11-30T06:37:00.786078",
     "exception": false,
     "start_time": "2023-11-30T06:37:00.655673",
     "status": "completed"
    },
    "pycharm": {
     "name": "#%% md\n"
    },
    "tags": []
   },
   "source": [
    "If you want to analyze the data without downloading anything to your local machine, you can use the AllenSDK on AWS.\n",
    "\n",
    "Follow [these instructions](https://github.com/AllenInstitute/AllenSDK/wiki/Use-the-Allen-Brain-Observatory-%E2%80%93-Visual-Coding-on-AWS) to launch a Jupyter notebook. Then, simply point to the existing manifest file in the Allen Institute's S3 bucket, and all of the data will be immediately available:"
   ]
  },
  {
   "cell_type": "code",
   "execution_count": 17,
   "id": "d4ae45de",
   "metadata": {
    "execution": {
     "iopub.execute_input": "2023-11-30T06:37:01.081882Z",
     "iopub.status.busy": "2023-11-30T06:37:01.081613Z",
     "iopub.status.idle": "2023-11-30T06:37:01.085220Z",
     "shell.execute_reply": "2023-11-30T06:37:01.084715Z"
    },
    "papermill": {
     "duration": 0.167183,
     "end_time": "2023-11-30T06:37:01.086515",
     "exception": false,
     "start_time": "2023-11-30T06:37:00.919332",
     "status": "completed"
    },
    "pycharm": {
     "name": "#%%\n"
    },
    "tags": []
   },
   "outputs": [],
   "source": [
    "cache = EcephysProjectCache(manifest=manifest_path)"
   ]
  },
  {
   "cell_type": "markdown",
   "id": "33b55412",
   "metadata": {
    "papermill": {
     "duration": 0.132476,
     "end_time": "2023-11-30T06:37:01.352339",
     "exception": false,
     "start_time": "2023-11-30T06:37:01.219863",
     "status": "completed"
    },
    "pycharm": {
     "name": "#%% md\n"
    },
    "tags": []
   },
   "source": [
    "Once your cache is initialized, you can create the `sessions` table, load individual `session` objects, and access LFP data using the same commands described above.\n",
    "\n",
    "Additional tutorials specific to using AWS are coming soon."
   ]
  },
  {
   "cell_type": "markdown",
   "id": "bbf77a21",
   "metadata": {
    "papermill": {
     "duration": 0.130782,
     "end_time": "2023-11-30T06:37:01.615168",
     "exception": false,
     "start_time": "2023-11-30T06:37:01.484386",
     "status": "completed"
    },
    "pycharm": {
     "name": "#%% md\n"
    },
    "tags": []
   },
   "source": [
    "## Direct download via api.brain-map.org"
   ]
  },
  {
   "cell_type": "markdown",
   "id": "434220ac",
   "metadata": {
    "papermill": {
     "duration": 0.130764,
     "end_time": "2023-11-30T06:37:01.877139",
     "exception": false,
     "start_time": "2023-11-30T06:37:01.746375",
     "status": "completed"
    },
    "pycharm": {
     "name": "#%% md\n"
    },
    "tags": []
   },
   "source": [
    "Some people have reported issues downloading the files via the AllenSDK (the connection is extremely slow, or gets interrupted frequently). If this applies to you, you can try downloading the files via HTTP requests sent to **api.brain-map.org**. This approach is not recommended, because you will have to manually keep track of the file locations. But if you're doing analysis that doesn't depend on the AllenSDK (e.g., in Matlab), this may not matter to you.\n",
    "\n",
    "You can follow the steps below to retrieve the URLs for all of the NWB files in this dataset."
   ]
  },
  {
   "cell_type": "code",
   "execution_count": 18,
   "id": "51c15b73",
   "metadata": {
    "execution": {
     "iopub.execute_input": "2023-11-30T06:37:02.169911Z",
     "iopub.status.busy": "2023-11-30T06:37:02.169457Z",
     "iopub.status.idle": "2023-11-30T06:37:02.173283Z",
     "shell.execute_reply": "2023-11-30T06:37:02.172744Z"
    },
    "papermill": {
     "duration": 0.166857,
     "end_time": "2023-11-30T06:37:02.174570",
     "exception": false,
     "start_time": "2023-11-30T06:37:02.007713",
     "status": "completed"
    },
    "pycharm": {
     "name": "#%%\n"
    },
    "tags": []
   },
   "outputs": [],
   "source": [
    "from allensdk.brain_observatory.ecephys.ecephys_project_api.utilities import build_and_execute\n",
    "from allensdk.brain_observatory.ecephys.ecephys_project_api.rma_engine import RmaEngine\n",
    "from allensdk.brain_observatory.ecephys.ecephys_project_cache import EcephysProjectCache\n",
    "\n",
    "rma_engine = RmaEngine(scheme=\"http\", host=\"api.brain-map.org\")"
   ]
  },
  {
   "cell_type": "code",
   "execution_count": 19,
   "id": "49fdecb5",
   "metadata": {
    "execution": {
     "iopub.execute_input": "2023-11-30T06:37:02.441601Z",
     "iopub.status.busy": "2023-11-30T06:37:02.440997Z",
     "iopub.status.idle": "2023-11-30T06:37:03.099094Z",
     "shell.execute_reply": "2023-11-30T06:37:03.098439Z"
    },
    "papermill": {
     "duration": 0.793805,
     "end_time": "2023-11-30T06:37:03.100741",
     "exception": false,
     "start_time": "2023-11-30T06:37:02.306936",
     "status": "completed"
    },
    "pycharm": {
     "name": "#%%\n"
    },
    "tags": []
   },
   "outputs": [],
   "source": [
    "cache = EcephysProjectCache.from_warehouse(manifest=manifest_path)\n",
    "\n",
    "sessions = cache.get_session_table()"
   ]
  },
  {
   "cell_type": "code",
   "execution_count": 20,
   "id": "71ed43a0",
   "metadata": {
    "execution": {
     "iopub.execute_input": "2023-11-30T06:37:03.365507Z",
     "iopub.status.busy": "2023-11-30T06:37:03.364830Z",
     "iopub.status.idle": "2023-11-30T06:37:13.344314Z",
     "shell.execute_reply": "2023-11-30T06:37:13.343653Z"
    },
    "papermill": {
     "duration": 10.111752,
     "end_time": "2023-11-30T06:37:13.345613",
     "exception": false,
     "start_time": "2023-11-30T06:37:03.233861",
     "status": "completed"
    },
    "pycharm": {
     "name": "#%%\n"
    },
    "tags": []
   },
   "outputs": [
    {
     "name": "stdout",
     "output_type": "stream",
     "text": [
      "http://api.brain-map.org//api/v2/well_known_file_download/1026124469\n",
      "http://api.brain-map.org//api/v2/well_known_file_download/1026124034\n",
      "http://api.brain-map.org//api/v2/well_known_file_download/1026123696\n",
      "http://api.brain-map.org//api/v2/well_known_file_download/1026123599\n",
      "http://api.brain-map.org//api/v2/well_known_file_download/1026123989\n",
      "http://api.brain-map.org//api/v2/well_known_file_download/1026123897\n",
      "http://api.brain-map.org//api/v2/well_known_file_download/1026123964\n",
      "http://api.brain-map.org//api/v2/well_known_file_download/1026124068\n",
      "http://api.brain-map.org//api/v2/well_known_file_download/1026124429\n",
      "http://api.brain-map.org//api/v2/well_known_file_download/1026124262\n",
      "http://api.brain-map.org//api/v2/well_known_file_download/1026124724\n",
      "http://api.brain-map.org//api/v2/well_known_file_download/1026124242\n",
      "http://api.brain-map.org//api/v2/well_known_file_download/1026124863\n",
      "http://api.brain-map.org//api/v2/well_known_file_download/1026123537\n",
      "http://api.brain-map.org//api/v2/well_known_file_download/1026124326\n",
      "http://api.brain-map.org//api/v2/well_known_file_download/1026124684\n",
      "http://api.brain-map.org//api/v2/well_known_file_download/1026124216\n",
      "http://api.brain-map.org//api/v2/well_known_file_download/1026124603\n",
      "http://api.brain-map.org//api/v2/well_known_file_download/1026123685\n",
      "http://api.brain-map.org//api/v2/well_known_file_download/1026123877\n",
      "http://api.brain-map.org//api/v2/well_known_file_download/1026123377\n",
      "http://api.brain-map.org//api/v2/well_known_file_download/1026123651\n",
      "http://api.brain-map.org//api/v2/well_known_file_download/1026124702\n",
      "http://api.brain-map.org//api/v2/well_known_file_download/1026124793\n",
      "http://api.brain-map.org//api/v2/well_known_file_download/1026124884\n",
      "http://api.brain-map.org//api/v2/well_known_file_download/1026124569\n",
      "http://api.brain-map.org//api/v2/well_known_file_download/1026124500\n",
      "http://api.brain-map.org//api/v2/well_known_file_download/1026124293\n",
      "http://api.brain-map.org//api/v2/well_known_file_download/1026124194\n",
      "http://api.brain-map.org//api/v2/well_known_file_download/1026124517\n",
      "http://api.brain-map.org//api/v2/well_known_file_download/1026124918\n",
      "http://api.brain-map.org//api/v2/well_known_file_download/1026124152\n",
      "http://api.brain-map.org//api/v2/well_known_file_download/1026124109\n",
      "http://api.brain-map.org//api/v2/well_known_file_download/1026124348\n",
      "http://api.brain-map.org//api/v2/well_known_file_download/1026124625\n",
      "http://api.brain-map.org//api/v2/well_known_file_download/1026124179\n",
      "http://api.brain-map.org//api/v2/well_known_file_download/1026124007\n",
      "http://api.brain-map.org//api/v2/well_known_file_download/1026124309\n",
      "http://api.brain-map.org//api/v2/well_known_file_download/1026123803\n",
      "http://api.brain-map.org//api/v2/well_known_file_download/1026124405\n",
      "http://api.brain-map.org//api/v2/well_known_file_download/1026123847\n",
      "http://api.brain-map.org//api/v2/well_known_file_download/1026124645\n",
      "http://api.brain-map.org//api/v2/well_known_file_download/1026124545\n",
      "http://api.brain-map.org//api/v2/well_known_file_download/1026124759\n",
      "http://api.brain-map.org//api/v2/well_known_file_download/1026124804\n",
      "http://api.brain-map.org//api/v2/well_known_file_download/1026124743\n",
      "http://api.brain-map.org//api/v2/well_known_file_download/1026125021\n",
      "http://api.brain-map.org//api/v2/well_known_file_download/1026124840\n",
      "http://api.brain-map.org//api/v2/well_known_file_download/1026124085\n",
      "http://api.brain-map.org//api/v2/well_known_file_download/1026124368\n",
      "http://api.brain-map.org//api/v2/well_known_file_download/1026123824\n",
      "http://api.brain-map.org//api/v2/well_known_file_download/1026123625\n",
      "http://api.brain-map.org//api/v2/well_known_file_download/1026123787\n",
      "http://api.brain-map.org//api/v2/well_known_file_download/1026123519\n",
      "http://api.brain-map.org//api/v2/well_known_file_download/1026123725\n",
      "http://api.brain-map.org//api/v2/well_known_file_download/1026122596\n",
      "http://api.brain-map.org//api/v2/well_known_file_download/1026124422\n",
      "http://api.brain-map.org//api/v2/well_known_file_download/1026123943\n"
     ]
    }
   ],
   "source": [
    "def retrieve_link(session_id):\n",
    "    \n",
    "    well_known_files = build_and_execute(\n",
    "        (\n",
    "        \"criteria=model::WellKnownFile\"\n",
    "        \",rma::criteria,well_known_file_type[name$eq'EcephysNwb']\"\n",
    "        \"[attachable_type$eq'EcephysSession']\"\n",
    "        r\"[attachable_id$eq{{session_id}}]\"\n",
    "        ),\n",
    "        engine=rma_engine.get_rma_tabular, \n",
    "        session_id=session_id\n",
    "    )\n",
    "    \n",
    "    return 'http://api.brain-map.org/' + well_known_files['download_link'].iloc[0]\n",
    "\n",
    "download_links = [retrieve_link(session_id) for session_id in sessions.index.values]\n",
    "\n",
    "_ = [print(link) for link in download_links]"
   ]
  },
  {
   "cell_type": "markdown",
   "id": "48f4fbba",
   "metadata": {
    "papermill": {
     "duration": 0.142373,
     "end_time": "2023-11-30T06:37:13.621529",
     "exception": false,
     "start_time": "2023-11-30T06:37:13.479156",
     "status": "completed"
    },
    "pycharm": {
     "name": "#%% md\n"
    },
    "tags": []
   },
   "source": [
    "`download_links` is a list of 58 links that can be used to download the NWB files for all available sessions. Clicking on the links above should start the download automatically.\n",
    "\n",
    "Please keep in mind that you'll have to move these files to the appropriate sub-directory once the download is complete. The `EcephysProjectCache` object expects the following directory structure:\n",
    "\n",
    "```\n",
    "cache_dir/\n",
    "+-- manifest.json               \n",
    "+-- session_<id>/    \n",
    "¦   +-- session_<id>.nwb\n",
    "+-- session_<id>/\n",
    "¦   +-- session_<id>.nwb\n",
    "+-- session_<id>/\n",
    "¦   +-- session_<id>.nwb\n",
    "\n",
    "```\n",
    "\n",
    "If you aren't interested in using the `EcephysProjectCache` object to keep track of what you've downloaded, you can create a `session` object just by passing a path to an NWB file:"
   ]
  },
  {
   "cell_type": "code",
   "execution_count": 21,
   "id": "19129285",
   "metadata": {
    "execution": {
     "iopub.execute_input": "2023-11-30T06:37:13.913366Z",
     "iopub.status.busy": "2023-11-30T06:37:13.913094Z",
     "iopub.status.idle": "2023-11-30T06:37:13.916707Z",
     "shell.execute_reply": "2023-11-30T06:37:13.916151Z"
    },
    "papermill": {
     "duration": 0.136313,
     "end_time": "2023-11-30T06:37:13.917966",
     "exception": false,
     "start_time": "2023-11-30T06:37:13.781653",
     "status": "completed"
    },
    "pycharm": {
     "name": "#%%\n"
    },
    "tags": []
   },
   "outputs": [],
   "source": [
    "from allensdk.brain_observatory.ecephys.ecephys_session import EcephysSession\n",
    "\n",
    "# nwb_path = '/mnt/nvme0/ecephys_cache_dir_10_31/session_721123822/session_721123822.nwb'\n",
    "\n",
    "# session = EcephysSession.from_nwb_path(nwb_path, api_kwargs={\n",
    "#         \"amplitude_cutoff_maximum\": np.inf,\n",
    "#         \"presence_ratio_minimum\": -np.inf,\n",
    "#         \"isi_violations_maximum\": np.inf\n",
    "#     })"
   ]
  },
  {
   "cell_type": "markdown",
   "id": "c99ad34f",
   "metadata": {
    "papermill": {
     "duration": 0.131136,
     "end_time": "2023-11-30T06:37:14.180603",
     "exception": false,
     "start_time": "2023-11-30T06:37:14.049467",
     "status": "completed"
    },
    "pycharm": {
     "name": "#%% md\n"
    },
    "tags": []
   },
   "source": [
    "This will load the data for one session, without applying the default unit quality metric filters. Everything will be available except the LFP data, because the `get_lfp()` method can only find the associated LFP files if you're using the `EcephysProjectCache` object.\n",
    "\n",
    "To obtain similar links for the LFP files, you can use the following code:"
   ]
  },
  {
   "cell_type": "code",
   "execution_count": 22,
   "id": "28a3b1de",
   "metadata": {
    "execution": {
     "iopub.execute_input": "2023-11-30T06:37:14.442979Z",
     "iopub.status.busy": "2023-11-30T06:37:14.442721Z",
     "iopub.status.idle": "2023-11-30T06:38:06.702943Z",
     "shell.execute_reply": "2023-11-30T06:38:06.702240Z"
    },
    "papermill": {
     "duration": 52.526123,
     "end_time": "2023-11-30T06:38:06.837588",
     "exception": false,
     "start_time": "2023-11-30T06:37:14.311465",
     "status": "completed"
    },
    "pycharm": {
     "name": "#%%\n"
    },
    "tags": []
   },
   "outputs": [
    {
     "name": "stdout",
     "output_type": "stream",
     "text": [
      "http://api.brain-map.org//api/v2/well_known_file_download/1026124040\n",
      "http://api.brain-map.org//api/v2/well_known_file_download/1026124036\n",
      "http://api.brain-map.org//api/v2/well_known_file_download/1026124038\n",
      "http://api.brain-map.org//api/v2/well_known_file_download/1026124042\n",
      "http://api.brain-map.org//api/v2/well_known_file_download/1026124044\n",
      "http://api.brain-map.org//api/v2/well_known_file_download/1026124046\n",
      "http://api.brain-map.org//api/v2/well_known_file_download/1026123601\n",
      "http://api.brain-map.org//api/v2/well_known_file_download/1026123603\n",
      "http://api.brain-map.org//api/v2/well_known_file_download/1026123605\n",
      "http://api.brain-map.org//api/v2/well_known_file_download/1026123607\n",
      "http://api.brain-map.org//api/v2/well_known_file_download/1026123609\n",
      "http://api.brain-map.org//api/v2/well_known_file_download/1026123539\n",
      "http://api.brain-map.org//api/v2/well_known_file_download/1026123543\n",
      "http://api.brain-map.org//api/v2/well_known_file_download/1026123550\n",
      "http://api.brain-map.org//api/v2/well_known_file_download/1026123546\n",
      "http://api.brain-map.org//api/v2/well_known_file_download/1026123541\n",
      "http://api.brain-map.org//api/v2/well_known_file_download/1026123548\n",
      "http://api.brain-map.org//api/v2/well_known_file_download/1026124433\n",
      "http://api.brain-map.org//api/v2/well_known_file_download/1026124436\n",
      "http://api.brain-map.org//api/v2/well_known_file_download/1026124439\n",
      "http://api.brain-map.org//api/v2/well_known_file_download/1026124442\n",
      "http://api.brain-map.org//api/v2/well_known_file_download/1026124446\n",
      "http://api.brain-map.org//api/v2/well_known_file_download/1026124448\n",
      "http://api.brain-map.org//api/v2/well_known_file_download/1026124728\n",
      "http://api.brain-map.org//api/v2/well_known_file_download/1026124726\n",
      "http://api.brain-map.org//api/v2/well_known_file_download/1026124730\n",
      "http://api.brain-map.org//api/v2/well_known_file_download/1026124732\n",
      "http://api.brain-map.org//api/v2/well_known_file_download/1026124737\n",
      "http://api.brain-map.org//api/v2/well_known_file_download/1026124735\n",
      "http://api.brain-map.org//api/v2/well_known_file_download/1026123901\n",
      "http://api.brain-map.org//api/v2/well_known_file_download/1026123909\n",
      "http://api.brain-map.org//api/v2/well_known_file_download/1026123907\n",
      "http://api.brain-map.org//api/v2/well_known_file_download/1026123905\n",
      "http://api.brain-map.org//api/v2/well_known_file_download/1026123903\n",
      "http://api.brain-map.org//api/v2/well_known_file_download/1026123899\n",
      "http://api.brain-map.org//api/v2/well_known_file_download/1026124867\n",
      "http://api.brain-map.org//api/v2/well_known_file_download/1026124871\n",
      "http://api.brain-map.org//api/v2/well_known_file_download/1026124873\n",
      "http://api.brain-map.org//api/v2/well_known_file_download/1026124875\n",
      "http://api.brain-map.org//api/v2/well_known_file_download/1026124869\n",
      "http://api.brain-map.org//api/v2/well_known_file_download/1026124865\n",
      "http://api.brain-map.org//api/v2/well_known_file_download/1026123993\n",
      "http://api.brain-map.org//api/v2/well_known_file_download/1026123997\n",
      "http://api.brain-map.org//api/v2/well_known_file_download/1026124001\n",
      "http://api.brain-map.org//api/v2/well_known_file_download/1026123999\n",
      "http://api.brain-map.org//api/v2/well_known_file_download/1026123995\n",
      "http://api.brain-map.org//api/v2/well_known_file_download/1026123991\n",
      "http://api.brain-map.org//api/v2/well_known_file_download/1026123702\n",
      "http://api.brain-map.org//api/v2/well_known_file_download/1026123704\n",
      "http://api.brain-map.org//api/v2/well_known_file_download/1026123700\n",
      "http://api.brain-map.org//api/v2/well_known_file_download/1026123706\n",
      "http://api.brain-map.org//api/v2/well_known_file_download/1026123710\n",
      "http://api.brain-map.org//api/v2/well_known_file_download/1026123708\n",
      "http://api.brain-map.org//api/v2/well_known_file_download/1026124330\n",
      "http://api.brain-map.org//api/v2/well_known_file_download/1026124334\n",
      "http://api.brain-map.org//api/v2/well_known_file_download/1026124337\n",
      "http://api.brain-map.org//api/v2/well_known_file_download/1026124332\n",
      "http://api.brain-map.org//api/v2/well_known_file_download/1026124328\n",
      "http://api.brain-map.org//api/v2/well_known_file_download/1026124229\n",
      "http://api.brain-map.org//api/v2/well_known_file_download/1026124227\n",
      "http://api.brain-map.org//api/v2/well_known_file_download/1026124225\n",
      "http://api.brain-map.org//api/v2/well_known_file_download/1026124221\n",
      "http://api.brain-map.org//api/v2/well_known_file_download/1026124223\n",
      "http://api.brain-map.org//api/v2/well_known_file_download/1026124219\n",
      "http://api.brain-map.org//api/v2/well_known_file_download/1026124697\n",
      "http://api.brain-map.org//api/v2/well_known_file_download/1026124695\n",
      "http://api.brain-map.org//api/v2/well_known_file_download/1026124688\n",
      "http://api.brain-map.org//api/v2/well_known_file_download/1026124686\n",
      "http://api.brain-map.org//api/v2/well_known_file_download/1026124690\n",
      "http://api.brain-map.org//api/v2/well_known_file_download/1026124693\n",
      "http://api.brain-map.org//api/v2/well_known_file_download/1026124268\n",
      "http://api.brain-map.org//api/v2/well_known_file_download/1026124266\n",
      "http://api.brain-map.org//api/v2/well_known_file_download/1026124264\n",
      "http://api.brain-map.org//api/v2/well_known_file_download/1026124270\n",
      "http://api.brain-map.org//api/v2/well_known_file_download/1026124272\n",
      "http://api.brain-map.org//api/v2/well_known_file_download/1026124274\n",
      "http://api.brain-map.org//api/v2/well_known_file_download/1026124888\n",
      "http://api.brain-map.org//api/v2/well_known_file_download/1026124890\n",
      "http://api.brain-map.org//api/v2/well_known_file_download/1026124886\n",
      "http://api.brain-map.org//api/v2/well_known_file_download/1026124892\n",
      "http://api.brain-map.org//api/v2/well_known_file_download/1026124894\n",
      "http://api.brain-map.org//api/v2/well_known_file_download/1026124803\n",
      "http://api.brain-map.org//api/v2/well_known_file_download/1026124799\n",
      "http://api.brain-map.org//api/v2/well_known_file_download/1026124795\n",
      "http://api.brain-map.org//api/v2/well_known_file_download/1026124801\n",
      "http://api.brain-map.org//api/v2/well_known_file_download/1026124797\n",
      "http://api.brain-map.org//api/v2/well_known_file_download/1026124806\n",
      "http://api.brain-map.org//api/v2/well_known_file_download/1026124571\n",
      "http://api.brain-map.org//api/v2/well_known_file_download/1026124575\n",
      "http://api.brain-map.org//api/v2/well_known_file_download/1026124579\n",
      "http://api.brain-map.org//api/v2/well_known_file_download/1026124577\n",
      "http://api.brain-map.org//api/v2/well_known_file_download/1026124582\n",
      "http://api.brain-map.org//api/v2/well_known_file_download/1026124573\n",
      "http://api.brain-map.org//api/v2/well_known_file_download/1026123975\n",
      "http://api.brain-map.org//api/v2/well_known_file_download/1026123978\n",
      "http://api.brain-map.org//api/v2/well_known_file_download/1026123973\n",
      "http://api.brain-map.org//api/v2/well_known_file_download/1026123966\n",
      "http://api.brain-map.org//api/v2/well_known_file_download/1026123971\n",
      "http://api.brain-map.org//api/v2/well_known_file_download/1026123969\n",
      "http://api.brain-map.org//api/v2/well_known_file_download/1026124614\n",
      "http://api.brain-map.org//api/v2/well_known_file_download/1026124612\n",
      "http://api.brain-map.org//api/v2/well_known_file_download/1026124616\n",
      "http://api.brain-map.org//api/v2/well_known_file_download/1026124610\n",
      "http://api.brain-map.org//api/v2/well_known_file_download/1026124607\n",
      "http://api.brain-map.org//api/v2/well_known_file_download/1026124605\n",
      "http://api.brain-map.org//api/v2/well_known_file_download/1026123385\n",
      "http://api.brain-map.org//api/v2/well_known_file_download/1026123383\n",
      "http://api.brain-map.org//api/v2/well_known_file_download/1026123379\n",
      "http://api.brain-map.org//api/v2/well_known_file_download/1026123381\n",
      "http://api.brain-map.org//api/v2/well_known_file_download/1026124248\n",
      "http://api.brain-map.org//api/v2/well_known_file_download/1026124246\n",
      "http://api.brain-map.org//api/v2/well_known_file_download/1026124252\n",
      "http://api.brain-map.org//api/v2/well_known_file_download/1026124250\n",
      "http://api.brain-map.org//api/v2/well_known_file_download/1026124254\n",
      "http://api.brain-map.org//api/v2/well_known_file_download/1026124244\n",
      "http://api.brain-map.org//api/v2/well_known_file_download/1026124709\n",
      "http://api.brain-map.org//api/v2/well_known_file_download/1026124707\n",
      "http://api.brain-map.org//api/v2/well_known_file_download/1026124704\n",
      "http://api.brain-map.org//api/v2/well_known_file_download/1026124711\n",
      "http://api.brain-map.org//api/v2/well_known_file_download/1026124713\n",
      "http://api.brain-map.org//api/v2/well_known_file_download/1026124715\n",
      "http://api.brain-map.org//api/v2/well_known_file_download/1026123691\n",
      "http://api.brain-map.org//api/v2/well_known_file_download/1026123695\n",
      "http://api.brain-map.org//api/v2/well_known_file_download/1026123693\n",
      "http://api.brain-map.org//api/v2/well_known_file_download/1026123689\n",
      "http://api.brain-map.org//api/v2/well_known_file_download/1026123687\n",
      "http://api.brain-map.org//api/v2/well_known_file_download/1026124073\n",
      "http://api.brain-map.org//api/v2/well_known_file_download/1026124075\n",
      "http://api.brain-map.org//api/v2/well_known_file_download/1026124071\n",
      "http://api.brain-map.org//api/v2/well_known_file_download/1026124082\n",
      "http://api.brain-map.org//api/v2/well_known_file_download/1026124079\n",
      "http://api.brain-map.org//api/v2/well_known_file_download/1026124077\n",
      "http://api.brain-map.org//api/v2/well_known_file_download/1026123879\n",
      "http://api.brain-map.org//api/v2/well_known_file_download/1026123881\n",
      "http://api.brain-map.org//api/v2/well_known_file_download/1026123883\n",
      "http://api.brain-map.org//api/v2/well_known_file_download/1026123885\n",
      "http://api.brain-map.org//api/v2/well_known_file_download/1026124205\n",
      "http://api.brain-map.org//api/v2/well_known_file_download/1026124208\n",
      "http://api.brain-map.org//api/v2/well_known_file_download/1026124199\n",
      "http://api.brain-map.org//api/v2/well_known_file_download/1026124197\n",
      "http://api.brain-map.org//api/v2/well_known_file_download/1026124201\n",
      "http://api.brain-map.org//api/v2/well_known_file_download/1026124203\n",
      "http://api.brain-map.org//api/v2/well_known_file_download/1026124507\n",
      "http://api.brain-map.org//api/v2/well_known_file_download/1026124504\n",
      "http://api.brain-map.org//api/v2/well_known_file_download/1026124502\n",
      "http://api.brain-map.org//api/v2/well_known_file_download/1026124509\n",
      "file for probe 773463023 not found\n",
      "http://api.brain-map.org//api/v2/well_known_file_download/1026124511\n",
      "http://api.brain-map.org//api/v2/well_known_file_download/1026124519\n",
      "http://api.brain-map.org//api/v2/well_known_file_download/1026124523\n",
      "http://api.brain-map.org//api/v2/well_known_file_download/1026124527\n",
      "http://api.brain-map.org//api/v2/well_known_file_download/1026124525\n",
      "http://api.brain-map.org//api/v2/well_known_file_download/1026124521\n",
      "http://api.brain-map.org//api/v2/well_known_file_download/1026124529\n",
      "http://api.brain-map.org//api/v2/well_known_file_download/1026124299\n",
      "http://api.brain-map.org//api/v2/well_known_file_download/1026124297\n",
      "http://api.brain-map.org//api/v2/well_known_file_download/1026124295\n",
      "http://api.brain-map.org//api/v2/well_known_file_download/1026124301\n",
      "http://api.brain-map.org//api/v2/well_known_file_download/1026124303\n",
      "http://api.brain-map.org//api/v2/well_known_file_download/1026124305\n",
      "http://api.brain-map.org//api/v2/well_known_file_download/1026124922\n",
      "http://api.brain-map.org//api/v2/well_known_file_download/1026124924\n",
      "http://api.brain-map.org//api/v2/well_known_file_download/1026124926\n",
      "http://api.brain-map.org//api/v2/well_known_file_download/1026124928\n",
      "http://api.brain-map.org//api/v2/well_known_file_download/1026124930\n",
      "http://api.brain-map.org//api/v2/well_known_file_download/1026124920\n",
      "http://api.brain-map.org//api/v2/well_known_file_download/1026124156\n",
      "http://api.brain-map.org//api/v2/well_known_file_download/1026124164\n",
      "http://api.brain-map.org//api/v2/well_known_file_download/1026124160\n",
      "http://api.brain-map.org//api/v2/well_known_file_download/1026124162\n",
      "http://api.brain-map.org//api/v2/well_known_file_download/1026124158\n",
      "http://api.brain-map.org//api/v2/well_known_file_download/1026124154\n",
      "http://api.brain-map.org//api/v2/well_known_file_download/1026124415\n",
      "http://api.brain-map.org//api/v2/well_known_file_download/1026124413\n",
      "http://api.brain-map.org//api/v2/well_known_file_download/1026124417\n",
      "http://api.brain-map.org//api/v2/well_known_file_download/1026124409\n",
      "http://api.brain-map.org//api/v2/well_known_file_download/1026124411\n",
      "http://api.brain-map.org//api/v2/well_known_file_download/1026124407\n",
      "http://api.brain-map.org//api/v2/well_known_file_download/1026124311\n",
      "http://api.brain-map.org//api/v2/well_known_file_download/1026124313\n",
      "http://api.brain-map.org//api/v2/well_known_file_download/1026124319\n",
      "http://api.brain-map.org//api/v2/well_known_file_download/1026124317\n",
      "http://api.brain-map.org//api/v2/well_known_file_download/1026124321\n",
      "http://api.brain-map.org//api/v2/well_known_file_download/1026124315\n",
      "http://api.brain-map.org//api/v2/well_known_file_download/1026124350\n",
      "http://api.brain-map.org//api/v2/well_known_file_download/1026124354\n",
      "http://api.brain-map.org//api/v2/well_known_file_download/1026124356\n",
      "http://api.brain-map.org//api/v2/well_known_file_download/1026124358\n",
      "http://api.brain-map.org//api/v2/well_known_file_download/1026124360\n",
      "http://api.brain-map.org//api/v2/well_known_file_download/1026124352\n",
      "http://api.brain-map.org//api/v2/well_known_file_download/1026124627\n",
      "http://api.brain-map.org//api/v2/well_known_file_download/1026124631\n",
      "http://api.brain-map.org//api/v2/well_known_file_download/1026124629\n",
      "http://api.brain-map.org//api/v2/well_known_file_download/1026124634\n",
      "http://api.brain-map.org//api/v2/well_known_file_download/1026124638\n",
      "http://api.brain-map.org//api/v2/well_known_file_download/1026124636\n",
      "http://api.brain-map.org//api/v2/well_known_file_download/1026123805\n",
      "http://api.brain-map.org//api/v2/well_known_file_download/1026123809\n",
      "http://api.brain-map.org//api/v2/well_known_file_download/1026123807\n",
      "http://api.brain-map.org//api/v2/well_known_file_download/1026123811\n",
      "http://api.brain-map.org//api/v2/well_known_file_download/1026123813\n",
      "http://api.brain-map.org//api/v2/well_known_file_download/1026123815\n",
      "http://api.brain-map.org//api/v2/well_known_file_download/1026124183\n",
      "http://api.brain-map.org//api/v2/well_known_file_download/1026124187\n",
      "http://api.brain-map.org//api/v2/well_known_file_download/1026124185\n",
      "http://api.brain-map.org//api/v2/well_known_file_download/1026124181\n",
      "http://api.brain-map.org//api/v2/well_known_file_download/1026124189\n",
      "http://api.brain-map.org//api/v2/well_known_file_download/1026124191\n",
      "http://api.brain-map.org//api/v2/well_known_file_download/1026124013\n",
      "http://api.brain-map.org//api/v2/well_known_file_download/1026124011\n",
      "http://api.brain-map.org//api/v2/well_known_file_download/1026124009\n",
      "http://api.brain-map.org//api/v2/well_known_file_download/1026124015\n",
      "http://api.brain-map.org//api/v2/well_known_file_download/1026124017\n",
      "http://api.brain-map.org//api/v2/well_known_file_download/1026124019\n",
      "http://api.brain-map.org//api/v2/well_known_file_download/1026124111\n",
      "http://api.brain-map.org//api/v2/well_known_file_download/1026124116\n",
      "http://api.brain-map.org//api/v2/well_known_file_download/1026124114\n",
      "http://api.brain-map.org//api/v2/well_known_file_download/1026124118\n",
      "http://api.brain-map.org//api/v2/well_known_file_download/1026124120\n",
      "http://api.brain-map.org//api/v2/well_known_file_download/1026124123\n",
      "http://api.brain-map.org//api/v2/well_known_file_download/1026124754\n",
      "http://api.brain-map.org//api/v2/well_known_file_download/1026124748\n",
      "http://api.brain-map.org//api/v2/well_known_file_download/1026124746\n",
      "http://api.brain-map.org//api/v2/well_known_file_download/1026124752\n",
      "http://api.brain-map.org//api/v2/well_known_file_download/1026124756\n",
      "http://api.brain-map.org//api/v2/well_known_file_download/1026124750\n",
      "http://api.brain-map.org//api/v2/well_known_file_download/1026123849\n",
      "http://api.brain-map.org//api/v2/well_known_file_download/1026123857\n",
      "http://api.brain-map.org//api/v2/well_known_file_download/1026123853\n",
      "http://api.brain-map.org//api/v2/well_known_file_download/1026123851\n",
      "http://api.brain-map.org//api/v2/well_known_file_download/1026123859\n",
      "http://api.brain-map.org//api/v2/well_known_file_download/1026123855\n",
      "http://api.brain-map.org//api/v2/well_known_file_download/1026124653\n",
      "http://api.brain-map.org//api/v2/well_known_file_download/1026124651\n",
      "http://api.brain-map.org//api/v2/well_known_file_download/1026124657\n",
      "http://api.brain-map.org//api/v2/well_known_file_download/1026124647\n",
      "http://api.brain-map.org//api/v2/well_known_file_download/1026124649\n",
      "http://api.brain-map.org//api/v2/well_known_file_download/1026124655\n",
      "http://api.brain-map.org//api/v2/well_known_file_download/1026124553\n",
      "http://api.brain-map.org//api/v2/well_known_file_download/1026124551\n",
      "http://api.brain-map.org//api/v2/well_known_file_download/1026124549\n",
      "http://api.brain-map.org//api/v2/well_known_file_download/1026124547\n",
      "http://api.brain-map.org//api/v2/well_known_file_download/1026124555\n",
      "http://api.brain-map.org//api/v2/well_known_file_download/1026124557\n",
      "http://api.brain-map.org//api/v2/well_known_file_download/1026125023\n",
      "http://api.brain-map.org//api/v2/well_known_file_download/1026125027\n",
      "http://api.brain-map.org//api/v2/well_known_file_download/1026125025\n",
      "http://api.brain-map.org//api/v2/well_known_file_download/1026125029\n",
      "http://api.brain-map.org//api/v2/well_known_file_download/1026125031\n",
      "http://api.brain-map.org//api/v2/well_known_file_download/1026125034\n",
      "http://api.brain-map.org//api/v2/well_known_file_download/1026124814\n",
      "http://api.brain-map.org//api/v2/well_known_file_download/1026124808\n",
      "http://api.brain-map.org//api/v2/well_known_file_download/1026124811\n",
      "http://api.brain-map.org//api/v2/well_known_file_download/1026124816\n",
      "http://api.brain-map.org//api/v2/well_known_file_download/1026124820\n",
      "http://api.brain-map.org//api/v2/well_known_file_download/1026124818\n",
      "http://api.brain-map.org//api/v2/well_known_file_download/1026123659\n",
      "http://api.brain-map.org//api/v2/well_known_file_download/1026123657\n",
      "http://api.brain-map.org//api/v2/well_known_file_download/1026123653\n",
      "http://api.brain-map.org//api/v2/well_known_file_download/1026123655\n",
      "http://api.brain-map.org//api/v2/well_known_file_download/1026123661\n",
      "http://api.brain-map.org//api/v2/well_known_file_download/1026124481\n",
      "http://api.brain-map.org//api/v2/well_known_file_download/1026124479\n",
      "http://api.brain-map.org//api/v2/well_known_file_download/1026124471\n",
      "http://api.brain-map.org//api/v2/well_known_file_download/1026124473\n",
      "http://api.brain-map.org//api/v2/well_known_file_download/1026124475\n",
      "http://api.brain-map.org//api/v2/well_known_file_download/1026124477\n",
      "http://api.brain-map.org//api/v2/well_known_file_download/1026124761\n",
      "http://api.brain-map.org//api/v2/well_known_file_download/1026124765\n",
      "http://api.brain-map.org//api/v2/well_known_file_download/1026124763\n",
      "http://api.brain-map.org//api/v2/well_known_file_download/1026124767\n",
      "http://api.brain-map.org//api/v2/well_known_file_download/1026124769\n",
      "http://api.brain-map.org//api/v2/well_known_file_download/1026124771\n",
      "http://api.brain-map.org//api/v2/well_known_file_download/1026124097\n",
      "http://api.brain-map.org//api/v2/well_known_file_download/1026124095\n",
      "http://api.brain-map.org//api/v2/well_known_file_download/1026124093\n",
      "http://api.brain-map.org//api/v2/well_known_file_download/1026124088\n",
      "http://api.brain-map.org//api/v2/well_known_file_download/1026124091\n",
      "http://api.brain-map.org//api/v2/well_known_file_download/1026123830\n",
      "http://api.brain-map.org//api/v2/well_known_file_download/1026123828\n",
      "http://api.brain-map.org//api/v2/well_known_file_download/1026123834\n",
      "http://api.brain-map.org//api/v2/well_known_file_download/1026123832\n",
      "http://api.brain-map.org//api/v2/well_known_file_download/1026123826\n",
      "http://api.brain-map.org//api/v2/well_known_file_download/1026123635\n",
      "http://api.brain-map.org//api/v2/well_known_file_download/1026123631\n",
      "http://api.brain-map.org//api/v2/well_known_file_download/1026123629\n",
      "http://api.brain-map.org//api/v2/well_known_file_download/1026123633\n",
      "http://api.brain-map.org//api/v2/well_known_file_download/1026123627\n",
      "http://api.brain-map.org//api/v2/well_known_file_download/1026123791\n",
      "http://api.brain-map.org//api/v2/well_known_file_download/1026123793\n",
      "http://api.brain-map.org//api/v2/well_known_file_download/1026123795\n",
      "http://api.brain-map.org//api/v2/well_known_file_download/1026123789\n",
      "http://api.brain-map.org//api/v2/well_known_file_download/1026123797\n",
      "file for probe 832810584 not found\n",
      "http://api.brain-map.org//api/v2/well_known_file_download/1026124842\n",
      "http://api.brain-map.org//api/v2/well_known_file_download/1026124846\n",
      "http://api.brain-map.org//api/v2/well_known_file_download/1026124844\n",
      "http://api.brain-map.org//api/v2/well_known_file_download/1026124848\n",
      "http://api.brain-map.org//api/v2/well_known_file_download/1026124850\n",
      "http://api.brain-map.org//api/v2/well_known_file_download/1026124374\n",
      "http://api.brain-map.org//api/v2/well_known_file_download/1026124370\n",
      "http://api.brain-map.org//api/v2/well_known_file_download/1026124378\n",
      "http://api.brain-map.org//api/v2/well_known_file_download/1026124376\n",
      "http://api.brain-map.org//api/v2/well_known_file_download/1026124372\n",
      "http://api.brain-map.org//api/v2/well_known_file_download/1026123521\n",
      "http://api.brain-map.org//api/v2/well_known_file_download/1026123524\n",
      "http://api.brain-map.org//api/v2/well_known_file_download/1026123526\n",
      "http://api.brain-map.org//api/v2/well_known_file_download/1026123528\n",
      "http://api.brain-map.org//api/v2/well_known_file_download/1026123530\n",
      "http://api.brain-map.org//api/v2/well_known_file_download/1026124428\n",
      "http://api.brain-map.org//api/v2/well_known_file_download/1026124431\n",
      "http://api.brain-map.org//api/v2/well_known_file_download/1026124426\n",
      "http://api.brain-map.org//api/v2/well_known_file_download/1026124424\n",
      "http://api.brain-map.org//api/v2/well_known_file_download/1026124437\n",
      "http://api.brain-map.org//api/v2/well_known_file_download/1026124443\n",
      "http://api.brain-map.org//api/v2/well_known_file_download/1026123729\n",
      "http://api.brain-map.org//api/v2/well_known_file_download/1026123733\n",
      "http://api.brain-map.org//api/v2/well_known_file_download/1026123731\n",
      "http://api.brain-map.org//api/v2/well_known_file_download/1026123727\n",
      "http://api.brain-map.org//api/v2/well_known_file_download/1026123738\n",
      "http://api.brain-map.org//api/v2/well_known_file_download/1026123735\n",
      "file for probe 846401828 not found\n",
      "file for probe 846401830 not found\n",
      "file for probe 846401834 not found\n",
      "file for probe 846401838 not found\n",
      "file for probe 846401841 not found\n",
      "http://api.brain-map.org//api/v2/well_known_file_download/1026123956\n",
      "http://api.brain-map.org//api/v2/well_known_file_download/1026123951\n",
      "http://api.brain-map.org//api/v2/well_known_file_download/1026123953\n",
      "http://api.brain-map.org//api/v2/well_known_file_download/1026123949\n",
      "http://api.brain-map.org//api/v2/well_known_file_download/1026123945\n",
      "http://api.brain-map.org//api/v2/well_known_file_download/1026123947\n"
     ]
    }
   ],
   "source": [
    "def retrieve_lfp_link(probe_id):\n",
    "\n",
    "    well_known_files = build_and_execute(\n",
    "        (\n",
    "            \"criteria=model::WellKnownFile\"\n",
    "            \",rma::criteria,well_known_file_type[name$eq'EcephysLfpNwb']\"\n",
    "            \"[attachable_type$eq'EcephysProbe']\"\n",
    "            r\"[attachable_id$eq{{probe_id}}]\"\n",
    "        ),\n",
    "        engine=rma_engine.get_rma_tabular, \n",
    "        probe_id=probe_id\n",
    "    )\n",
    "\n",
    "    if well_known_files.shape[0] != 1:\n",
    "        return 'file for probe ' + str(probe_id) + ' not found'\n",
    "        \n",
    "    return 'http://api.brain-map.org/' + well_known_files.loc[0, \"download_link\"]\n",
    "\n",
    "probes = cache.get_probes()\n",
    "\n",
    "download_links = [retrieve_lfp_link(probe_id) for probe_id in probes.index.values]\n",
    "\n",
    "_ = [print(link) for link in download_links]"
   ]
  }
 ],
 "metadata": {
  "celltoolbar": "Tags",
  "kernelspec": {
   "display_name": "allensdk",
   "language": "python",
   "name": "python3"
  },
  "language_info": {
   "codemirror_mode": {
    "name": "ipython",
    "version": 3
   },
   "file_extension": ".py",
   "mimetype": "text/x-python",
   "name": "python",
   "nbconvert_exporter": "python",
   "pygments_lexer": "ipython3",
   "version": "3.8.20"
  },
  "papermill": {
   "default_parameters": {},
   "duration": 885.213977,
   "end_time": "2023-11-30T06:38:07.391317",
   "environment_variables": {},
   "exception": null,
   "input_path": "doc_template/examples_root/examples/nb/ecephys_data_access.ipynb",
   "output_path": "/tmp/tmpja7ncvq6/scratch_nb.ipynb",
   "parameters": {
    "DOWNLOAD_COMPLETE_DATASET": false,
    "output_dir": "/tmp/tmpja7ncvq6",
    "resources_dir": "/home/runner/work/AllenSDK/AllenSDK/allensdk/internal/notebooks/resources"
   },
   "start_time": "2023-11-30T06:23:22.177340",
   "version": "2.4.0"
  }
 },
 "nbformat": 4,
 "nbformat_minor": 5
}
