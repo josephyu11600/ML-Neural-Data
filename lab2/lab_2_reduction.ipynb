{
 "cells": [
  {
   "cell_type": "markdown",
   "metadata": {
    "deletable": false,
    "editable": false,
    "nbgrader": {
     "cell_type": "markdown",
     "checksum": "3698fd4e41dd672984cee5e483a987c7",
     "grade": false,
     "grade_id": "cell-630f9c6ff39198f9",
     "locked": true,
     "schema_version": 3,
     "solution": false,
     "task": false
    }
   },
   "source": [
    "# Lab 2: Linear and nonlinear dimensionality reduction\n",
    "\n",
    "In this lab, you'll use [NumPy](https://numpy.org/) and [PyTorch](https://pytorch.org/) to build Prinicpal Components Analysis (PCA), Autoencoder, and Gaussian Process Factor Analysis (GPFA) (optional), and to a Calcium Imaging dataset or a synthetic dataset. "
   ]
  },
  {
   "cell_type": "code",
   "execution_count": null,
   "metadata": {
    "deletable": false,
    "editable": false,
    "nbgrader": {
     "cell_type": "code",
     "checksum": "d1059a96b3b8bc4231736dbf8df83849",
     "grade": false,
     "grade_id": "cell-386854b734a544d8",
     "locked": true,
     "schema_version": 3,
     "solution": false,
     "task": false
    }
   },
   "outputs": [],
   "source": [
    "using_colab = False\n",
    "# install some required python packages \n",
    "!pip3 install neo elephant --quiet"
   ]
  },
  {
   "cell_type": "code",
   "execution_count": null,
   "metadata": {
    "deletable": false,
    "editable": false,
    "nbgrader": {
     "cell_type": "code",
     "checksum": "e5733ae1e6db25f54f672c41475956d7",
     "grade": false,
     "grade_id": "cell-6bc8f78bb6377a56",
     "locked": true,
     "schema_version": 3,
     "solution": false,
     "task": false
    }
   },
   "outputs": [],
   "source": [
    "if using_colab:\n",
    "    import sys\n",
    "    from google.colab import drive\n",
    "    drive.mount('/content/gdrive/')\n",
    "    sys.path.append('/content/gdrive/MyDrive/CSE8803_ML_for_Neural_Behavioral_Data/')"
   ]
  },
  {
   "cell_type": "code",
   "execution_count": null,
   "metadata": {
    "deletable": false,
    "editable": false,
    "nbgrader": {
     "cell_type": "code",
     "checksum": "9c7606ccb59de4789550809809540b44",
     "grade": false,
     "grade_id": "cell-5250ef7f5e8ea032",
     "locked": true,
     "schema_version": 3,
     "solution": false,
     "task": false
    }
   },
   "outputs": [],
   "source": [
    "from tqdm import trange\n",
    "import matplotlib.pyplot as plt\n",
    "import numpy as np\n",
    "from scipy.io import loadmat\n",
    "from sklearn.decomposition import PCA\n",
    "from sklearn.preprocessing import MinMaxScaler\n",
    "from sklearn.manifold import TSNE\n",
    "\n",
    "from scipy.io import loadmat\n",
    "\n",
    "from elephant.gpfa import GPFA\n",
    "\n",
    "import torch\n",
    "from torch.utils.data import Dataset, DataLoader\n",
    "import torch.nn.functional as F\n",
    "\n",
    "import numpy as np\n",
    "\n",
    "from utils import train_ae, generate_syn_data\n",
    "\n",
    "device = \"cuda\" if torch.cuda.is_available() else \"cpu\""
   ]
  },
  {
   "cell_type": "markdown",
   "metadata": {
    "deletable": false,
    "editable": false,
    "nbgrader": {
     "cell_type": "markdown",
     "checksum": "61c65fa004fc293deac71a4d9d09cd4c",
     "grade": false,
     "grade_id": "cell-61c288bf6d0fb75e",
     "locked": true,
     "schema_version": 3,
     "solution": false,
     "task": false
    }
   },
   "source": [
    "## Load the data\n",
    "\n",
    "Load the file `v1_spike_data.mat` into Python. You'll find a matrix `Msp` , which contains a $(6400 \\times 65)$ matrix of spike responses recorded from 65 neurons in primary visual cortex (V1) over 6400 time bins. Each row is a spike count from the population in a single time bin.  Each column is the spike counts from a single neuron. \n",
    "\n",
    "This is *real* neural data, described in [Graf *et al*, 2011](http://www.nature.com/neuro/journal/v14/n2/full/nn.2733.html).\n",
    "\n",
    "**Some details about this dataset:**\n",
    "- stimuli were drifting sinusoidal gratings at either $0^o$ or $90^o$ (randomly interleaved)\n",
    "- spike counts were binned into 40ms bins\n",
    "- each stimulus lasted 2560ms (64 time bins)\n",
    "- each stimulus consisted of 1280ms (32 bins) of drifting sine grating, followed by 1280ms (32 bins) of blank screen\n",
    "- this dataset thus has 100 stimuli, each lasting 64 bins (the first 32 time bins of which had a drifting sinusoid), hence 6400 total time bins\n",
    "- this is a small subset of the data from the original paper "
   ]
  },
  {
   "cell_type": "markdown",
   "metadata": {
    "deletable": false,
    "editable": false,
    "nbgrader": {
     "cell_type": "markdown",
     "checksum": "e4e60f37ad3aaf8f00b9db63b152ed87",
     "grade": false,
     "grade_id": "cell-03947cf8cc37c528",
     "locked": true,
     "schema_version": 3,
     "solution": false,
     "task": false
    }
   },
   "source": [
    "Make an image showing the population response to the first 10 stimuli (640 total time bins $\\times$ 64 neurons) using `plt.imshow()` (passing the argument `aspect='auto'` will make a more decipherable figure).  Add horizontal lines with `plt.axhline()` showing the start of each stimulus. "
   ]
  },
  {
   "cell_type": "code",
   "execution_count": null,
   "metadata": {
    "deletable": false,
    "editable": false,
    "nbgrader": {
     "cell_type": "code",
     "checksum": "838159063837ef9563b75b7f41de81a1",
     "grade": false,
     "grade_id": "cell-bc4a207940a6ee46",
     "locked": true,
     "schema_version": 3,
     "solution": false,
     "task": false
    }
   },
   "outputs": [],
   "source": [
    "# Read in the matrix Msp from v1_spike_data.mat\n",
    "if using_colab:\n",
    "    spk_data = loadmat(\"/content/gdrive/MyDrive/CSE8803_ML_for_Neural_Behavioral_Data/data/v1_spike_data.mat\")\n",
    "else:\n",
    "    spk_data = loadmat('./data/v1_spike_data.mat')\n",
    "M = spk_data['Msp']\n",
    "\n",
    "plt.figure()\n",
    "plt.imshow(M[:640,:].T, aspect='auto')\n",
    "plt.ylabel(\"neuron\")\n",
    "plt.xlabel(\"time bins\")"
   ]
  },
  {
   "cell_type": "markdown",
   "metadata": {
    "deletable": false,
    "editable": false,
    "nbgrader": {
     "cell_type": "markdown",
     "checksum": "ace61db2fea9ba58b76ff0811b898d2a",
     "grade": false,
     "grade_id": "cell-e10374f3a2c903c8",
     "locked": true,
     "schema_version": 3,
     "solution": false,
     "task": false
    }
   },
   "source": [
    "### Compare the responses of two neurons\n",
    "\n",
    "Plot the responses of neurons #9 and #33 (contained in columns 8 and 32 of `Msp`) over the first 640 time bins. Make the x-axis have units of seconds, and give the plot x and y-axis labels of \"time (s)\" and \"spike count\" respectively.  "
   ]
  },
  {
   "cell_type": "code",
   "execution_count": null,
   "metadata": {
    "deletable": false,
    "editable": false,
    "nbgrader": {
     "cell_type": "code",
     "checksum": "91043edc33691c6941bd3bf655300faa",
     "grade": false,
     "grade_id": "cell-ec5afb3c7bcf4296",
     "locked": true,
     "schema_version": 3,
     "solution": false,
     "task": false
    }
   },
   "outputs": [],
   "source": [
    "x = np.arange(0, 640*40, 40)/1000\n",
    "\n",
    "plt.figure(figsize=(10,5))\n",
    "plt.plot(x, M[:640,8], color = 'blue')\n",
    "plt.plot(x, M[:640,32], color = 'red')\n",
    "plt.xlabel(\"times (sec)\"); plt.ylabel(\"spike count\")\n",
    "plt.xlim([0,640*40/1000])"
   ]
  },
  {
   "cell_type": "markdown",
   "metadata": {
    "deletable": false,
    "editable": false,
    "nbgrader": {
     "cell_type": "markdown",
     "checksum": "5e239b6c09767070f0fff33d3ecd5751",
     "grade": false,
     "grade_id": "cell-600b56c479b912b7",
     "locked": true,
     "schema_version": 3,
     "solution": false,
     "task": false
    }
   },
   "source": [
    "Make a scatter plot showing the mean spike rate of all 65 neurons in units of spikes/s. (Use `plt.annotate()` to label each scatter points with its neuron index so individual responses can be picked out).  "
   ]
  },
  {
   "cell_type": "code",
   "execution_count": null,
   "metadata": {
    "deletable": false,
    "nbgrader": {
     "cell_type": "code",
     "checksum": "44f955e25e8d65e5640f5bdaf1511a36",
     "grade": false,
     "grade_id": "mean_spike",
     "locked": false,
     "schema_version": 3,
     "solution": true,
     "task": false
    }
   },
   "outputs": [],
   "source": [
    "# get the mean spike rate in units of spikes/second (make sure the unit is correct!)\n",
    "# YOUR CODE HERE\n",
    "raise NotImplementedError()\n",
    "\n",
    "plt.figure()\n",
    "for i, j in enumerate(mean_spike):\n",
    "    plt.plot(i, j, 'bo')\n",
    "    plt.annotate(str(i), (i,j))\n",
    "plt.xlabel(\"Neuron #\"); plt.ylabel(r\"Average FR\")"
   ]
  },
  {
   "cell_type": "code",
   "execution_count": null,
   "metadata": {
    "deletable": false,
    "editable": false,
    "nbgrader": {
     "cell_type": "code",
     "checksum": "d3fcf88f4e08054020fcfbec18d7d867",
     "grade": true,
     "grade_id": "mean_spike_answer",
     "locked": true,
     "points": 1,
     "schema_version": 3,
     "solution": false,
     "task": false
    }
   },
   "outputs": [],
   "source": [
    "# TEST YOUR ANSWER\n",
    "assert mean_spike.shape == (65,)"
   ]
  },
  {
   "cell_type": "markdown",
   "metadata": {
    "deletable": false,
    "editable": false,
    "nbgrader": {
     "cell_type": "markdown",
     "checksum": "0f228d29ea3ee4ce5cd32e59a0159b3b",
     "grade": false,
     "grade_id": "cell-8d65dc98b0613d4c",
     "locked": true,
     "schema_version": 3,
     "solution": false,
     "task": false
    }
   },
   "source": [
    "## Prinicpal Components Analysis (PCA)\n",
    "\n",
    "Start by computing the covariance of the responses. You can do this using `np.cov()`, or by subtracting off the mean response from each neuron (each column of `M`) and computing $\\frac{M^TM}{n − 1}$, where $n=6400$ is the number of samples (time bins).\n",
    "\n",
    "Compute the singular values (eigenvalues), $s_i$, of the covariance matrix with `np.linalg.svd()` or `np.linalg.eig()`. \n",
    "\n",
    "Plot them as a function of $i$. Do the data points live close to a subspace of dimensionality less than 65?\n",
    "\n",
    "Make a second plot showing the \"cumulative fraction of variance accounted for\", showing how much of the total response variance one would capture if they kept only the first $k = 1, 2, 3, \\ldots , 65$ principal components (PCs).  The $k^{th}$ value of this curve is $\\frac{\\sum_{i=1}^k s_i}{S_{tot}}$, where $S_{tot}$ is the sum of all the singular values."
   ]
  },
  {
   "cell_type": "code",
   "execution_count": null,
   "metadata": {
    "deletable": false,
    "nbgrader": {
     "cell_type": "code",
     "checksum": "20f3701492f8fb6e0f8e0022ecd2b427",
     "grade": false,
     "grade_id": "pca",
     "locked": false,
     "schema_version": 3,
     "solution": true,
     "task": false
    }
   },
   "outputs": [],
   "source": [
    "# Calculate covariance and compute eigenvalues of the covariance matrix\n",
    "# cov = ...\n",
    "# V, s, Vt = np.linalg.svd(...)\n",
    "# Vector s includes the singular values, matrix Vt represents the eigenvalues and is the transpose of V.\n",
    "# YOUR CODE HERE\n",
    "raise NotImplementedError()"
   ]
  },
  {
   "cell_type": "code",
   "execution_count": null,
   "metadata": {
    "deletable": false,
    "editable": false,
    "nbgrader": {
     "cell_type": "code",
     "checksum": "2657ee970df8292f502606188c1b74eb",
     "grade": true,
     "grade_id": "pca_answer",
     "locked": true,
     "points": 2,
     "schema_version": 3,
     "solution": false,
     "task": false
    }
   },
   "outputs": [],
   "source": [
    "# TEST YOUR ANSWER\n",
    "assert (s>=0).all()"
   ]
  },
  {
   "cell_type": "code",
   "execution_count": null,
   "metadata": {
    "deletable": false,
    "editable": false,
    "nbgrader": {
     "cell_type": "code",
     "checksum": "a6fd1887edbca04804ba4248149c7489",
     "grade": false,
     "grade_id": "cell-9c42cd01630f342f",
     "locked": true,
     "schema_version": 3,
     "solution": false,
     "task": false
    }
   },
   "outputs": [],
   "source": [
    "# Plot eigenvalues\n",
    "plt.figure()\n",
    "plt.plot(np.arange(len(s))+1,s, 'ro')\n",
    "plt.xlabel(\"i\"); plt.ylabel(r\"$\\lambda_i$\")\n",
    "\n",
    "print(\"The data live in an approximately 2 dimenisonal subspace\")\n",
    "\n",
    "# Plot cumulative variance captured\n",
    "var_cap = np.cumsum(s)/np.sum(s)\n",
    "\n",
    "plt.figure()\n",
    "plt.plot(np.arange(len(s))+1,var_cap, 'ro')\n",
    "plt.axhline(0.5); plt.axhline(0.9)\n",
    "plt.xlabel(\"k\"); plt.ylabel(r\"Percent of variance captured\")\n",
    "plt.axis([0,65,0,1])\n",
    "\n",
    "k50 = np.argmax(var_cap > 0.5) + 1\n",
    "k90 = np.argmax(var_cap > 0.9) + 1\n",
    "print(\"The first\", k50, \"PCs would be needed to capture 50% of the total variance.\")\n",
    "print(\"The first\", k90, \"PCs would be needed to capture 90% of the total variance.\")"
   ]
  },
  {
   "cell_type": "markdown",
   "metadata": {
    "deletable": false,
    "editable": false,
    "nbgrader": {
     "cell_type": "markdown",
     "checksum": "88f00bd85cd9c1cf459a434c4fa72c82",
     "grade": false,
     "grade_id": "cell-e34b6412571b3c8d",
     "locked": true,
     "schema_version": 3,
     "solution": false,
     "task": false
    }
   },
   "source": [
    "### Plot the first two principal components\n",
    "\n",
    "Plot the first PC (i.e., the first eigenvector of the covariance matrix).  This is the pattern (across the 65 neurons) that captures the *most* variance of the time-varying population response.  \n",
    "\n",
    "1. What does the shape of this eigenvector tell you about the dominant pattern of the response?  \n",
    "\n",
    "2. Specifically, what does it tell us that all the elements of this vector have the same sign? You might wish to compare this to the plot of the average spike rate across neurons you made above.\n",
    "\n",
    "*Note:* The sign of the PCs is irrelevant, since the negative of an eigenvector is also an eigenvector, so if you see that your first PC has mostly negative values I'd recommend flipping its sign so that the curve you plot has mostly positive values, which is easier to interpret.\n",
    "\n"
   ]
  },
  {
   "cell_type": "code",
   "execution_count": null,
   "metadata": {
    "deletable": false,
    "editable": false,
    "nbgrader": {
     "cell_type": "code",
     "checksum": "481ba57726e6552ac419fa0cc97c2ea3",
     "grade": false,
     "grade_id": "cell-defbacec0fbc6e0d",
     "locked": true,
     "schema_version": 3,
     "solution": false,
     "task": false
    }
   },
   "outputs": [],
   "source": [
    "# Plot negative of first eigenvector\n",
    "plt.figure()\n",
    "plt.plot(-Vt[0])\n",
    "\n",
    "# Overlay mean spike rates, normalized to be on same y-axis scale (unnecessary)\n",
    "normalized_spike = mean_spike/np.max(mean_spike) * 0.4\n",
    "for i, j in enumerate(normalized_spike):\n",
    "    plt.plot(i, j, 'bo')\n",
    "    plt.annotate(str(i), (i,j))"
   ]
  },
  {
   "cell_type": "markdown",
   "metadata": {
    "deletable": false,
    "editable": false,
    "nbgrader": {
     "cell_type": "markdown",
     "checksum": "45363f89aef33db9b4d9897f1fcbcb27",
     "grade": false,
     "grade_id": "pca_question",
     "locked": true,
     "points": 1,
     "schema_version": 3,
     "solution": false,
     "task": true
    }
   },
   "source": [
    "#### Answer the two questions above:\n",
    "\n",
    "<span style=\"color:red\">Your answer:</span>"
   ]
  },
  {
   "cell_type": "markdown",
   "metadata": {
    "deletable": false,
    "editable": false,
    "nbgrader": {
     "cell_type": "markdown",
     "checksum": "fa9786e54cd02306fc20c385cf89dcd9",
     "grade": false,
     "grade_id": "cell-ef211b8bd1a20020",
     "locked": true,
     "schema_version": 3,
     "solution": false,
     "task": false
    }
   },
   "source": [
    "### Plot the second PC.  \n",
    "\n",
    "1. Does it look similar or different to the first PC?\n",
    "\n",
    "2. Do neurons 9 and 33 (the two you looked at above) have similar or different loading onto this PC (i.e., do they have weights of the same or opposite sign?)"
   ]
  },
  {
   "cell_type": "code",
   "execution_count": null,
   "metadata": {
    "deletable": false,
    "editable": false,
    "nbgrader": {
     "cell_type": "code",
     "checksum": "aaf6b886b518464db290a20e175b1cfe",
     "grade": false,
     "grade_id": "cell-f85a5cc37c7ea714",
     "locked": true,
     "schema_version": 3,
     "solution": false,
     "task": false
    }
   },
   "outputs": [],
   "source": [
    "# Plot second eigenvector\n",
    "plt.figure()\n",
    "plt.plot(Vt[1])\n",
    "\n",
    "# Pick out particular eigenvector loadings\n",
    "print(\"The loading of neuron #9:\", Vt[1][8])\n",
    "print(\"The loading of neuron #33:\", Vt[1][32])"
   ]
  },
  {
   "cell_type": "markdown",
   "metadata": {
    "deletable": false,
    "editable": false,
    "nbgrader": {
     "cell_type": "markdown",
     "checksum": "2d51589fb5ae865ccc45a92f5911587f",
     "grade": false,
     "grade_id": "pca_question2",
     "locked": true,
     "points": 1,
     "schema_version": 3,
     "solution": false,
     "task": true
    }
   },
   "source": [
    "#### Answer the two questions above:\n",
    "\n",
    "<span style=\"color:red\">Your answer:</span>\n"
   ]
  },
  {
   "cell_type": "markdown",
   "metadata": {
    "deletable": false,
    "editable": false,
    "nbgrader": {
     "cell_type": "markdown",
     "checksum": "9c38b638f8a92d1b92d622c4b569a422",
     "grade": false,
     "grade_id": "cell-dabe5d1c004bfcba",
     "locked": true,
     "schema_version": 3,
     "solution": false,
     "task": false
    }
   },
   "source": [
    "### Plot the data projections onto the first two PCs\n",
    "\n",
    "Make a scatter plot showing the scatter plot of the data onto the first two principal components. That is, plot the dot product of each data vector with the first component versus its dot product with the second component. \n",
    "\n",
    "These projections can be computed very easily by the matrix multiplications $M_0 u_1$ and $M_0 u_2$, where $u_1$ and $u_2$ are the first two PCs, and $M_0$ is $M$ with the mean response of each neuron subtracted off.  \n",
    "\n",
    "1. Describe the structure observed in this plot.  Can you speculate about what is going on? (Refer to experiment description at the top, if necessary)."
   ]
  },
  {
   "cell_type": "code",
   "execution_count": null,
   "metadata": {
    "deletable": false,
    "editable": false,
    "nbgrader": {
     "cell_type": "code",
     "checksum": "0b73565aace10cf4614181aa8a52e517",
     "grade": false,
     "grade_id": "cell-bb36f2553b337f32",
     "locked": true,
     "schema_version": 3,
     "solution": false,
     "task": false
    }
   },
   "outputs": [],
   "source": [
    "# Compute the data projections onto the first two PCs\n",
    "### \n",
    "# YOUR CODE BELOW\n",
    "no_mean = M - np.mean(M,axis=0)\n",
    "proj1 = no_mean @ -Vt[0]\n",
    "proj2 = no_mean @ Vt[1]\n",
    "### \n",
    "\n",
    "# Plot projection of mean corrected data on to first 2 eigenvectors\n",
    "plt.figure()\n",
    "plt.plot(proj1, proj2, 'bo')\n",
    "plt.axis([-10,10,-10,10])\n",
    "plt.xlabel(\"proj1\"); plt.ylabel(\"proj2\")"
   ]
  },
  {
   "cell_type": "markdown",
   "metadata": {
    "deletable": false,
    "editable": false,
    "nbgrader": {
     "cell_type": "markdown",
     "checksum": "6cbe2c64a273dfbd5f99d791e1e62845",
     "grade": false,
     "grade_id": "pca_question3",
     "locked": true,
     "points": 1,
     "schema_version": 3,
     "solution": false,
     "task": true
    }
   },
   "source": [
    "#### Answer the question above:\n",
    "\n",
    "<span style=\"color:red\">Your answer:</span>\n"
   ]
  },
  {
   "cell_type": "markdown",
   "metadata": {
    "deletable": false,
    "editable": false,
    "nbgrader": {
     "cell_type": "markdown",
     "checksum": "f9ca2de3e795633c286c8088189b5206",
     "grade": false,
     "grade_id": "cell-467481a97138f717",
     "locked": true,
     "schema_version": 3,
     "solution": false,
     "task": false
    }
   },
   "source": [
    "### Plot the time traces of the projections onto the first two PCs over time for the first 2 stimuli (128 time bins). \n",
    "\n",
    "You should have two lines, one for proj1 and the other for proj2, plotted against time.\n",
    "\n",
    "1. What information do you think is conveyed by the first projection? The second projection?  \n"
   ]
  },
  {
   "cell_type": "code",
   "execution_count": null,
   "metadata": {
    "deletable": false,
    "editable": false,
    "nbgrader": {
     "cell_type": "code",
     "checksum": "174eb097f3eeed21d3bb98275caf895e",
     "grade": false,
     "grade_id": "cell-2e83ac0c0c8d4ad7",
     "locked": true,
     "schema_version": 3,
     "solution": false,
     "task": false
    }
   },
   "outputs": [],
   "source": [
    "# Caclulate first two eigenvector projection for first tbins time bins\n",
    "tbins = 128\n",
    "proj1 = M[:tbins] @ -Vt[0]\n",
    "proj2 = M[:tbins] @ Vt[1]\n",
    "\n",
    "# Plot proj1 vs. proj2 to see the time trajectory (indicated by color shading)\n",
    "plt.figure()\n",
    "plt.plot(proj1, proj2, 'k-', alpha=0.3, zorder=-1)\n",
    "plt.scatter(proj1, proj2, c= np.arange(tbins), cmap='Blues')\n",
    "plt.colorbar()\n",
    "plt.xlabel(\"proj1\"); plt.ylabel(\"proj2\")\n",
    "\n",
    "# Plot proj1 & proj2 against time\n",
    "plt.figure()\n",
    "time = np.arange(0,tbins*40,40)/1000\n",
    "plt.plot(time, proj1, 'r-', label=\"proj1\")\n",
    "plt.plot(time, proj2, 'b-', label=\"proj2\")\n",
    "plt.xlabel(\"Time (s)\"); plt.ylabel(\"proj activation\")\n",
    "plt.axvline(time[64], color=\"black\")\n",
    "plt.xlim([0,5])\n",
    "plt.legend()"
   ]
  },
  {
   "cell_type": "markdown",
   "metadata": {
    "deletable": false,
    "editable": false,
    "nbgrader": {
     "cell_type": "markdown",
     "checksum": "d250b54f15d1a1f26e6917f2ddff4685",
     "grade": false,
     "grade_id": "pca_question4",
     "locked": true,
     "points": 1,
     "schema_version": 3,
     "solution": false,
     "task": true
    }
   },
   "source": [
    "#### Answer the question above:\n",
    "\n",
    "<span style=\"color:red\">Your answer:</span>\n"
   ]
  },
  {
   "cell_type": "markdown",
   "metadata": {
    "deletable": false,
    "editable": false,
    "nbgrader": {
     "cell_type": "markdown",
     "checksum": "f260ccb933fa399e7beab597f8fa3995",
     "grade": false,
     "grade_id": "cell-36b60889631e3783",
     "locked": true,
     "schema_version": 3,
     "solution": false,
     "task": false
    }
   },
   "source": [
    "## Autoencoder\n",
    "\n",
    "---\n",
    "Autoencoder is a neural network for dimensionality reduction. The idea is that you train a neural network with the same data as inputs and outputs, but use an intermediate hidden layer (or layers) with dimensionality smaller than the original data. This forces the data through a \"bottleneck\" where it is represented in a low-dimensional form. This has numerous advantages:\n",
    "\n",
    "* projectable and invertible - the link between the high/low dimensional representation is defined by the neural net\n",
    "* fast and scalable - neural networks are computationally efficient\n",
    "* non-linear and unsupervised - the autoencoder learns the non-linear manifold without needing labels\n",
    "\n",
    "---"
   ]
  },
  {
   "cell_type": "markdown",
   "metadata": {
    "deletable": false,
    "editable": false,
    "nbgrader": {
     "cell_type": "markdown",
     "checksum": "15698a39e203074105aed1df0a3b55ee",
     "grade": false,
     "grade_id": "cell-0659c8c726c365b1",
     "locked": true,
     "schema_version": 3,
     "solution": false,
     "task": false
    }
   },
   "source": [
    "![autoencoder.png](data:image/png;base64,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)"
   ]
  },
  {
   "cell_type": "markdown",
   "metadata": {
    "deletable": false,
    "editable": false,
    "nbgrader": {
     "cell_type": "markdown",
     "checksum": "eda1a007934fee7f7abcf1b80f3149b8",
     "grade": false,
     "grade_id": "cell-321172ef79178b2b",
     "locked": true,
     "schema_version": 3,
     "solution": false,
     "task": false
    }
   },
   "source": [
    "### Data Preprocessing\n",
    "\n",
    "First, since we are dealing with Pytorch, it's necessary to pass in our data as a tensor of floats, and also remember to standardize the data.\n",
    "\n",
    "Hint: a tensor is a container that stores data in $p$ dimensions. A matrix is a special case of a tensor that is 2D."
   ]
  },
  {
   "cell_type": "code",
   "execution_count": null,
   "metadata": {
    "deletable": false,
    "editable": false,
    "nbgrader": {
     "cell_type": "code",
     "checksum": "c1e76f9f54340c956c0d651e1cae6640",
     "grade": false,
     "grade_id": "cell-2757bc2b9fd3f8ec",
     "locked": true,
     "schema_version": 3,
     "solution": false,
     "task": false
    }
   },
   "outputs": [],
   "source": [
    "torch.manual_seed(0)\n",
    "num_stimulus = 25\n",
    "\n",
    "neural_data_standardized = MinMaxScaler().fit_transform(M[:num_stimulus*64,:]) # 25 stimulus\n",
    "neural_data_float_tensor = torch.tensor(neural_data_standardized).float()\n",
    "\n",
    "print(neural_data_float_tensor.shape)"
   ]
  },
  {
   "cell_type": "markdown",
   "metadata": {
    "deletable": false,
    "editable": false,
    "nbgrader": {
     "cell_type": "markdown",
     "checksum": "b52ba5d2f66855061406cd718bc53492",
     "grade": false,
     "grade_id": "cell-6058aee7a5ffe3ba",
     "locked": true,
     "schema_version": 3,
     "solution": false,
     "task": false
    }
   },
   "source": [
    "We need to create a custom dataset class that allows us to load our data into a pytorch data loader. Then, apply the custom dataset class to the neural data tensor.\n",
    "\n",
    "Then, we will break the data into a train (90% of the data) and validation (10% of the data) split.\n",
    "\n",
    "Finally, we should make a train data loader and a validation data loader, and set the batch size to be 200."
   ]
  },
  {
   "cell_type": "code",
   "execution_count": null,
   "metadata": {
    "deletable": false,
    "editable": false,
    "nbgrader": {
     "cell_type": "code",
     "checksum": "2d0d261f338f3345be57065a2c8ef956",
     "grade": false,
     "grade_id": "cell-e9b5f5c83332ea8b",
     "locked": true,
     "schema_version": 3,
     "solution": false,
     "task": false
    }
   },
   "outputs": [],
   "source": [
    "class CustomDataset(Dataset):\n",
    "    def __init__(self, data):\n",
    "        self.data = data\n",
    "\n",
    "    def __len__(self):\n",
    "        return self.data.shape[0]\n",
    "\n",
    "    def __getitem__(self, idx):\n",
    "        instance = self.data[idx, :]\n",
    "        sample = {\"data\": instance}\n",
    "        return sample\n",
    "\n",
    "train_stimulus = np.random.choice(np.arange(num_stimulus), size=int(0.9*num_stimulus), replace=False)\n",
    "validation_stimulus = np.delete(np.arange(num_stimulus), train_stimulus)\n",
    "\n",
    "train_data = []\n",
    "for index in train_stimulus:\n",
    "    train_data.append(neural_data_float_tensor[index*64:(index+1)*64,:])\n",
    "train_data = np.array(train_data).reshape(-1, neural_data_float_tensor.shape[1])\n",
    "\n",
    "validation_data = []\n",
    "for index in validation_stimulus:\n",
    "    validation_data.append(neural_data_float_tensor[index*64:(index+1)*64,:])\n",
    "validation_data = np.array(validation_data).reshape(-1,neural_data_float_tensor.shape[1])\n",
    "\n",
    "train_dataset = CustomDataset(torch.tensor(train_data, dtype=torch.float32, device=device))\n",
    "validation_dataset = CustomDataset(torch.tensor(validation_data, dtype=torch.float32, device=device))\n",
    "\n",
    "print(len(train_data), len(validation_data))\n",
    "\n",
    "train_loader = torch.utils.data.DataLoader(dataset = train_dataset, batch_size=200, shuffle=True)\n",
    "validation_loader = torch.utils.data.DataLoader(dataset = validation_dataset, batch_size=200, shuffle=True)"
   ]
  },
  {
   "cell_type": "markdown",
   "metadata": {
    "deletable": false,
    "editable": false,
    "nbgrader": {
     "cell_type": "markdown",
     "checksum": "5a9007fa135ad43e3c1faf01d844db14",
     "grade": false,
     "grade_id": "cell-defef7752b6fdc07",
     "locked": true,
     "schema_version": 3,
     "solution": false,
     "task": false
    }
   },
   "source": [
    "### Build the Autoencoder"
   ]
  },
  {
   "cell_type": "code",
   "execution_count": null,
   "metadata": {
    "deletable": false,
    "nbgrader": {
     "cell_type": "code",
     "checksum": "f38be8a08779c2d800a84a415b5dbde5",
     "grade": false,
     "grade_id": "ae",
     "locked": false,
     "schema_version": 3,
     "solution": true,
     "task": false
    }
   },
   "outputs": [],
   "source": [
    "class Autoencoder(torch.nn.Module):\n",
    "    def __init__(self):\n",
    "        super().__init__()\n",
    "\n",
    "        # Implementing a linear encoder.\n",
    "        # Each layer is composed of a linear layer followed by a Relu activation function.\n",
    "        # The last layer is just a linear layer!\n",
    "        # We take a data point from a dimension of 65, to 10, to 2.\n",
    "\n",
    "        # self.encoder = torch.nn.Sequential(\n",
    "        # torch.nn.Linear(...),\n",
    "        # torch.nn.ReLu(...),\n",
    "        # torch.nn.Linear(...)\n",
    "        #)\n",
    "        # YOUR CODE HERE\n",
    "        raise NotImplementedError()\n",
    "\n",
    "        # Implementing a linear decoder (as opposed to a convolutional decoder, etc.).\n",
    "        # Decoder is composed of a linear layer followed by a Relu activation function, repeated several times.\n",
    "        # We take a data point from a dimension of 2, to 10, to 65.\n",
    "        \n",
    "        # self.decoder = torch.nn.Sequential(\n",
    "        # torch.nn.Linear(...),\n",
    "        # torch.nn.ReLu(...),\n",
    "        # torch.nn.Linear(...),\n",
    "        # torch.nn.ReLU()\n",
    "        #)\n",
    "        # YOUR CODE HERE\n",
    "        raise NotImplementedError()\n",
    "\n",
    "    def forward(self, x):\n",
    "        latent_variables = self.encoder(x)\n",
    "        reconstruction_data = self.decoder(latent_variables)\n",
    "        return reconstruction_data"
   ]
  },
  {
   "cell_type": "code",
   "execution_count": null,
   "metadata": {
    "deletable": false,
    "editable": false,
    "nbgrader": {
     "cell_type": "code",
     "checksum": "11318fe95ecf370b9beaadc99ca17319",
     "grade": true,
     "grade_id": "ae_answer",
     "locked": true,
     "points": 3,
     "schema_version": 3,
     "solution": false,
     "task": false
    }
   },
   "outputs": [],
   "source": [
    "# TEST YOUR ANSWER\n",
    "torch.manual_seed(0)\n",
    "model = Autoencoder().to(device)\n",
    "output = model(torch.tensor(train_data, device=device))\n",
    "assert output.shape == train_data.shape"
   ]
  },
  {
   "cell_type": "markdown",
   "metadata": {
    "deletable": false,
    "editable": false,
    "nbgrader": {
     "cell_type": "markdown",
     "checksum": "2333ccadaa44ca0f7fb94ecdf90cb1e3",
     "grade": false,
     "grade_id": "cell-0f516548470f975d",
     "locked": true,
     "schema_version": 3,
     "solution": false,
     "task": false
    }
   },
   "source": [
    "### Train the Autoencoder"
   ]
  },
  {
   "cell_type": "code",
   "execution_count": null,
   "metadata": {
    "deletable": false,
    "editable": false,
    "nbgrader": {
     "cell_type": "code",
     "checksum": "a6d6735e53babb9fa7e8a6b447403a59",
     "grade": false,
     "grade_id": "cell-21eebc8ac6f974f8",
     "locked": true,
     "schema_version": 3,
     "solution": false,
     "task": false
    }
   },
   "outputs": [],
   "source": [
    "model = Autoencoder().to(device)\n",
    "model, training_losses, validation_losses = train_ae(model, train_loader, validation_loader, device, epochs=500)\n",
    "\n",
    "# get the whole reconstructed neural data, here train_dataset.dataset.data is the whole dataset 18561 x 115.\n",
    "reconstructed_data = model(train_dataset.data.to(device))\n",
    "# get the latent variables of fist 3 stimulus\n",
    "latent_variables = model.encoder(neural_data_float_tensor[:3*64, :].to(device))"
   ]
  },
  {
   "cell_type": "markdown",
   "metadata": {
    "deletable": false,
    "editable": false,
    "nbgrader": {
     "cell_type": "markdown",
     "checksum": "c76305fd2b05178f293136b32dfe7d64",
     "grade": false,
     "grade_id": "cell-c298f292f2c5515e",
     "locked": true,
     "schema_version": 3,
     "solution": false,
     "task": false
    }
   },
   "source": [
    "### Plot the Training and Validation Losses\n"
   ]
  },
  {
   "cell_type": "code",
   "execution_count": null,
   "metadata": {
    "deletable": false,
    "editable": false,
    "nbgrader": {
     "cell_type": "code",
     "checksum": "f3def3c337bb900e1ce3e01de15ba8aa",
     "grade": false,
     "grade_id": "cell-de15fd133807a145",
     "locked": true,
     "schema_version": 3,
     "solution": false,
     "task": false
    }
   },
   "outputs": [],
   "source": [
    "plt.figure()\n",
    "plt.plot(training_losses, label=\"train loss\")\n",
    "plt.plot(validation_losses, label=\"validation loss\")\n",
    "plt.legend()"
   ]
  },
  {
   "cell_type": "markdown",
   "metadata": {
    "deletable": false,
    "editable": false,
    "nbgrader": {
     "cell_type": "markdown",
     "checksum": "83bf96ef550eebe8f2e22a81acb833ad",
     "grade": false,
     "grade_id": "cell-771b23ccf21993da",
     "locked": true,
     "schema_version": 3,
     "solution": false,
     "task": false
    }
   },
   "source": [
    "### Compare the Original Neural Data and the Reconstruction Neural Data"
   ]
  },
  {
   "cell_type": "code",
   "execution_count": null,
   "metadata": {
    "deletable": false,
    "editable": false,
    "nbgrader": {
     "cell_type": "code",
     "checksum": "af571e825d4a381cc750ef0f13628a07",
     "grade": false,
     "grade_id": "cell-a97da45a3915f545",
     "locked": true,
     "schema_version": 3,
     "solution": false,
     "task": false
    }
   },
   "outputs": [],
   "source": [
    "reconstructed_neural_data = reconstructed_data.cpu().detach().numpy().T\n",
    "original_data = train_dataset.data.cpu().numpy().T\n",
    "\n",
    "fig, axs = plt.subplots(1,2,figsize=(20, 5))\n",
    "im = axs[0].imshow(original_data, aspect='auto') # original\n",
    "fig.colorbar(im, orientation='vertical')\n",
    "axs[0].set_xlabel('Time')\n",
    "axs[0].set_ylabel('Neuron')\n",
    "axs[0].set_title('original neural data')\n",
    "im = axs[1].imshow(reconstructed_neural_data, aspect='auto') # reconstruction\n",
    "fig.colorbar(im, orientation='vertical')\n",
    "axs[1].set_xlabel('Time')\n",
    "axs[1].set_ylabel('Neuron')\n",
    "axs[1].set_title('reconstruction neural data')"
   ]
  },
  {
   "cell_type": "markdown",
   "metadata": {
    "deletable": false,
    "editable": false,
    "nbgrader": {
     "cell_type": "markdown",
     "checksum": "9c52daf1cf41a377fc3d484def315986",
     "grade": false,
     "grade_id": "cell-d571f1cd0649584e",
     "locked": true,
     "schema_version": 3,
     "solution": false,
     "task": false
    }
   },
   "source": [
    "### Plot the First Two Latent Variables"
   ]
  },
  {
   "cell_type": "code",
   "execution_count": null,
   "metadata": {
    "deletable": false,
    "editable": false,
    "nbgrader": {
     "cell_type": "code",
     "checksum": "793271fe0a192c8cbc8170aea745dee8",
     "grade": false,
     "grade_id": "cell-2b012597b10191d3",
     "locked": true,
     "schema_version": 3,
     "solution": false,
     "task": false
    }
   },
   "outputs": [],
   "source": [
    "latent_variables_cpu = latent_variables.cpu().detach().numpy()\n",
    "latent1 = latent_variables_cpu[:, 0]\n",
    "latent2 = latent_variables_cpu[:, 1]\n",
    "\n",
    "plt.figure()\n",
    "plt.plot(latent1, latent2, 'k-', alpha=0.3, zorder=-1)\n",
    "plt.scatter(latent1, latent2, c= np.arange(len(latent1)), cmap='Blues')\n",
    "plt.colorbar()\n",
    "plt.xlabel(\"latent1\"); plt.ylabel(\"latent2\")"
   ]
  },
  {
   "cell_type": "markdown",
   "metadata": {
    "deletable": false,
    "editable": false,
    "nbgrader": {
     "cell_type": "markdown",
     "checksum": "fa1d9ab5d681114f53d0fb42e1a86591",
     "grade": false,
     "grade_id": "cell-6bbaff8d377e34c3",
     "locked": true,
     "schema_version": 3,
     "solution": false,
     "task": false
    }
   },
   "source": [
    "## Gaussian Process Factor Analysis (GPFA) (optional!)"
   ]
  },
  {
   "cell_type": "markdown",
   "metadata": {
    "deletable": false,
    "editable": false,
    "nbgrader": {
     "cell_type": "markdown",
     "checksum": "3c06d75dae441c7b9ab2d8cd97a07d7e",
     "grade": false,
     "grade_id": "cell-e4af435c8f00d643",
     "locked": true,
     "schema_version": 3,
     "solution": false,
     "task": false
    }
   },
   "source": [
    "---\n",
    "\n",
    "### Factor Analysis (FA)\n",
    "\n",
    "Factor analysis (FA) attempts to summarize the collective activity of a population of $N$ neurons recorded over $T$ time points using a smaller number of $D$ latent dimensions.\n",
    "Similar to how we could formulate a Gaussian process as a 'latent function' to be inferred in order to explain a set of observations, we can treat FA as a problem of learning and inference in a probabilistic generative model.\n",
    "\n",
    "In the generative model of factor analysis, the latents $X$ are _Gaussian iid_ and the firing rates $F$ are linear functions of the latents.\n",
    "Finally, the actual observations $Y$ are are given by the firing rates corrupted by Gaussian noise.\n",
    "We can write this mathematically as follows:\n",
    "\n",
    "${Y} \\in \\mathbb{R}^{N \\times T}$ (data)\\\n",
    "${X} \\in \\mathbb{R}^{D \\times T}$ (latent variables)\\\n",
    "${C} \\in \\mathbb{R}^{N \\times D}$ (readout matrix)\n",
    "\n",
    "${x}_{dt} \\sim \\mathcal{N}(x; \\mu = 0, \\sigma^2=1)$ \\\n",
    "${y}_{nt |{C}, {\\bf X}} \\sim \\mathcal{N}(y_{nt}; \\mu = ({CX})_{nt}, \\sigma_n^2)$\n",
    "\n",
    "The corresponding marginal likelihood has a simple closed-form solution that factorizes across time:\n",
    "$\\log p ({Y}) = \\log \\int p({Y} | {X}) p({X}) d{X} = \\sum_t \\log \\mathcal{N}({y}_t; {\\mu} = 0, {\\Sigma} = {C C}^T)$\n",
    "\n",
    "This is convenient since we recall from previously that we will need to maximize this marginal likelihood with respect to our parameters to train the model (in practice there are out-of-the-box libraries such as scikit-learn which do this efficiently and robustly)."
   ]
  },
  {
   "cell_type": "markdown",
   "metadata": {
    "deletable": false,
    "editable": false,
    "nbgrader": {
     "cell_type": "markdown",
     "checksum": "d479262115251489a89899ad03d97d71",
     "grade": false,
     "grade_id": "cell-6934374feb038917",
     "locked": true,
     "schema_version": 3,
     "solution": false,
     "task": false
    }
   },
   "source": [
    "### Gaussian Process Factor Analysis (GPFA)\n",
    "\n",
    "Gaussian process factor analysis (GPFA) attempts to ameliorate the assumption of FA that the latent states are independent across time.\n",
    "This is desirable since behavioral and (presumably) cognitive processes unfold over time so we expect their latent dynamics to also be continuous in time.\n",
    "Additionally, as we saw previously, building such prior information into our models can help denoise and improve inference over our hidden states.\n",
    "\n",
    "GPFA is thus defined by a generative model where the latents $X$ are drawn from a _Gaussian process_ which introduces correlations over time.\n",
    "The firing rates $F$ are linear functions of the latents as in FA, and the observation noise is still Gaussian.\n",
    "Formally, we can write our generative model as follows:\n",
    "\n",
    "${Y} \\in \\mathbb{R}^{N \\times T}$ (data)\\\n",
    "${X} \\in \\mathbb{R}^{D \\times T}$ (latent variables)\\\n",
    "${C} \\in \\mathbb{R}^{N \\times D}$ (readout matrix)\n",
    "\n",
    "${x}_d \\sim \\mathcal{GP}(0, K_{\\text{RBF}})$, where $K_{\\text{RBF}} = \\exp(-\\frac{(t-t^{'})^2}{2\\sigma^{2}})$ is the RBF kernel function. \\\n",
    "${y}_{nt |{C}, {X}} \\sim \\mathcal{N}(y_{nt}; \\mu = ({CX})_{nt}, \\sigma_n^2)$\n",
    "\n",
    "Everything is still jointly Gaussian and the marginal likelihood for GPFA also has a closed-form expression:\\\n",
    "$\\log p ({Y}) = \\log \\int p({Y} | {X}) p({X}) d{X} = \\log \\mathcal{N}(vec({Y}); { \\mu} = 0, {\\Sigma} = {\\bf K}_{yy})$\n",
    "\n",
    "However, the marginal likelihood no longer factorizes across time and ${K}_{yy} \\in \\mathbb{R}^{NT \\times NT}$ is rank $DT$.\n",
    "This leads to a computational complexity of $\\mathcal{O}(D^3 T^3)$ which can be prohibitive for longer time series.\n",
    "\n",
    "---"
   ]
  },
  {
   "cell_type": "markdown",
   "metadata": {
    "deletable": false,
    "editable": false,
    "nbgrader": {
     "cell_type": "markdown",
     "checksum": "9a5ebb6d8e54420a2bb4da4fc9f7ebab",
     "grade": false,
     "grade_id": "cell-e2d6fd2d2c2a9c75",
     "locked": true,
     "schema_version": 3,
     "solution": false,
     "task": false
    }
   },
   "source": [
    "### GPFA from a Generative Modeling Perspective\n",
    "\n",
    "Here we provide a brief example to GPFA from a generative modeling perspective. Following the steps in Section 2:\n",
    "\n",
    "1. Sample the latent variables ${X}$ from a _Gaussian Process_ using RBF kernel function.\n",
    "\n",
    "2. Project the latent variables into a high-dimensional space using ${C} \\in \\mathbb{R}^{N \\times D}$.\n",
    "\n",
    "3. Create the observations ${Y}$ with Gaussian noise by: ${y}_{nt |{C}, {X}} \\sim \\mathcal{N}(y_{nt}; \\mu = ({CX})_{nt}, \\sigma_n^2)$."
   ]
  },
  {
   "cell_type": "code",
   "execution_count": null,
   "metadata": {
    "deletable": false,
    "editable": false,
    "nbgrader": {
     "cell_type": "code",
     "checksum": "56a7ea4818e24820874959e60bde7170",
     "grade": false,
     "grade_id": "cell-ea6c630ee46a4363",
     "locked": true,
     "schema_version": 3,
     "solution": false,
     "task": false
    }
   },
   "outputs": [],
   "source": [
    "# parameters\n",
    "T = 100 # number of time points\n",
    "N = 20 # number of neurons\n",
    "D = 2 # latent dimensionality\n",
    "C = np.random.uniform(-1, 1, (N, D)) # loading matrix\n",
    "sigma_n = np.random.uniform(0.2, 0.75, N) # noise parameters\n",
    "ts = np.arange(T) # time series\n",
    "sigma = 10 # timescale in RBF kernel function"
   ]
  },
  {
   "cell_type": "markdown",
   "metadata": {
    "deletable": false,
    "editable": false,
    "nbgrader": {
     "cell_type": "markdown",
     "checksum": "59050b1e31c5532596795bfd0b170f7f",
     "grade": false,
     "grade_id": "cell-c286733c8d01118b",
     "locked": true,
     "schema_version": 3,
     "solution": false,
     "task": false
    }
   },
   "source": [
    "First, we create the RBF kernel function, resulting in a $\\mathbb{R}^{T \\times T}$ covariance matrix $K$."
   ]
  },
  {
   "cell_type": "code",
   "execution_count": null,
   "metadata": {
    "deletable": false,
    "nbgrader": {
     "cell_type": "code",
     "checksum": "12e1a01af0028e01ab77de73c302326b",
     "grade": false,
     "grade_id": "rbf_kernel",
     "locked": false,
     "schema_version": 3,
     "solution": true,
     "task": false
    }
   },
   "outputs": [],
   "source": [
    "# compute the RBF kernel\n",
    "# K = np.exp(...)\n",
    "# YOUR CODE HERE\n",
    "raise NotImplementedError()"
   ]
  },
  {
   "cell_type": "code",
   "execution_count": null,
   "metadata": {
    "deletable": false,
    "editable": false,
    "nbgrader": {
     "cell_type": "code",
     "checksum": "1a47332c6c0df5e1daa7b10836d57025",
     "grade": true,
     "grade_id": "rbf_kernel_answer",
     "locked": true,
     "points": 0,
     "schema_version": 3,
     "solution": false,
     "task": false
    }
   },
   "outputs": [],
   "source": [
    "# TEST YOUR ANSWER\n",
    "assert K.shape == (100, 100)"
   ]
  },
  {
   "cell_type": "markdown",
   "metadata": {
    "deletable": false,
    "editable": false,
    "nbgrader": {
     "cell_type": "markdown",
     "checksum": "722db96daadb9397f10499435aee3a5b",
     "grade": false,
     "grade_id": "cell-0ecd1fe3b66e9303",
     "locked": true,
     "schema_version": 3,
     "solution": false,
     "task": false
    }
   },
   "source": [
    "Then, we generate the latent variables $X$ using the _Gaussian Process_ with RBF kernel $K$.\n",
    "\n",
    "Hint: if $X \\sim \\mathcal{N}(0, K)$, then we have $X = LZ$, where $Z \\sim \\mathcal{N}(0, I)$. \n",
    "\n",
    "$L$ can be computed by cholesky decomposition with $K=LL^{T}$"
   ]
  },
  {
   "cell_type": "code",
   "execution_count": null,
   "metadata": {
    "deletable": false,
    "nbgrader": {
     "cell_type": "code",
     "checksum": "71f5e752450bf08a767da91a3c072a34",
     "grade": false,
     "grade_id": "compute_latent",
     "locked": false,
     "schema_version": 3,
     "solution": true,
     "task": false
    }
   },
   "outputs": [],
   "source": [
    "# compute L and X\n",
    "# L = np.linalg.cholesky(...+1e-8*np.eye(T)), add a small number to prevent numerical issue\n",
    "# Z = np.random.normal(...)\n",
    "# X = ...\n",
    "# YOUR CODE HERE\n",
    "raise NotImplementedError()"
   ]
  },
  {
   "cell_type": "code",
   "execution_count": null,
   "metadata": {
    "deletable": false,
    "editable": false,
    "nbgrader": {
     "cell_type": "code",
     "checksum": "657299638d1ab2105ce06eaccd4273a2",
     "grade": true,
     "grade_id": "compute_latent_answer",
     "locked": true,
     "points": 0,
     "schema_version": 3,
     "solution": false,
     "task": false
    }
   },
   "outputs": [],
   "source": [
    "# TEST YOUR ANSWER\n",
    "assert X.shape == (2, 100)"
   ]
  },
  {
   "cell_type": "markdown",
   "metadata": {
    "deletable": false,
    "editable": false,
    "nbgrader": {
     "cell_type": "markdown",
     "checksum": "7785863310b518772ffbc9a166a3309b",
     "grade": false,
     "grade_id": "cell-0f48627c3c94681d",
     "locked": true,
     "schema_version": 3,
     "solution": false,
     "task": false
    }
   },
   "source": [
    "Finally, we map the latent variables into a high-dimensional space using ${C}$, and create observations ${Y}$ with Gaussian noise."
   ]
  },
  {
   "cell_type": "code",
   "execution_count": null,
   "metadata": {
    "deletable": false,
    "nbgrader": {
     "cell_type": "code",
     "checksum": "bc0240946208fb73eafafc0207722c12",
     "grade": false,
     "grade_id": "mapping",
     "locked": false,
     "schema_version": 3,
     "solution": true,
     "task": false
    }
   },
   "outputs": [],
   "source": [
    "# map the latent variables to create observations\n",
    "# F = ... # mapping X using C\n",
    "# epsilon = np.random.normal(...)\n",
    "# Y = F + epsilon\n",
    "# YOUR CODE HERE\n",
    "raise NotImplementedError()"
   ]
  },
  {
   "cell_type": "code",
   "execution_count": null,
   "metadata": {
    "deletable": false,
    "editable": false,
    "nbgrader": {
     "cell_type": "code",
     "checksum": "a384f5bbc8c54f8416ee84b2a4ac572a",
     "grade": true,
     "grade_id": "mapping_answer",
     "locked": true,
     "points": 0,
     "schema_version": 3,
     "solution": false,
     "task": false
    }
   },
   "outputs": [],
   "source": [
    "# TEST YOUR ANSWER\n",
    "assert Y.shape == (20, 100)"
   ]
  },
  {
   "cell_type": "markdown",
   "metadata": {
    "deletable": false,
    "editable": false,
    "nbgrader": {
     "cell_type": "markdown",
     "checksum": "16b70305cff373944a7398ee56425c3a",
     "grade": false,
     "grade_id": "cell-397ced5ad4520f60",
     "locked": true,
     "schema_version": 3,
     "solution": false,
     "task": false
    }
   },
   "source": [
    "### Plot the Latent Variables $X$ and Observations $Y$"
   ]
  },
  {
   "cell_type": "code",
   "execution_count": null,
   "metadata": {
    "deletable": false,
    "editable": false,
    "nbgrader": {
     "cell_type": "code",
     "checksum": "e254e0c78573556c0b7f7387beb9c223",
     "grade": false,
     "grade_id": "cell-258abaa03ad75c3b",
     "locked": true,
     "schema_version": 3,
     "solution": false,
     "task": false
    }
   },
   "outputs": [],
   "source": [
    "fig, axs = plt.subplots(1,2, figsize=(15,5))\n",
    "\n",
    "axs[0].set_title('2-dim latent variables')\n",
    "axs[0].set_xlabel('time [s]')\n",
    "for i, y in enumerate(X):\n",
    "    axs[0].plot(ts, y, label=f'dimension {i}')\n",
    "axs[0].legend()\n",
    "\n",
    "axs[1].imshow(Y, cmap='Greys', aspect='auto')\n",
    "axs[1].set_title('observations')\n",
    "axs[1].set_xlabel('time [s]')\n",
    "axs[1].set_ylabel('neurons')"
   ]
  },
  {
   "cell_type": "markdown",
   "metadata": {
    "deletable": false,
    "editable": false,
    "nbgrader": {
     "cell_type": "markdown",
     "checksum": "b9dd9c40919844ec968923e2ef797222",
     "grade": false,
     "grade_id": "cell-37911949e01360c3",
     "locked": true,
     "schema_version": 3,
     "solution": false,
     "task": false
    }
   },
   "source": [
    "### Generate Synthetic Spike Train Dataset\n",
    "\n",
    "A synthetic spike trains could be generated by 4 steps as follows:\n",
    "\n",
    "1. Create a time series of a 2-dimensional harmonic oscillator as latent variables.\n",
    "\n",
    "2. Project the latent variables into a high-dimensional space via a random projection.\n",
    "\n",
    "3. The resulting high-dimensional time series serves as time-dependent rates for an inhomogeneous multivariate Poisson process.\n",
    "\n",
    "4. Multiple realizations of this Poisson process, which mimic spike trains from multiple trials, serve as the generated spike train data to the GPFA."
   ]
  },
  {
   "cell_type": "code",
   "execution_count": null,
   "metadata": {
    "deletable": false,
    "editable": false,
    "nbgrader": {
     "cell_type": "code",
     "checksum": "13988c2bc61bce9a718d2bd55df1dc1a",
     "grade": false,
     "grade_id": "cell-4c2454d2008226b2",
     "locked": true,
     "schema_version": 3,
     "solution": false,
     "task": false
    }
   },
   "outputs": [],
   "source": [
    "num_trials = 20\n",
    "num_neurons = 50\n",
    "times_oscillator, oscillator_latent_2dim, spiketrains_oscillator = generate_syn_data(num_trials, num_neurons)"
   ]
  },
  {
   "cell_type": "markdown",
   "metadata": {
    "deletable": false,
    "editable": false,
    "nbgrader": {
     "cell_type": "markdown",
     "checksum": "b54adf3f03d05c0821946da86592b4cf",
     "grade": false,
     "grade_id": "cell-e46d6adf056aa70a",
     "locked": true,
     "schema_version": 3,
     "solution": false,
     "task": false
    }
   },
   "source": [
    "### Plot the Synthetic Spike Train Dataset"
   ]
  },
  {
   "cell_type": "code",
   "execution_count": null,
   "metadata": {
    "deletable": false,
    "editable": false,
    "nbgrader": {
     "cell_type": "code",
     "checksum": "0cde48be08df629620487ffb16c0ad2d",
     "grade": false,
     "grade_id": "cell-7eb4197c313b426d",
     "locked": true,
     "schema_version": 3,
     "solution": false,
     "task": false
    }
   },
   "outputs": [],
   "source": [
    "fig, axs = plt.subplots(1, 3, figsize=(20, 5))\n",
    "\n",
    "axs[0].set_title('2-dim Harmonic Oscillator')\n",
    "axs[0].set_xlabel('time [s]')\n",
    "for i, y in enumerate(oscillator_latent_2dim):\n",
    "    axs[0].plot(times_oscillator, y, label=f'dimension {i}')\n",
    "axs[0].legend()\n",
    "\n",
    "axs[1].set_title('Latent variables in 2-dim space')\n",
    "axs[1].set_xlabel('Dim 1')\n",
    "axs[1].set_ylabel('Dim 2')\n",
    "axs[1].set_aspect(1)\n",
    "axs[1].plot(oscillator_latent_2dim[0], oscillator_latent_2dim[1])\n",
    "\n",
    "trial_to_plot = 0\n",
    "axs[2].set_title(f'Spike train plot of trial {trial_to_plot}')\n",
    "axs[2].set_xlabel('Time (s)')\n",
    "axs[2].set_ylabel('Neuron index')\n",
    "for i, spiketrain in enumerate(spiketrains_oscillator[trial_to_plot]):\n",
    "    axs[2].plot(spiketrain, np.ones_like(spiketrain) * i, ls='', marker='|')"
   ]
  },
  {
   "cell_type": "markdown",
   "metadata": {
    "deletable": false,
    "editable": false,
    "nbgrader": {
     "cell_type": "markdown",
     "checksum": "30b4f90323421aa5e6a8c353faf56499",
     "grade": false,
     "grade_id": "cell-1cf8e5ca6289fa79",
     "locked": true,
     "schema_version": 3,
     "solution": false,
     "task": false
    }
   },
   "source": [
    "### Perform GPFA on the Synthetic Spike Train Data\n",
    "\n",
    "First, we need to create a GPFA instance.\n",
    "\n",
    "Hint: use the GPFA in elephant package. Set the x_dim (the dimensionality of latent variables) to be 2."
   ]
  },
  {
   "cell_type": "code",
   "execution_count": null,
   "metadata": {
    "deletable": false,
    "editable": false,
    "nbgrader": {
     "cell_type": "code",
     "checksum": "01ae5c39566731ece72115b432c57fe5",
     "grade": false,
     "grade_id": "cell-06f7406e0c5501d4",
     "locked": true,
     "schema_version": 3,
     "solution": false,
     "task": false
    }
   },
   "outputs": [],
   "source": [
    "# create the gpfa instance\n",
    "gpfa = GPFA(x_dim=2)"
   ]
  },
  {
   "cell_type": "markdown",
   "metadata": {
    "deletable": false,
    "editable": false,
    "nbgrader": {
     "cell_type": "markdown",
     "checksum": "dbaad2b50eae311fd32c78bdbfb985eb",
     "grade": false,
     "grade_id": "cell-dc70b56078f65c93",
     "locked": true,
     "schema_version": 3,
     "solution": false,
     "task": false
    }
   },
   "source": [
    "Then, we need to fit the GPFA using the synthetic spike train data.\n",
    "\n",
    "Hint: use the first half of the trials for training."
   ]
  },
  {
   "cell_type": "code",
   "execution_count": null,
   "metadata": {
    "deletable": false,
    "editable": false,
    "nbgrader": {
     "cell_type": "code",
     "checksum": "55c2adc6caad548b305da7d95704ca11",
     "grade": false,
     "grade_id": "cell-7d171b86a110c6ff",
     "locked": true,
     "schema_version": 3,
     "solution": false,
     "task": false
    }
   },
   "outputs": [],
   "source": [
    "gpfa.fit(spiketrains_oscillator[:num_trials//2])\n",
    "\n",
    "# print parameters\n",
    "print(gpfa.params_estimated.keys())"
   ]
  },
  {
   "cell_type": "markdown",
   "metadata": {
    "deletable": false,
    "editable": false,
    "nbgrader": {
     "cell_type": "markdown",
     "checksum": "7b9a0f810fc5b6c1920d3269930c1c67",
     "grade": false,
     "grade_id": "cell-04bb74f410988d4f",
     "locked": true,
     "schema_version": 3,
     "solution": false,
     "task": false
    }
   },
   "source": [
    "Next, we use the remaining half of the trials as testing data, and extract their corresponding latent variables from the GPFA model.\n",
    "\n",
    "Hint: use the transform() method in gpfa instance."
   ]
  },
  {
   "cell_type": "code",
   "execution_count": null,
   "metadata": {
    "deletable": false,
    "editable": false,
    "nbgrader": {
     "cell_type": "code",
     "checksum": "3d0ac714bba3340a4a4254a4cd0f4cfe",
     "grade": false,
     "grade_id": "cell-166cf146539f204a",
     "locked": true,
     "schema_version": 3,
     "solution": false,
     "task": false
    }
   },
   "outputs": [],
   "source": [
    "latent_variables  = gpfa.transform(spiketrains_oscillator[num_trials//2:])"
   ]
  },
  {
   "cell_type": "markdown",
   "metadata": {
    "deletable": false,
    "editable": false,
    "nbgrader": {
     "cell_type": "markdown",
     "checksum": "19639538c2270f49ab19d439dc801b15",
     "grade": false,
     "grade_id": "cell-1eec353fb7f605d5",
     "locked": true,
     "schema_version": 3,
     "solution": false,
     "task": false
    }
   },
   "source": [
    "### Plot the Learned and the Original Latent Variables"
   ]
  },
  {
   "cell_type": "code",
   "execution_count": null,
   "metadata": {
    "deletable": false,
    "editable": false,
    "nbgrader": {
     "cell_type": "code",
     "checksum": "c310fcf8db274b5d3dcaf1e10a2d373d",
     "grade": false,
     "grade_id": "cell-7cb778ee54d960a7",
     "locked": true,
     "schema_version": 3,
     "solution": false,
     "task": false
    }
   },
   "outputs": [],
   "source": [
    "fig, axs = plt.subplots(1, 2, figsize=(15, 5))\n",
    "\n",
    "linewidth_single_trial = 0.5\n",
    "color_single_trial = 'C0'\n",
    "alpha_single_trial = 0.5\n",
    "\n",
    "linewidth_trial_average = 2\n",
    "color_trial_average = 'C1'\n",
    "\n",
    "axs[0].set_title('Original latent variables')\n",
    "axs[0].set_xlabel('Dim 1')\n",
    "axs[0].set_ylabel('Dim 2')\n",
    "axs[0].set_aspect(1)\n",
    "axs[0].plot(oscillator_latent_2dim[0], oscillator_latent_2dim[1])\n",
    "\n",
    "axs[1].set_title('Learned latent variables')\n",
    "axs[1].set_xlabel('Dim 1')\n",
    "axs[1].set_ylabel('Dim 2')\n",
    "axs[1].set_aspect(1)\n",
    "# single trial latent variable\n",
    "for single_trial_latent in latent_variables:\n",
    "    axs[1].plot(single_trial_latent[0], single_trial_latent[1], '-', lw=linewidth_single_trial, c=color_single_trial, alpha=alpha_single_trial)\n",
    "# trial averaged latent variable\n",
    "average_latent_variable = np.mean(latent_variables, axis=0)\n",
    "axs[1].plot(average_latent_variable[0], average_latent_variable[1], '-', lw=linewidth_trial_average, c=color_trial_average, label='Trial averaged latent variable')\n",
    "axs[1].legend()"
   ]
  }
 ],
 "metadata": {
  "kernelspec": {
   "display_name": "Python 3 (ipykernel)",
   "language": "python",
   "name": "python3"
  },
  "language_info": {
   "codemirror_mode": {
    "name": "ipython",
    "version": 3
   },
   "file_extension": ".py",
   "mimetype": "text/x-python",
   "name": "python",
   "nbconvert_exporter": "python",
   "pygments_lexer": "ipython3",
   "version": "3.10.14"
  }
 },
 "nbformat": 4,
 "nbformat_minor": 4
}
