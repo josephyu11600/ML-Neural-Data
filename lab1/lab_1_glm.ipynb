{
 "cells": [
  {
   "cell_type": "markdown",
   "metadata": {
    "deletable": false,
    "editable": false,
    "nbgrader": {
     "cell_type": "markdown",
     "checksum": "6c911dd2112ffa8756d5fd36a40cb0cf",
     "grade": false,
     "grade_id": "cell-825c4718a6a4f8e6",
     "locked": true,
     "schema_version": 3,
     "solution": false,
     "task": false
    }
   },
   "source": [
    "# Lab 1: Pytorch and Generalized Linear Models\n",
    "We'll use Python and [PyTorch](https://pytorch.org/) for the labs in this course. \n",
    "\n",
    "For the PyTorch section, it will introduce:\n",
    "- **Tensors**: PyTorch's equivalent of NumPy arrays, but with more bells and whistles for running on GPUs and supporting automatic differentiation.\n",
    "- **Broadcasting and Fancy Indexing**: If you're coming from Matlab or NumPy, you probably know that you can avoid costly for-loops by broadcasting computation over dimensions of an array (here, tensor) and using fancy indexing tricks. \n",
    "- **Distributions**: PyTorch has an excellent library of distributions for sampling, evaluating log probabilities, and much more.\n",
    "\n",
    "For the Generalized Linear Models (GLMs) section, you'll build GLMs of retinal ganglion cell (RGC) responses to visual stimuli. You'll use PyTorch to implement the models and fit them to a dataset in the \"Deep Retina\" paper [(McIntosh et al, 2017)](https://arxiv.org/abs/1702.01825).\n",
    "\n",
    "**References:**\n",
    "\n",
    "McIntosh, Lane T., Niru Maheswaranathan, Aran Nayebi, Surya Ganguli, and Stephen A. Baccus. “Deep Learning Models of the Retinal Response to Natural Scenes.” Advances in Neural Information Processing (NeurIPS), 2017."
   ]
  },
  {
   "cell_type": "code",
   "execution_count": 1,
   "metadata": {},
   "outputs": [],
   "source": [
    "using_colab = False"
   ]
  },
  {
   "cell_type": "code",
   "execution_count": 2,
   "metadata": {
    "deletable": false,
    "editable": false,
    "nbgrader": {
     "cell_type": "code",
     "checksum": "e976f4239d684143abe80fbf49046899",
     "grade": false,
     "grade_id": "cell-c0e272c83e377f66",
     "locked": true,
     "schema_version": 3,
     "solution": false,
     "task": false
    }
   },
   "outputs": [],
   "source": [
    "if using_colab:\n",
    "    # install some required python packages\n",
    "    !pip3 install neo elephant --quiet\n",
    "    import sys\n",
    "    from google.colab import drive\n",
    "    drive.mount('/content/gdrive/')\n",
    "    sys.path.append('/content/gdrive/MyDrive/CSE8803_ML_for_Neural_Behavioral_Data/')"
   ]
  },
  {
   "cell_type": "code",
   "execution_count": 3,
   "metadata": {
    "deletable": false,
    "editable": false,
    "nbgrader": {
     "cell_type": "code",
     "checksum": "6a7d6e79c30b7c46b76f8abc7e5c075b",
     "grade": false,
     "grade_id": "cell-c4be16821a1113aa",
     "locked": true,
     "schema_version": 3,
     "solution": false,
     "task": false
    }
   },
   "outputs": [
    {
     "name": "stderr",
     "output_type": "stream",
     "text": [
      "/Users/JosephYu/opt/anaconda3/envs/nbd_env/lib/python3.9/site-packages/tqdm/auto.py:21: TqdmWarning: IProgress not found. Please update jupyter and ipywidgets. See https://ipywidgets.readthedocs.io/en/stable/user_install.html\n",
      "  from .autonotebook import tqdm as notebook_tqdm\n"
     ]
    }
   ],
   "source": [
    "import torch\n",
    "import torch.nn as nn\n",
    "import torch.nn.functional as F\n",
    "from torch.utils.data import Dataset\n",
    "\n",
    "import numpy as np\n",
    "\n",
    "import h5py\n",
    "import matplotlib.pyplot as plt\n",
    "import seaborn as sns\n",
    "\n",
    "from utils import train_model, plot_stimulus_weights\n",
    "\n",
    "# Specify that we want our tensors on the CPU/GPU and in float32\n",
    "device = \"cuda\" if torch.cuda.is_available() else \"cpu\"\n",
    "dtype = torch.float32"
   ]
  },
  {
   "cell_type": "markdown",
   "metadata": {
    "deletable": false,
    "editable": false,
    "nbgrader": {
     "cell_type": "markdown",
     "checksum": "b5c2709721a303b51209becd41adb751",
     "grade": false,
     "grade_id": "cell-fc3e38c8ba64aba9",
     "locked": true,
     "schema_version": 3,
     "solution": false,
     "task": false
    }
   },
   "source": [
    "## Pytorch Primer\n",
    "\n",
    "### Constructing Tensors\n",
    "\n",
    "Tensors are PyTorch's equivalent of NumPy arrays. The PyTorch documentation already has a [great tutorial](https://pytorch.org/tutorials/beginner/basics/tensorqs_tutorial.html) on tensors.\n",
    "\n",
    "Once you've read through that, try using torch functions like `arange`, `reshape`, etc. to construct the following tensors."
   ]
  },
  {
   "cell_type": "markdown",
   "metadata": {
    "deletable": false,
    "editable": false,
    "nbgrader": {
     "cell_type": "markdown",
     "checksum": "de2a15bbcac5988e70ddf577ea42f245",
     "grade": false,
     "grade_id": "cell-f6ca270dee65833f",
     "locked": true,
     "schema_version": 3,
     "solution": false,
     "task": false
    }
   },
   "source": [
    "### Problem 1\n",
    "\n",
    "Construct the following tensor:\n",
    "\n",
    "```\n",
    "tensor([[0, 1, 2],\n",
    "        [3, 4, 5],\n",
    "        [6, 7, 8]])\n",
    "```\n",
    "\n",
    "_Note: For this problems and the ones below, don't literally construct the tensor from the specified list. Use torch functions._\n",
    "\n",
    "---"
   ]
  },
  {
   "cell_type": "code",
   "execution_count": 13,
   "metadata": {
    "deletable": false,
    "nbgrader": {
     "cell_type": "code",
     "checksum": "c9d38ec34997c61bb25ea9a09e3df348",
     "grade": false,
     "grade_id": "pytorch_1_1",
     "locked": false,
     "schema_version": 3,
     "solution": true,
     "task": false
    }
   },
   "outputs": [
    {
     "name": "stdout",
     "output_type": "stream",
     "text": [
      "tensor([[0, 1, 2],\n",
      "        [3, 4, 5],\n",
      "        [6, 7, 8]])\n"
     ]
    }
   ],
   "source": [
    "tensor = torch.arange(0,9).reshape(3,3)\n",
    "print(tensor)"
   ]
  },
  {
   "cell_type": "code",
   "execution_count": 14,
   "metadata": {
    "deletable": false,
    "editable": false,
    "nbgrader": {
     "cell_type": "code",
     "checksum": "07730662b8e9f2bdfad76f90dd49dea2",
     "grade": true,
     "grade_id": "pytorch_1_1_test",
     "locked": true,
     "points": 0.5,
     "schema_version": 3,
     "solution": false,
     "task": false
    }
   },
   "outputs": [],
   "source": [
    "# TEST YOUR ANSWER\n",
    "assert tensor.shape == (3,3)"
   ]
  },
  {
   "cell_type": "markdown",
   "metadata": {
    "deletable": false,
    "editable": false,
    "nbgrader": {
     "cell_type": "markdown",
     "checksum": "aee6b07652bb74fc972b871c8170ebd6",
     "grade": false,
     "grade_id": "cell-96306f5312dd465f",
     "locked": true,
     "schema_version": 3,
     "solution": false,
     "task": false
    }
   },
   "source": [
    "### Problem 2\n",
    "\n",
    "Construct the following tensor:\n",
    "\n",
    "```\n",
    "tensor([[0, 3, 6],\n",
    "        [1, 4, 7],\n",
    "        [2, 5, 8]])\n",
    "```\n",
    "\n",
    "---"
   ]
  },
  {
   "cell_type": "code",
   "execution_count": 15,
   "metadata": {
    "deletable": false,
    "nbgrader": {
     "cell_type": "code",
     "checksum": "602a02c1c5b6d41e78adf67ec6938d3e",
     "grade": false,
     "grade_id": "pytorch_1_2",
     "locked": false,
     "schema_version": 3,
     "solution": true,
     "task": false
    }
   },
   "outputs": [
    {
     "name": "stdout",
     "output_type": "stream",
     "text": [
      "tensor([[0, 3, 6],\n",
      "        [1, 4, 7],\n",
      "        [2, 5, 8]])\n"
     ]
    }
   ],
   "source": [
    "tensor = torch.arange(9).reshape(3,3).T\n",
    "print(tensor)"
   ]
  },
  {
   "cell_type": "code",
   "execution_count": 16,
   "metadata": {
    "deletable": false,
    "editable": false,
    "nbgrader": {
     "cell_type": "code",
     "checksum": "595d616941ace5513c58f47609c2fccb",
     "grade": true,
     "grade_id": "pytorch_1_2_test",
     "locked": true,
     "points": 0.5,
     "schema_version": 3,
     "solution": false,
     "task": false
    }
   },
   "outputs": [],
   "source": [
    "# TEST YOUR ANSWER\n",
    "assert tensor.shape == (3,3)"
   ]
  },
  {
   "cell_type": "markdown",
   "metadata": {
    "deletable": false,
    "editable": false,
    "nbgrader": {
     "cell_type": "markdown",
     "checksum": "01885714f5507c26abd53c9c91d42ecb",
     "grade": false,
     "grade_id": "cell-d1a86ddc02d7edf6",
     "locked": true,
     "schema_version": 3,
     "solution": false,
     "task": false
    }
   },
   "source": [
    "### Problem 3\n",
    "\n",
    "Construct the following tensor:\n",
    "\n",
    "```\n",
    "tensor([0, 1, 2, 3, 4, 0, 1, 2, 3, 4, 0, 1, 2, 3, 4])\n",
    "```\n",
    "\n",
    "_Note: Here the sequence is repeated 3 times. Does your code support arbitrary numbers of repeats?_\n",
    "\n",
    "---"
   ]
  },
  {
   "cell_type": "code",
   "execution_count": 32,
   "metadata": {
    "deletable": false,
    "nbgrader": {
     "cell_type": "code",
     "checksum": "ebf5d1e8f69b1622f5f606c66827984c",
     "grade": false,
     "grade_id": "pytorch_1_3",
     "locked": false,
     "schema_version": 3,
     "solution": true,
     "task": false
    }
   },
   "outputs": [
    {
     "name": "stdout",
     "output_type": "stream",
     "text": [
      "tensor([0, 1, 2, 3, 4, 0, 1, 2, 3, 4, 0, 1, 2, 3, 4])\n"
     ]
    }
   ],
   "source": [
    "x = torch.arange(0, 5)\n",
    "\n",
    "tensor = x.repeat(3)\n",
    "# YOUR CODE HERE\n",
    "print(tensor)"
   ]
  },
  {
   "cell_type": "code",
   "execution_count": 33,
   "metadata": {
    "deletable": false,
    "editable": false,
    "nbgrader": {
     "cell_type": "code",
     "checksum": "66a2355371fcf945488265b4da6730dd",
     "grade": true,
     "grade_id": "pytorch_1_3_test",
     "locked": true,
     "points": 0.5,
     "schema_version": 3,
     "solution": false,
     "task": false
    }
   },
   "outputs": [],
   "source": [
    "# TEST YOUR ANSWER\n",
    "assert tensor.shape == (15,)"
   ]
  },
  {
   "cell_type": "markdown",
   "metadata": {
    "deletable": false,
    "editable": false,
    "nbgrader": {
     "cell_type": "markdown",
     "checksum": "831a409a885992b2a90cb021085aabfc",
     "grade": false,
     "grade_id": "cell-2c7266348451afc5",
     "locked": true,
     "schema_version": 3,
     "solution": false,
     "task": false
    }
   },
   "source": [
    "### Broadcasting and Fancy Indexing\n",
    "\n",
    "Your code will be much faster once you get the hang of broadcasting and indexing. Start by reading the  [PyTorch documentation](https://pytorch.org/docs/stable/notes/broadcasting.html)."
   ]
  },
  {
   "cell_type": "markdown",
   "metadata": {
    "deletable": false,
    "editable": false,
    "nbgrader": {
     "cell_type": "markdown",
     "checksum": "f72608805ae0a7510244bb7d8845b287",
     "grade": false,
     "grade_id": "cell-bbfef2c508d55096",
     "locked": true,
     "schema_version": 3,
     "solution": false,
     "task": false
    }
   },
   "source": [
    "### Problem 1\n",
    "\n",
    "Construct a tensor `X` where `X[i,j] = i + j` by broadcasting a sum of two 1-dimensional tensors.\n",
    "\n",
    "For example, broadcast a sum to construct the following tensor, \n",
    "\n",
    "```\n",
    "tensor([[0, 1, 2],\n",
    "        [1, 2, 3],\n",
    "        [2, 3, 4],\n",
    "        [3, 4, 5]])\n",
    "```        \n",
    "\n",
    "---"
   ]
  },
  {
   "cell_type": "code",
   "execution_count": 46,
   "metadata": {
    "deletable": false,
    "nbgrader": {
     "cell_type": "code",
     "checksum": "e2d180c4404bca5dcedd2e120fa1bfd2",
     "grade": false,
     "grade_id": "pytorch_2_1",
     "locked": false,
     "schema_version": 3,
     "solution": true,
     "task": false
    }
   },
   "outputs": [
    {
     "name": "stdout",
     "output_type": "stream",
     "text": [
      "tensor([[0, 0, 0],\n",
      "        [1, 1, 1],\n",
      "        [2, 2, 2],\n",
      "        [3, 3, 3]]) \n",
      " tensor([[0, 1, 2],\n",
      "        [0, 1, 2],\n",
      "        [0, 1, 2],\n",
      "        [0, 1, 2]]) \n",
      " tensor([[0, 1, 2],\n",
      "        [1, 2, 3],\n",
      "        [2, 3, 4],\n",
      "        [3, 4, 5]])\n"
     ]
    }
   ],
   "source": [
    "x = torch.arange(0, 4).reshape(4,1)\n",
    "tensor_1 = x.repeat(1, 3)\n",
    "\n",
    "x = torch.arange(0, 3)\n",
    "tensor_2 = x.repeat(4, 1)\n",
    "tensor = tensor_1 + tensor_2\n",
    "# YOUR CODE HERE\n",
    "\n",
    "print(tensor_1,\"\\n\", tensor_2, \"\\n\", tensor)"
   ]
  },
  {
   "cell_type": "code",
   "execution_count": 47,
   "metadata": {
    "deletable": false,
    "editable": false,
    "nbgrader": {
     "cell_type": "code",
     "checksum": "1a47ea1614ad41f75f2acafcae1e7c31",
     "grade": true,
     "grade_id": "pytorch_2_1_test",
     "locked": true,
     "points": 0.5,
     "schema_version": 3,
     "solution": false,
     "task": false
    }
   },
   "outputs": [],
   "source": [
    "# TEST YOUR ANSWER\n",
    "assert (tensor == torch.tensor([[0, 1, 2],[1, 2, 3],[2, 3, 4],[3, 4, 5]])).all()"
   ]
  },
  {
   "cell_type": "markdown",
   "metadata": {
    "deletable": false,
    "editable": false,
    "nbgrader": {
     "cell_type": "markdown",
     "checksum": "ddf32788f0877eb62e3a0625f0055acf",
     "grade": false,
     "grade_id": "cell-2761c5e3a83afb3b",
     "locked": true,
     "schema_version": 3,
     "solution": false,
     "task": false
    }
   },
   "source": [
    "### Problem 2\n",
    "\n",
    "Extract the submatrix of rows `[2,3]` and columns `[0,1,4]` of the tensor,\n",
    "```\n",
    "A = torch.arange(25).reshape(5, 5)\n",
    "```\n",
    "\n",
    "Your answer should be,\n",
    "```\n",
    "tensor([[10, 11, 14],\n",
    "        [15, 16, 19]])\n",
    "```\n",
    "\n",
    "---"
   ]
  },
  {
   "cell_type": "code",
   "execution_count": 49,
   "metadata": {
    "deletable": false,
    "nbgrader": {
     "cell_type": "code",
     "checksum": "13c9adc0c594c96a0f8874b6c8cb1d80",
     "grade": false,
     "grade_id": "pytorch_2_2",
     "locked": false,
     "schema_version": 3,
     "solution": true,
     "task": false
    }
   },
   "outputs": [
    {
     "name": "stdout",
     "output_type": "stream",
     "text": [
      "tensor([[10, 11, 14],\n",
      "        [15, 16, 19]])\n"
     ]
    }
   ],
   "source": [
    "A = torch.arange(25).reshape(5, 5)\n",
    "tensor = A[2:4, (0,1,4)]\n",
    "# YOUR CODE HERE\n",
    "print(tensor)"
   ]
  },
  {
   "cell_type": "code",
   "execution_count": 50,
   "metadata": {
    "deletable": false,
    "editable": false,
    "nbgrader": {
     "cell_type": "code",
     "checksum": "45726b91b8b1ab8e3c8d530024878be3",
     "grade": true,
     "grade_id": "pytorch_2_2_test",
     "locked": true,
     "points": 0.5,
     "schema_version": 3,
     "solution": false,
     "task": false
    }
   },
   "outputs": [],
   "source": [
    "# TEST YOUR ANSWER\n",
    "assert (tensor == torch.tensor([[10, 11, 14], [15, 16, 19]])).all()"
   ]
  },
  {
   "cell_type": "markdown",
   "metadata": {
    "deletable": false,
    "editable": false,
    "nbgrader": {
     "cell_type": "markdown",
     "checksum": "01493c0f0cee2c6762649bd6c906ddf5",
     "grade": false,
     "grade_id": "cell-25c6a9e264c88820",
     "locked": true,
     "schema_version": 3,
     "solution": false,
     "task": false
    }
   },
   "source": [
    "### Problem 3\n",
    "\n",
    "Create a binary mask matrix `M` of the same shape as `A` where `M[i,j]` is True if and only if `A[i,j]` is divisible by 7. Let\n",
    "\n",
    "```\n",
    "A = torch.arange(25).reshape(5, 5)\n",
    "```\n",
    "\n",
    "Your answer should be \n",
    "\n",
    "```\n",
    "tensor([[ True, False, False, False, False],\n",
    "        [False, False,  True, False, False],\n",
    "        [False, False, False, False,  True],\n",
    "        [False, False, False, False, False],\n",
    "        [False,  True, False, False, False]])\n",
    "```\n",
    "\n",
    "---"
   ]
  },
  {
   "cell_type": "code",
   "execution_count": 55,
   "metadata": {
    "deletable": false,
    "nbgrader": {
     "cell_type": "code",
     "checksum": "ddf24ad749007c8b3639ad139394fb42",
     "grade": false,
     "grade_id": "pytorch_2_3",
     "locked": false,
     "schema_version": 3,
     "solution": true,
     "task": false
    }
   },
   "outputs": [
    {
     "name": "stdout",
     "output_type": "stream",
     "text": [
      "tensor([[ True, False, False, False, False],\n",
      "        [False, False,  True, False, False],\n",
      "        [False, False, False, False,  True],\n",
      "        [False, False, False, False, False],\n",
      "        [False,  True, False, False, False]])\n"
     ]
    }
   ],
   "source": [
    "A = torch.arange(25).reshape(5, 5)\n",
    "\n",
    "tensor = A%7==0\n",
    "# YOUR CODE HERE\n",
    "print(tensor)"
   ]
  },
  {
   "cell_type": "code",
   "execution_count": 56,
   "metadata": {
    "deletable": false,
    "editable": false,
    "nbgrader": {
     "cell_type": "code",
     "checksum": "f38db76186d51aa228fdbae8f8f69b91",
     "grade": true,
     "grade_id": "pytorch_2_3_test",
     "locked": true,
     "points": 0.5,
     "schema_version": 3,
     "solution": false,
     "task": false
    }
   },
   "outputs": [],
   "source": [
    "# TEST YOUR ANSWER\n",
    "assert (tensor == torch.tensor([[ True, False, False, False, False],\n",
    "        [False, False,  True, False, False],\n",
    "        [False, False, False, False,  True],\n",
    "        [False, False, False, False, False],\n",
    "        [False,  True, False, False, False]])).all()"
   ]
  },
  {
   "cell_type": "markdown",
   "metadata": {
    "deletable": false,
    "editable": false,
    "nbgrader": {
     "cell_type": "markdown",
     "checksum": "433b520616f5cefbb7a57e8684604252",
     "grade": false,
     "grade_id": "cell-8e7b4aa9764f6fc8",
     "locked": true,
     "schema_version": 3,
     "solution": false,
     "task": false
    }
   },
   "source": [
    "### Distributions\n",
    "\n",
    "PyTorch has an excellent library of distributions in `torch.distributions`. Read the docs [here](https://pytorch.org/docs/stable/distributions.html).\n",
    "\n",
    "We will use these distribution objects to construct and fit a Poisson mixture model."
   ]
  },
  {
   "cell_type": "markdown",
   "metadata": {
    "deletable": false,
    "editable": false,
    "nbgrader": {
     "cell_type": "markdown",
     "checksum": "af767cc343687440d70268fa1f98815d",
     "grade": false,
     "grade_id": "cell-c111991c71037dfe",
     "locked": true,
     "schema_version": 3,
     "solution": false,
     "task": false
    }
   },
   "source": [
    "### Problem 1\n",
    "\n",
    "Draw 50 samples from a Poisson distribution with rate 10.\n",
    "\n",
    "---"
   ]
  },
  {
   "cell_type": "code",
   "execution_count": 60,
   "metadata": {
    "deletable": false,
    "nbgrader": {
     "cell_type": "code",
     "checksum": "ed548a5b5bc173c551833693000457d1",
     "grade": false,
     "grade_id": "pytorch_3_1",
     "locked": false,
     "schema_version": 3,
     "solution": true,
     "task": false
    }
   },
   "outputs": [
    {
     "name": "stdout",
     "output_type": "stream",
     "text": [
      "tensor([ 7., 15., 14.,  7.,  2.,  9.,  7., 11., 13.,  9.,  9., 12., 12., 11.,\n",
      "        15.,  6.,  9., 12., 11.,  8., 15., 11., 10., 10., 11., 13.,  8., 14.,\n",
      "        13.,  8., 11.,  6.,  7.,  7., 17., 16.,  9., 13.,  8., 12., 14., 15.,\n",
      "        11.,  9., 11.,  8., 17., 12.,  9., 13.])\n"
     ]
    }
   ],
   "source": [
    "rates = 10\n",
    "poisson = torch.distributions.poisson.Poisson(rates)\n",
    "samples = poisson.sample([50])\n",
    "# YOUR CODE HERE\n",
    "print(samples)"
   ]
  },
  {
   "cell_type": "code",
   "execution_count": 61,
   "metadata": {
    "deletable": false,
    "editable": false,
    "nbgrader": {
     "cell_type": "code",
     "checksum": "c172062c9053d878fadcc1d45eeaac08",
     "grade": true,
     "grade_id": "pytorch_3_1_test",
     "locked": true,
     "points": 0.5,
     "schema_version": 3,
     "solution": false,
     "task": false
    }
   },
   "outputs": [],
   "source": [
    "# TEST YOUR ANSWER\n",
    "assert samples.shape == (50,)"
   ]
  },
  {
   "cell_type": "markdown",
   "metadata": {
    "deletable": false,
    "editable": false,
    "nbgrader": {
     "cell_type": "markdown",
     "checksum": "8905ea0da360c604e3f831af7f299b35",
     "grade": false,
     "grade_id": "cell-d4763d5f26b27b2e",
     "locked": true,
     "schema_version": 3,
     "solution": false,
     "task": false
    }
   },
   "source": [
    "### Problem 2\n",
    "\n",
    "Evaluate the log probability of the points `[1.5, 3., 4.2]` under a gamma distribution with shape (aka concentration) 2.0 and inverse scale (aka rate) 1.5.\n",
    "\n",
    "Your answer should be,\n",
    "\n",
    "```\n",
    "tensor([-1.0336, -2.5905, -4.0540])\n",
    "```\n",
    "\n",
    "---"
   ]
  },
  {
   "cell_type": "code",
   "execution_count": 65,
   "metadata": {
    "deletable": false,
    "nbgrader": {
     "cell_type": "code",
     "checksum": "e79c0116bb4643dec905a92dc3c437ef",
     "grade": false,
     "grade_id": "pytorch_3_2",
     "locked": false,
     "schema_version": 3,
     "solution": true,
     "task": false
    }
   },
   "outputs": [
    {
     "name": "stdout",
     "output_type": "stream",
     "text": [
      "tensor([-1.0336, -2.5905, -4.0540])\n"
     ]
    }
   ],
   "source": [
    "gamma = torch.distributions.gamma.Gamma(concentration=2.0, rate=1.5)\n",
    "log_prob = gamma.log_prob(torch.Tensor([1.5, 3, 4.2]))\n",
    "# YOUR CODE HERE\n",
    "print(log_prob)"
   ]
  },
  {
   "cell_type": "code",
   "execution_count": 66,
   "metadata": {
    "deletable": false,
    "editable": false,
    "nbgrader": {
     "cell_type": "code",
     "checksum": "5c0c700189b264f9b681eae5cc4e7c97",
     "grade": true,
     "grade_id": "pytorch_3_2_test",
     "locked": true,
     "points": 0.5,
     "schema_version": 3,
     "solution": false,
     "task": false
    }
   },
   "outputs": [],
   "source": [
    "# TEST YOUR ANSWER\n",
    "assert (log_prob == gamma.log_prob(torch.Tensor([1.5, 3.0, 4.2]))).all()"
   ]
  },
  {
   "cell_type": "markdown",
   "metadata": {
    "deletable": false,
    "editable": false,
    "nbgrader": {
     "cell_type": "markdown",
     "checksum": "b5f4262bf003a519b01d3abd78530875",
     "grade": false,
     "grade_id": "cell-d422d7df1929fba2",
     "locked": true,
     "schema_version": 3,
     "solution": false,
     "task": false
    }
   },
   "source": [
    "### Problem 3\n",
    "\n",
    "One of the awesome thing about PyTorch distributions is that they support broadcasting too. \n",
    "\n",
    "Construct a matrix `P` where `P[i,j]` equals $\\mathrm{Pois}(x=j; \\lambda=i)$ for $i=0,\\ldots,4$ and $j=0,\\ldots,4$.\n",
    "\n",
    "Your answer should be,\n",
    "```\n",
    "tensor([[1.0000, 0.0000, 0.0000, 0.0000, 0.0000],\n",
    "        [0.3679, 0.3679, 0.1839, 0.0613, 0.0153],\n",
    "        [0.1353, 0.2707, 0.2707, 0.1804, 0.0902],\n",
    "        [0.0498, 0.1494, 0.2240, 0.2240, 0.1680],\n",
    "        [0.0183, 0.0733, 0.1465, 0.1954, 0.1954]])\n",
    "```\n",
    "\n",
    "---"
   ]
  },
  {
   "cell_type": "code",
   "execution_count": 80,
   "metadata": {
    "deletable": false,
    "nbgrader": {
     "cell_type": "code",
     "checksum": "ec6f7a76787e099ecb88e4dc7af87463",
     "grade": false,
     "grade_id": "pytorch_3_3",
     "locked": false,
     "schema_version": 3,
     "solution": true,
     "task": false
    }
   },
   "outputs": [
    {
     "name": "stdout",
     "output_type": "stream",
     "text": [
      "tensor([[1.0000, 0.0000, 0.0000, 0.0000, 0.0000],\n",
      "        [0.3679, 0.3679, 0.1839, 0.0613, 0.0153],\n",
      "        [0.1353, 0.2707, 0.2707, 0.1804, 0.0902],\n",
      "        [0.0498, 0.1494, 0.2240, 0.2240, 0.1680],\n",
      "        [0.0183, 0.0733, 0.1465, 0.1954, 0.1954]])\n"
     ]
    }
   ],
   "source": [
    "rates = torch.arange(0, 5).reshape(5,1).repeat(1,5)\n",
    "x_values = torch.arange(0, 5).repeat(5,1)\n",
    "poisson = torch.distributions.poisson.Poisson(rate=rates)\n",
    "probs = torch.exp(poisson.log_prob(x_values))\n",
    "# YOUR CODE HERE\n",
    "print(probs)"
   ]
  },
  {
   "cell_type": "code",
   "execution_count": 81,
   "metadata": {
    "deletable": false,
    "editable": false,
    "nbgrader": {
     "cell_type": "code",
     "checksum": "3bf8b45790dd58a0377e0d1ab982fab8",
     "grade": true,
     "grade_id": "pytorch_3_3_test",
     "locked": true,
     "points": 0.5,
     "schema_version": 3,
     "solution": false,
     "task": false
    }
   },
   "outputs": [],
   "source": [
    "# TEST YOUR ANSWER\n",
    "assert probs.shape == (5,5)"
   ]
  },
  {
   "cell_type": "markdown",
   "metadata": {
    "deletable": false,
    "editable": false,
    "nbgrader": {
     "cell_type": "markdown",
     "checksum": "14a9648fbe8233acd1e01213c015d584",
     "grade": false,
     "grade_id": "cell-ea482c951614db4e",
     "locked": true,
     "schema_version": 3,
     "solution": false,
     "task": false
    }
   },
   "source": [
    "## Generalized Linear Models\n",
    "\n",
    "### Load the neural data\n",
    "\n",
    "\n",
    "Load the data from the HDF5 file.\n",
    "- Each file contains a `train` and `test` group.\n",
    "- Each group contains:\n",
    "    - `time`: length `frames` array of timestamps\n",
    "    - `stimulus`: a `frames x 50 x 50` video taken at ~100Hz\n",
    "    - `response`: a group with\n",
    "        - `binned`: `cells x frames` array of spike counts (for the training data) or rates (for the test data) in each bin\n",
    "        - `firing_rate_xms` where `x` is 5, 10, or 20 milliseconds\n",
    "\n"
   ]
  },
  {
   "cell_type": "code",
   "execution_count": 4,
   "metadata": {
    "deletable": false,
    "editable": false,
    "nbgrader": {
     "cell_type": "code",
     "checksum": "236e74409eb4b8916a18d1ffd5502851",
     "grade": false,
     "grade_id": "cell-9f962fcd02a3f3b5",
     "locked": true,
     "schema_version": 3,
     "solution": false,
     "task": false
    }
   },
   "outputs": [],
   "source": [
    "# Load the white noise data\n",
    "if using_colab:\n",
    "    f = h5py.File(\"/content/gdrive/MyDrive/CSE8803_ML_for_Neural_Behavioral_Data/data/whitenoise.h5\", mode='r')\n",
    "else:\n",
    "    f = h5py.File(\"./data/whitenoise.h5\", mode='r')\n",
    "frame_rate = 100\n",
    "times = torch.tensor(f['train']['time'][:], dtype=dtype)\n",
    "stimulus = torch.tensor(f['train']['stimulus'][:], dtype=torch.uint8)\n",
    "spikes = torch.tensor(f['train']['response']['binned'][:].T, dtype=dtype)\n",
    "test_times = torch.tensor(f['test']['time'][:], dtype=dtype)\n",
    "test_stimulus = torch.tensor(f['test']['stimulus'][:], dtype=torch.uint8)\n",
    "test_rates = torch.tensor(f['test']['response']['binned'][:, :-1].T, dtype=dtype)\n",
    "\n",
    "# Get the size of the training data\n",
    "num_frames, height, width = stimulus.shape\n",
    "_, num_neurons = spikes.shape"
   ]
  },
  {
   "cell_type": "markdown",
   "metadata": {
    "deletable": false,
    "editable": false,
    "nbgrader": {
     "cell_type": "markdown",
     "checksum": "aa126405eca51c3ad59685c96acc3c79",
     "grade": false,
     "grade_id": "cell-6219a4bd557338f8",
     "locked": true,
     "schema_version": 3,
     "solution": false,
     "task": false
    }
   },
   "source": [
    "### Plot a Slice of the Spike Train\n",
    "\n",
    "Always visualize your data first!\n",
    "\n",
    "Write a function to `imshow` a slice of the data.\n",
    "Add a colorbar and label your axes!"
   ]
  },
  {
   "cell_type": "code",
   "execution_count": 5,
   "metadata": {
    "deletable": false,
    "editable": false,
    "nbgrader": {
     "cell_type": "code",
     "checksum": "30a1f346ddc1dabb2a6500b752e1436a",
     "grade": false,
     "grade_id": "cell-3004b1a533e42715",
     "locked": true,
     "schema_version": 3,
     "solution": false,
     "task": false
    }
   },
   "outputs": [
    {
     "data": {
      "image/png": "[encoded data removed]",
      "text/plain": [
       "<Figure size 1200x600 with 2 Axes>"
      ]
     },
     "metadata": {},
     "output_type": "display_data"
    }
   ],
   "source": [
    "# Plot a few seconds of the spike train\n",
    "def plot_spike_train(spikes, t_start, t_stop, figsize=(12, 6)):\n",
    "    \"\"\"\n",
    "    `imshow` a window of the spike count matrix.\n",
    "\n",
    "    spikes:  time x neuron spike count matrix\n",
    "    t_start: time (in seconds) of the start of the window\n",
    "    t_stop:  time (in seconds) of the end of the window\n",
    "    figsize: width and height of the figure in inches\n",
    "    \"\"\"\n",
    "    plt.figure(figsize=figsize)\n",
    "\n",
    "    plt.imshow(spikes[t_start*frame_rate:t_stop*frame_rate, :].T, aspect=20)\n",
    "    plt.colorbar(shrink=0.6)\n",
    "    plt.ylabel(\"neuron\")\n",
    "    plt.yticks(np.arange(0,9), np.arange(1,10))\n",
    "\n",
    "    plt.xlabel(\"time [sec]\")\n",
    "    plt.xticks(np.arange(0,(t_stop-t_start+1)*frame_rate, frame_rate), np.arange(0,6))\n",
    "\n",
    "plot_spike_train(spikes, 0, 5)"
   ]
  },
  {
   "cell_type": "markdown",
   "metadata": {
    "deletable": false,
    "editable": false,
    "nbgrader": {
     "cell_type": "markdown",
     "checksum": "0a2f00f3c7efe45f42265b40ddb8d91b",
     "grade": false,
     "grade_id": "cell-a49b8a68bdd98ab9",
     "locked": true,
     "schema_version": 3,
     "solution": false,
     "task": false
    }
   },
   "source": [
    "### Plot a Few Frames of the Stimulus\n",
    "\n",
    "Plot the 0th, 10th, 20th, and 30th frames of stimulus in grayscale."
   ]
  },
  {
   "cell_type": "code",
   "execution_count": 6,
   "metadata": {
    "deletable": false,
    "editable": false,
    "nbgrader": {
     "cell_type": "code",
     "checksum": "049356d5386fe935be24ca185db065c5",
     "grade": false,
     "grade_id": "cell-e0454e19252377de",
     "locked": true,
     "schema_version": 3,
     "solution": false,
     "task": false
    }
   },
   "outputs": [
    {
     "data": {
      "image/png": "[encoded data removed]",
      "text/plain": [
       "<Figure size 1600x400 with 4 Axes>"
      ]
     },
     "metadata": {},
     "output_type": "display_data"
    }
   ],
   "source": [
    "# Plot a few frames of stimulus\n",
    "def plot_stimulus(stimulus, frame_inds, n_cols=4, panel_size=4):\n",
    "    num_frames = len(frame_inds)\n",
    "    n_rows = int(torch.ceil(torch.tensor(num_frames / n_cols)))\n",
    "    fig, axs = plt.subplots(\n",
    "        n_rows, n_cols, figsize=(n_cols * panel_size, n_rows * panel_size))\n",
    "    for ax, ind in zip(axs.ravel(), frame_inds):\n",
    "        ax.imshow(stimulus[ind], cmap=\"Greys\")\n",
    "        ax.set_title(\"Stimulus Frame {}\".format(ind))\n",
    "        ax.set_xticks([])\n",
    "        ax.set_yticks([])\n",
    "    for ax in axs.ravel()[len(frame_inds):]:\n",
    "        ax.set_visible(False)\n",
    "    \n",
    "plot_stimulus(stimulus, [0, 10, 20, 30])\n"
   ]
  },
  {
   "cell_type": "markdown",
   "metadata": {
    "deletable": false,
    "editable": false,
    "nbgrader": {
     "cell_type": "markdown",
     "checksum": "fb3bfef1538bf3c891a3ad3e6a723d11",
     "grade": false,
     "grade_id": "cell-1a396a2e2419fe18",
     "locked": true,
     "schema_version": 3,
     "solution": false,
     "task": false
    }
   },
   "source": [
    "### Create PyTorch Datasets Containing the Stimuli and the Spikes.\n",
    "We split the training stimulus and spikes into batches of length 1000 frames (10 seconds of data). Then we'll randomly assign 20% of the batches to a validation dataset. We've written a simple dataset to get the training and validation batches. For stability, we normalize the stimulus to be binary rather than 0 or 128, as in the raw data."
   ]
  },
  {
   "cell_type": "code",
   "execution_count": 65,
   "metadata": {
    "deletable": false,
    "editable": false,
    "nbgrader": {
     "cell_type": "code",
     "checksum": "cb9d81b31d0da5f972561bcd01086165",
     "grade": false,
     "grade_id": "cell-6848acc347dd3d5f",
     "locked": true,
     "schema_version": 3,
     "solution": false,
     "task": false
    }
   },
   "outputs": [],
   "source": [
    "class RGCDataset(Dataset):\n",
    "    def __init__(self, stimulus, spikes):\n",
    "        self.stimulus = stimulus\n",
    "        self.spikes = spikes\n",
    "\n",
    "    def __len__(self):\n",
    "        return self.stimulus.shape[0]\n",
    "\n",
    "    def __getitem__(self, idx):\n",
    "        # Binarize the stimulus, move it and the spikes to the GPU,\n",
    "        # and package into a dictionary\n",
    "        x = self.stimulus[idx].to(device).type(dtype) / 128.0\n",
    "        y = self.spikes[idx].to(device)\n",
    "        return dict(stimulus=x, spikes=y)\n",
    "\n",
    "def make_datasets(batch_size=1000):\n",
    "    n_batches = num_frames // batch_size\n",
    "    batched_stimulus = stimulus[:n_batches * batch_size]\n",
    "    batched_stimulus = batched_stimulus.reshape(n_batches, batch_size, height, width)\n",
    "    batched_spikes = spikes[:n_batches * batch_size]\n",
    "    batched_spikes = batched_spikes.reshape(n_batches, batch_size, num_neurons)\n",
    "\n",
    "    # Split into train and validation\n",
    "    torch.manual_seed(0)\n",
    "    n_train = int(0.8 * n_batches)\n",
    "    order = torch.randperm(n_batches)\n",
    "    train_stimulus = batched_stimulus[:n_train]\n",
    "    val_stimulus = batched_stimulus[n_train:]\n",
    "    train_spikes = batched_spikes[:n_train]\n",
    "    val_spikes = batched_spikes[n_train:]\n",
    "\n",
    "    train_dataset = RGCDataset(train_stimulus, train_spikes)\n",
    "    val_dataset = RGCDataset(val_stimulus, val_spikes)\n",
    "    return train_dataset, val_dataset\n",
    "\n",
    "train_dataset, val_dataset = make_datasets()"
   ]
  },
  {
   "cell_type": "markdown",
   "metadata": {
    "deletable": false,
    "editable": false,
    "nbgrader": {
     "cell_type": "markdown",
     "checksum": "cc2bf529fa995b005b404a5bf7df7e9d",
     "grade": false,
     "grade_id": "cell-2fb83e849daa22ea",
     "locked": true,
     "schema_version": 3,
     "solution": false,
     "task": false
    }
   },
   "source": [
    "### What is a GLM ?\n",
    "\n",
    "---\n",
    "\n",
    "Let's start with a simple generalized linear model (GLM). GLMs are natural models for count data, like spike counts. Whereas standard linear models could ouput negative means, these models are constrained to output non-negative expected spike counts. Moreover, since they use a Poisson noise model, the variance of the spike counts will grow with the mean, unlike in typical linear regression models.\n",
    "\n",
    "The basic GLM is,\n",
    "\n",
    "$$\n",
    "\\begin{aligned}\n",
    "\\widetilde{y}_{t,n} &= f \\left(\\sum_{d=1}^D \\sum_{i=1}^{P_H} \\sum_{j=1}^{P_W} x_{t-d,i,j} w_{n,d,i,j} \\right)\n",
    "\\end{aligned}\n",
    "$$\n",
    "\n",
    "where $\\widetilde{y}_{t,n}$ is the prediceted spike firing rate for neuron $n$ at time $t$, $\\mathbf{X} \\in \\mathbb{R}^{D \\times P_h \\times P_W}$ are the stimulus where entry $x_{d,i,j}$ is the simulus at pixel $i,j$ at $d$ frames, and $\\mathbf{W}_n \\in \\mathbb{R}^{D \\times P_h \\times P_W}$ are the weights where entry $w_{n,d,i,j}$ is the weight neuron $n$ gives to the simulus at pixel $i,j$ at $d$ frames preceding the current time. \n",
    "\n",
    "Assume the weights factor into a **spatial footprint** $\\mathbf{u}_n \\in \\mathbb{R}^{P_H \\times P_W}$ times a **temporal profile** $\\mathbf{v}_n \\in \\mathbb{R}^D$.\n",
    "\n",
    "$$\n",
    "w_{n,d,i,j} = v_{n,d} u_{n,i,j}\n",
    "$$\n",
    "\n",
    "Then the prediceted spike firing rate can be written as,\n",
    "\n",
    "$$\n",
    "\\begin{aligned}\n",
    "\\widetilde{y}_{t,n} &= f \\left( \\sum_{d=1}^D v_{n,d} \\left(\\sum_{i=1}^{P_H} \\sum_{j=1}^{P_W} x_{t-d,i,j} u_{n,i,j} \\right) \\right) \\\\\n",
    "&= f \\left( \\sum_{d=1}^D v_{n,d} \\tilde{x}_{n,t-d} \\right) \\\\\n",
    "&= f \\left( a_{t,n} \\right)\n",
    "\\end{aligned}\n",
    "$$\n",
    "\n",
    "where \n",
    "\n",
    "$$\n",
    "a_{t,n} = [\\tilde{\\mathbf{x}}_n \\star \\mathbf{v}_n]_t\n",
    "$$\n",
    "\n",
    "is the **activation** of neuron $n$ at time $t$. The activation is a cross-correlation (convolution in PyTorch) between $\\tilde{\\mathbf{x}}_{n} \\in \\mathbb{R}^T$, the stimulus projected onto the spatial filter for neuron $n$, and $\\mathbf{v}_n$, the temporal profile for neuron $n$. The mean function $f: \\mathbb{R} \\to \\mathbb{R}_+$ maps activation to a non-negative expected spike count.\n",
    "\n",
    "Once we compute $\\widetilde{y}_{t,n}=f ( a_{t,n} )$, we then compute the likelihood function based on a Poisson regression model:\n",
    "\n",
    "$$\n",
    "\\begin{aligned}\n",
    "\\log p(y_{t,n}; \\mathbf{X} \\mathbf{W}_n) &= \\mathrm{Po}(y_{t,n}; f ( a_{t,n} )) \\\\\n",
    "&= \\log f( a_{t,n})- f ( a_{t,n} ) - \\log(y_{t,n}!)\n",
    "\\\\ & = y_{t,n} a_{t,n}- \\exp ( a_{t,n} ) - \\log(y_{t,n}!)\n",
    "\\end{aligned}\n",
    "$$\n",
    "\n",
    "where $y_{t,n}$ is the spike counts for neuron $n$ at time $t$ and $f(a) = e^a$.\n",
    "\n",
    "Summing across samples in $t$ leads to the full likelihood for estimating the parameters for a given neuron. We can do this simultaneously across all neurons by summing over $n$ too, as gradient descent will independently update each neuron's parameters.\n",
    "\n",
    "---"
   ]
  },
  {
   "cell_type": "markdown",
   "metadata": {
    "deletable": false,
    "editable": false,
    "nbgrader": {
     "cell_type": "markdown",
     "checksum": "a210ddef4fb18b2c22354fdf5aed11e4",
     "grade": false,
     "grade_id": "cell-7b8f4a2559354de6",
     "locked": true,
     "schema_version": 3,
     "solution": false,
     "task": false
    }
   },
   "source": [
    "### Implement the GLM\n",
    "\n",
    "Let's start by implementing the GLM model as a class that inherits from `nn.Module`. The  `forward` method returns the mean spike count for each time bin\n",
    "given the stimulus. In the loss function below, we'll pass this output to the mean of a Poisson distribution.\n",
    "\n",
    "**Notes:**\n",
    "- You should first project the stimulus onto the spatial filters with a linear layer, then you can convolve with the temporal filters.\n",
    "- Even though the spatial projection is a linear layer, we'll call it `spatial_conv` since its a factor of a spatiotemporal convolution. This naming will also be consistent with our models below.\n",
    "- Both `spatial_conv` and `temporal_conv` include a learnable bias, by default. We only need one, so turn off the bias in the spatial layer.\n",
    "- `mean_function` specifies the mapping from the linear predictor to the expected spike count. We'll use an exponential function to be consistent with the lecture, but `F.softplus` is more common in practice. (It tends to be a little more stable during training.\n",
    "- We set the initial bias to a value that is roughly the log of the average spike count so that our initial means are in the right ballpark.\n",
    "- We'll add a small positive constant to the firing rate in the `forward` function to ensure that we don't get `log(0)` errors during training.\n",
    "\n",
    "\n",
    "You'll use the `torch.nn.Conv1d` object, which implements a convolutional layer for a neural network.  Take a look at its documentation [here](https://pytorch.org/docs/stable/generated/torch.nn.Conv1d.html).\n",
    "\n",
    "**Remember that `Conv1d` actually performs a cross-correlation!** \n",
    "\n",
    "Let $\\mathbf{A} \\in \\mathbb{R}^{B \\times K \\times T}$ denote the signal/input and $\\mathbf{J} \\in \\mathbb{R}^{N \\times K \\times D}$ denote the filter/weights, and let $\\mathbf{G} \\in \\mathbb{R}^{B \\times N \\times T - D + 1}$ denote the output. Then the `Conv1d` implements the cross-correlation, \n",
    "\n",
    "$$\n",
    "\\begin{align*}\n",
    "g_{b,n,t} = \\sum_{k = 1}^{K} \\sum_{d=1}^D a_{b,k,t+d-1} j_{n,k,d}.\n",
    "\\end{align*}\n",
    "$$\n",
    "\n",
    "for $b=1,\\ldots,B$, $n=1,\\ldots,N$, and $t=1,\\ldots,T-D+1$. \n",
    "\n",
    "By default the output only contains the \"valid\" portion of the convolution; i.e. the $T-D+1$ samples where the inputs and weights completely overlap. If you want the \"full\" output, you have to add `padding=D-1`. This pads the input with $D-1$ zeros at the beginning and end so that the resulting output is length $T + D - 1$. Depending your application, you may want the first $T$ or the last $T$ entries in this array."
   ]
  },
  {
   "cell_type": "code",
   "execution_count": 49,
   "metadata": {
    "deletable": false,
    "nbgrader": {
     "cell_type": "code",
     "checksum": "ef2124564575bc14b5e7b3c5c70789e7",
     "grade": false,
     "grade_id": "glm_1",
     "locked": false,
     "schema_version": 3,
     "solution": true,
     "task": false
    }
   },
   "outputs": [],
   "source": [
    "class GLM(nn.Module):\n",
    "    def __init__(self,\n",
    "                 num_neurons=num_neurons,\n",
    "                 height=height,\n",
    "                 width=width,\n",
    "                 max_delay=40,\n",
    "                 mean_function=torch.exp,\n",
    "                 initial_bias=0.05):\n",
    "        super(GLM, self).__init__()\n",
    "        self.num_neurons = num_neurons\n",
    "        self.height = height\n",
    "        self.width = width\n",
    "        self.max_delay = max_delay\n",
    "        self.mean_function = mean_function\n",
    "\n",
    "        self.spatial_conv = nn.Linear(in_features=self.height*self.width, out_features=1, bias=False)\n",
    "        self.temporal_conv = nn.Conv1d(in_channels=1, out_channels=self.num_neurons, kernel_size=self.max_delay, groups=1, padding=self.max_delay-1)\n",
    "\n",
    "        # Initialize the bias\n",
    "        torch.nn.init.constant_(self.temporal_conv.bias, \n",
    "                                torch.log(torch.tensor(initial_bias)))\n",
    "\n",
    "    def forward(self, stimulus):\n",
    "        \"\"\"\n",
    "        stimulus: num_frames x height x width\n",
    "        \n",
    "        returns: num_frames x num_neurons tensor of expected spike counts\n",
    "        \"\"\"\n",
    "        x = stimulus\n",
    "        \n",
    "        ###\n",
    "        # x_tilde = self.spatial_conv(...) # num_frames x 1\n",
    "        # a = self.temporal_conv(...).T # num_frames x num_neurons\n",
    "        ###\n",
    "\n",
    "        x_tilde = self.spatial_conv(x.view(x.shape[0], -1)).reshape(1, x.shape[0])\n",
    "        a = self.temporal_conv(x_tilde).T\n",
    "        rate = self.mean_function(a)[:x.shape[0], :]\n",
    "\n",
    "        return 1e-4 + rate"
   ]
  },
  {
   "cell_type": "code",
   "execution_count": 50,
   "metadata": {
    "deletable": false,
    "editable": false,
    "nbgrader": {
     "cell_type": "code",
     "checksum": "97c6ffc72bf0dec0d5d7b088a490be08",
     "grade": true,
     "grade_id": "glm_1_test",
     "locked": true,
     "points": 2,
     "schema_version": 3,
     "solution": false,
     "task": false
    }
   },
   "outputs": [
    {
     "data": {
      "text/plain": [
       "tensor([[0.0509, 0.0505, 0.0492,  ..., 0.0496, 0.0503, 0.0492],\n",
       "        [0.0533, 0.0510, 0.0457,  ..., 0.0481, 0.0508, 0.0464],\n",
       "        [0.0506, 0.0473, 0.0469,  ..., 0.0489, 0.0509, 0.0482],\n",
       "        ...,\n",
       "        [0.0333, 0.0666, 0.0431,  ..., 0.0291, 0.0535, 0.0373],\n",
       "        [0.0543, 0.0460, 0.0432,  ..., 0.0487, 0.0629, 0.0625],\n",
       "        [0.0616, 0.0350, 0.0517,  ..., 0.0434, 0.0444, 0.0460]],\n",
       "       grad_fn=<AddBackward0>)"
      ]
     },
     "execution_count": 50,
     "metadata": {},
     "output_type": "execute_result"
    }
   ],
   "source": [
    "# TEST YOUR ANSWER\n",
    "torch.manual_seed(0)\n",
    "glm = GLM().to(device)\n",
    "output = glm(torch.randn(train_dataset[0]['stimulus'].shape).to(device))\n",
    "output"
   ]
  },
  {
   "cell_type": "markdown",
   "metadata": {
    "deletable": false,
    "editable": false,
    "nbgrader": {
     "cell_type": "markdown",
     "checksum": "08b5ebe91c6de8a0cce95ae356803d46",
     "grade": false,
     "grade_id": "cell-433927ed690bb9d1",
     "locked": true,
     "schema_version": 3,
     "solution": false,
     "task": false
    }
   },
   "source": [
    "### Implement the Poisson Loss\n",
    "Compute the average negative log likelihood of the spikes (taking the mean over neurons and frames) given the expected spike counts (`rates`) ouput by the model. \n",
    "\n",
    "$$\n",
    "\\begin{aligned}\n",
    "\\mathcal{L}(\\mathbf{W}) = -\\frac{1}{NT} \\sum_{n=1}^N \\sum_{t=1}^T \\log \\mathrm{Po}(y_{t,n} \\mid f(a_{t,n}))\n",
    "\\end{aligned}\n",
    "$$\n"
   ]
  },
  {
   "cell_type": "code",
   "execution_count": 69,
   "metadata": {
    "deletable": false,
    "nbgrader": {
     "cell_type": "code",
     "checksum": "6a6288719ac0752aabdceb14b35ab4e4",
     "grade": false,
     "grade_id": "glm_2",
     "locked": false,
     "schema_version": 3,
     "solution": true,
     "task": false
    }
   },
   "outputs": [],
   "source": [
    "def poisson_loss(rate, spikes):\n",
    "    \"\"\"Compute the log-likelihood under a Poisson spiking model.\n",
    "\n",
    "    rate:  T x N array of expected spike counts\n",
    "    spikes: T x N array of integer spikes\n",
    "    returns: average negative log likelihood (mean over all spikes)\n",
    "    \"\"\"\n",
    "    ###\n",
    "    # poisson = torch.distributions.poisson.Poisson(...)\n",
    "    # avg_nll = ...\n",
    "    ###\n",
    "\n",
    "    poisson = torch.distributions.poisson.Poisson(rate)\n",
    "    avg_nll = -poisson.log_prob(spikes).mean()\n",
    "\n",
    "    return avg_nll"
   ]
  },
  {
   "cell_type": "code",
   "execution_count": 70,
   "metadata": {
    "deletable": false,
    "editable": false,
    "nbgrader": {
     "cell_type": "code",
     "checksum": "3c65a1ade98fa73ef0301b5c4ca4f011",
     "grade": true,
     "grade_id": "glm_2_test",
     "locked": true,
     "points": 2,
     "schema_version": 3,
     "solution": false,
     "task": false
    }
   },
   "outputs": [
    {
     "name": "stdout",
     "output_type": "stream",
     "text": [
      "tensor(0.2641, grad_fn=<NegBackward0>)\n"
     ]
    }
   ],
   "source": [
    "# TEST YOUR ANSWER\n",
    "avg_nll = poisson_loss(glm(train_dataset[0]['stimulus']), train_dataset[0]['spikes'])\n",
    "print(avg_nll)"
   ]
  },
  {
   "cell_type": "markdown",
   "metadata": {
    "deletable": false,
    "editable": false,
    "nbgrader": {
     "cell_type": "markdown",
     "checksum": "0fcd3c4952c4d698cc7b108f698f3ae0",
     "grade": false,
     "grade_id": "cell-0920b2ac4570a918",
     "locked": true,
     "schema_version": 3,
     "solution": false,
     "task": false
    }
   },
   "source": [
    "### Add $\\ell_2$ Weight Regularization\n",
    "\n",
    "To the Poisson loss above, we'll add a regularization penalty on the squared $\\ell_2$ norm of the weights,\n",
    "\n",
    "$$\n",
    "\\begin{aligned}\n",
    "\\mathcal{R}(\\mathbf{W}) &= \\frac{\\alpha}{2} \\sum_{n=1}^N (\\|\\mathbf{u}_n\\|_F^2 + \\|\\mathbf{v}_n\\|_F^2)\n",
    "\\end{aligned}\n",
    "$$\n",
    "\n",
    "where $\\mathbf{u}_n$ and $\\mathbf{v}_n$ are the spatial and temporal weights for neuron $n$, respectively, and $\\alpha$ is a scaling factor.\n",
    "\n",
    "Do not regularize the biases.\n"
   ]
  },
  {
   "cell_type": "code",
   "execution_count": null,
   "metadata": {
    "deletable": false,
    "nbgrader": {
     "cell_type": "code",
     "checksum": "b7896f3b48b5a74e8bb6fcd0cd9c6cc4",
     "grade": false,
     "grade_id": "glm_3",
     "locked": false,
     "schema_version": 3,
     "solution": true,
     "task": false
    }
   },
   "outputs": [],
   "source": [
    "def glm_regularizer(model, alpha=1e-3):\n",
    "    \"\"\"Compute the log prior probability under a mean-zero Gaussian model.\n",
    "\n",
    "    model: GLM instance\n",
    "    scale: standard deviation \n",
    "    returns: scalar sum of log probabilities for each spike.\n",
    "    \"\"\"\n",
    "    ###\n",
    "    # reg = ...\n",
    "    # YOUR CODE HERE\n",
    "    raise NotImplementedError()\n",
    "    ###\n",
    "    \n",
    "    return reg"
   ]
  },
  {
   "cell_type": "markdown",
   "metadata": {
    "deletable": false,
    "editable": false,
    "nbgrader": {
     "cell_type": "markdown",
     "checksum": "fe871e343970b4ade9c0faed3f5e569e",
     "grade": false,
     "grade_id": "cell-bf1096efdab7327c",
     "locked": true,
     "schema_version": 3,
     "solution": false,
     "task": false
    }
   },
   "source": [
    "### Fit the GLM !"
   ]
  },
  {
   "cell_type": "code",
   "execution_count": null,
   "metadata": {
    "deletable": false,
    "editable": false,
    "nbgrader": {
     "cell_type": "code",
     "checksum": "2519a304b12cf2eb7dc54a402240087a",
     "grade": false,
     "grade_id": "1234123123",
     "locked": true,
     "schema_version": 3,
     "solution": false,
     "task": false
    }
   },
   "outputs": [],
   "source": [
    "# Construct an GLM with random initial weights.\n",
    "torch.manual_seed(0)\n",
    "glm = GLM().to(device)\n",
    "\n",
    "# Fit the GLM\n",
    "print(\"Training GLM...\")\n",
    "train_losses, val_losses = \\\n",
    "    train_model(glm, \n",
    "                train_dataset, \n",
    "                val_dataset, \n",
    "                poisson_loss,\n",
    "                glm_regularizer)"
   ]
  },
  {
   "cell_type": "code",
   "execution_count": null,
   "metadata": {
    "deletable": false,
    "editable": false,
    "nbgrader": {
     "cell_type": "code",
     "checksum": "98f9a1bf7bc438b6c8aa1766c7628d98",
     "grade": true,
     "grade_id": "glm_3_test",
     "locked": true,
     "points": 1,
     "schema_version": 3,
     "solution": false,
     "task": false
    }
   },
   "outputs": [],
   "source": [
    "# TEST YOUR ANSWER\n",
    "print(train_losses[-1], val_losses[-1])"
   ]
  },
  {
   "cell_type": "markdown",
   "metadata": {
    "deletable": false,
    "editable": false,
    "nbgrader": {
     "cell_type": "markdown",
     "checksum": "f1df4a572d46e93a00c45a24af66f219",
     "grade": false,
     "grade_id": "cell-5934ecaacbfd9d4e",
     "locked": true,
     "schema_version": 3,
     "solution": false,
     "task": false
    }
   },
   "source": [
    "### Plot the Results"
   ]
  },
  {
   "cell_type": "code",
   "execution_count": null,
   "metadata": {
    "deletable": false,
    "editable": false,
    "nbgrader": {
     "cell_type": "code",
     "checksum": "e40f1ee13d1f6639a12a515d4ef0d217",
     "grade": false,
     "grade_id": "cell-561fc41057f286c4",
     "locked": true,
     "schema_version": 3,
     "solution": false,
     "task": false
    }
   },
   "outputs": [],
   "source": [
    "sns.set_context(\"notebook\")\n",
    "\n",
    "# initialize a color palette for plotting\n",
    "palette = sns.xkcd_palette([\"windows blue\",\n",
    "                            \"red\",\n",
    "                            \"medium green\",\n",
    "                            \"dusty purple\",\n",
    "                            \"orange\",\n",
    "                            \"amber\",\n",
    "                            \"clay\",\n",
    "                            \"pink\",\n",
    "                            \"greyish\"])\n",
    "\n",
    "\n",
    "# Plot the training and validation curves\n",
    "plt.plot(train_losses, color=palette[0], label=\"train\")\n",
    "plt.plot(val_losses, color=palette[1], ls='--', label=\"validation\")\n",
    "plt.xlabel(\"epoch\")\n",
    "plt.ylabel(\"poisson loss\")\n",
    "plt.grid(True)\n",
    "plt.legend(loc=\"upper right\")\n",
    "\n",
    "plt.tight_layout()"
   ]
  },
  {
   "cell_type": "markdown",
   "metadata": {
    "deletable": false,
    "editable": false,
    "nbgrader": {
     "cell_type": "markdown",
     "checksum": "2443e3bf9104daea393aa013b6332eeb",
     "grade": false,
     "grade_id": "cell-64a3b83f1538c949",
     "locked": true,
     "schema_version": 3,
     "solution": false,
     "task": false
    }
   },
   "source": [
    "### How do we interpret the temporal and spatial weights? "
   ]
  },
  {
   "cell_type": "code",
   "execution_count": null,
   "metadata": {
    "deletable": false,
    "nbgrader": {
     "cell_type": "code",
     "checksum": "6042b78e01fa15fe7fcc2f28c9c391b0",
     "grade": true,
     "grade_id": "glm_5",
     "locked": false,
     "points": 0.5,
     "schema_version": 3,
     "solution": true,
     "task": false
    }
   },
   "outputs": [],
   "source": [
    "plot_stimulus_weights(glm)\n",
    "\n",
    "## Explain the meaning of temporal and spatial weights here:\n",
    "\n",
    "# YOUR CODE HERE\n",
    "raise NotImplementedError()"
   ]
  },
  {
   "cell_type": "code",
   "execution_count": null,
   "metadata": {},
   "outputs": [],
   "source": []
  }
 ],
 "metadata": {
  "kernelspec": {
   "display_name": "Python 3 (ipykernel)",
   "language": "python",
   "name": "python3"
  },
  "language_info": {
   "codemirror_mode": {
    "name": "ipython",
    "version": 3
   },
   "file_extension": ".py",
   "mimetype": "text/x-python",
   "name": "python",
   "nbconvert_exporter": "python",
   "pygments_lexer": "ipython3",
   "version": "3.9.19"
  }
 },
 "nbformat": 4,
 "nbformat_minor": 4
}
